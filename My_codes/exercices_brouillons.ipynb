{
 "cells": [
  {
   "cell_type": "code",
   "execution_count": 1,
   "metadata": {},
   "outputs": [],
   "source": [
    "import numpy as np\n",
    "import pandas as pd\n",
    "import matplotlib.pyplot as plt\n",
    "import math"
   ]
  },
  {
   "cell_type": "code",
   "execution_count": 2,
   "metadata": {},
   "outputs": [],
   "source": [
    "rnd = np.random.normal(0.89, 0.01, size = 50)\n",
    "GT = 0.9"
   ]
  },
  {
   "cell_type": "markdown",
   "metadata": {},
   "source": [
    "Le but ici mtn c'est de voir si je peux faire un histogramme avec une ligne droite positionnée en GT. "
   ]
  },
  {
   "cell_type": "code",
   "execution_count": 3,
   "metadata": {},
   "outputs": [
    {
     "data": {
      "image/png": "[encoded data removed]",
      "text/plain": [
       "<Figure size 432x288 with 1 Axes>"
      ]
     },
     "metadata": {
      "needs_background": "light"
     },
     "output_type": "display_data"
    }
   ],
   "source": [
    "plt.rcParams.update({'font.size': 18})\n",
    "\n",
    "\n",
    "binwidth = 0.01\n",
    "histo = plt.hist(rnd, label = 'My_histo', bins=np.arange(0.8, 1 + binwidth, binwidth))\n",
    "\n",
    "plt.axvline(x=GT, label='GT = ' + str(GT), c='DarkOrange', linewidth=4)\n",
    "plt.xlabel('x label')\n",
    "plt.xlim([0.8, 1])\n",
    "\n",
    "plt.legend()\n",
    "plt.show()"
   ]
  },
  {
   "cell_type": "markdown",
   "metadata": {},
   "source": [
    "aller chercher le premier qui est en dessous de max(histo[0])/10"
   ]
  },
  {
   "cell_type": "code",
   "execution_count": 12,
   "metadata": {},
   "outputs": [
    {
     "name": "stdout",
     "output_type": "stream",
     "text": [
      "(20,)\n",
      "(21,)\n"
     ]
    }
   ],
   "source": [
    "print(histo[0].shape)\n",
    "print(histo[1].shape)"
   ]
  },
  {
   "cell_type": "code",
   "execution_count": 13,
   "metadata": {},
   "outputs": [
    {
     "name": "stdout",
     "output_type": "stream",
     "text": [
      "i =  0\n",
      "x =  0.8\n",
      "i =  1\n",
      "x =  0.81\n",
      "i =  2\n",
      "x =  0.8200000000000001\n",
      "i =  3\n",
      "x =  0.8300000000000001\n",
      "i =  4\n",
      "x =  0.8400000000000001\n",
      "i =  5\n",
      "x =  0.8500000000000001\n",
      "i =  6\n",
      "x =  0.8600000000000001\n",
      "i =  7\n",
      "x =  0.8700000000000001\n",
      "i =  8\n",
      "x =  0.8800000000000001\n",
      "i =  9\n",
      "x =  0.8900000000000001\n",
      "i =  10\n",
      "x =  0.9000000000000001\n",
      "i =  11\n",
      "x =  0.9100000000000001\n",
      "i =  12\n",
      "x =  0.9200000000000002\n",
      "i =  13\n",
      "x =  0.9300000000000002\n",
      "i =  14\n",
      "x =  0.9400000000000002\n",
      "i =  15\n",
      "x =  0.9500000000000002\n",
      "i =  16\n",
      "x =  0.9600000000000002\n",
      "i =  17\n",
      "x =  0.9700000000000002\n",
      "i =  18\n",
      "x =  0.9800000000000002\n",
      "i =  19\n",
      "x =  0.9900000000000002\n",
      "i =  20\n",
      "x =  1.0000000000000002\n"
     ]
    }
   ],
   "source": [
    "valeur = max(histo[0])/10\n",
    "\n",
    "for i, x in enumerate(histo[1]):\n",
    "    print('i = ', i)\n",
    "    print('x = ', x)\n",
    "    if i>0:\n",
    "        if (histo[0][i-1] <= valeur):\n",
    "            T = histo[1][i]"
   ]
  },
  {
   "cell_type": "code",
   "execution_count": 14,
   "metadata": {},
   "outputs": [
    {
     "data": {
      "text/plain": [
       "1.0000000000000002"
      ]
     },
     "execution_count": 14,
     "metadata": {},
     "output_type": "execute_result"
    }
   ],
   "source": [
    "T"
   ]
  },
  {
   "cell_type": "code",
   "execution_count": 6,
   "metadata": {},
   "outputs": [],
   "source": [
    "df = pd.DataFrame(rnd, columns = ['FMI ToMATo'])"
   ]
  },
  {
   "cell_type": "code",
   "execution_count": 7,
   "metadata": {},
   "outputs": [
    {
     "data": {
      "image/png": "[encoded data removed]",
      "text/plain": [
       "<Figure size 432x288 with 1 Axes>"
      ]
     },
     "metadata": {
      "needs_background": "light"
     },
     "output_type": "display_data"
    }
   ],
   "source": [
    "boxplot = df.boxplot()"
   ]
  },
  {
   "cell_type": "code",
   "execution_count": 5,
   "metadata": {},
   "outputs": [
    {
     "data": {
      "image/png": "[encoded data removed]",
      "text/plain": [
       "<Figure size 432x288 with 1 Axes>"
      ]
     },
     "metadata": {
      "needs_background": "light"
     },
     "output_type": "display_data"
    }
   ],
   "source": [
    "np.random.seed(1234)\n",
    "df = pd.DataFrame(np.random.randn(10, 4),\n",
    "                   columns=['Col1', 'Col2', 'Col3', 'Col4'])\n",
    "boxplot = df.boxplot(column=['Col1', 'Col2', 'Col3'])"
   ]
  },
  {
   "cell_type": "code",
   "execution_count": null,
   "metadata": {},
   "outputs": [],
   "source": [
    "data = [data, d2, d2[::2,0]]\n",
    "fig7, ax7 = plt.subplots()\n",
    "ax7.set_title('Multiple Samples with Different sizes')\n",
    "ax7.boxplot(data)\n",
    "\n",
    "plt.show()"
   ]
  },
  {
   "cell_type": "code",
   "execution_count": 9,
   "metadata": {},
   "outputs": [],
   "source": [
    "class Point():\n",
    "    def __init__(self,x,y):\n",
    "        self.x = x\n",
    "        self.y = y\n",
    "        self.label = []\n",
    "        \n",
    "        self.x_collected, self.y_collected = x,y # by default, if the point undergoes no perturbation, the coordinates collected are the GT coordiantes \n",
    "        \n",
    "    def add_label(self, label_to_add):\n",
    "        self.label.append(label_to_add)\n",
    "        \n",
    "        \n",
    "    def Scramble(self, delta):\n",
    "        mean = [0,0]\n",
    "        delta = delta + np.random.normal(0, 3) # delta should be random, and different for each point. \n",
    "        cov_scramble = [[delta**2, 0], [0, delta**2]]\n",
    "        coord_collected     = np.sum([np.array([self.x,self.y]),\n",
    "                                        np.random.multivariate_normal(mean, cov_scramble)],\n",
    "                                        axis = 0)\n",
    "        self.x_collected = coord_collected[0]\n",
    "        self.y_collected = coord_collected[1]\n",
    "        \n",
    "    def GetCoord(self):\n",
    "        return np.array([self.x_collected,self.y_collected])\n",
    "    \n",
    "    def GetCoord_GT(self):\n",
    "        return np.array([self.x,self.y])\n",
    "    \n",
    "    def Isin(self, cluster, delta = 20):\n",
    "        print('in Point.Isin()')\n",
    "        return cluster.Isin(self, delta) "
   ]
  },
  {
   "cell_type": "code",
   "execution_count": 10,
   "metadata": {},
   "outputs": [],
   "source": [
    "class Cluster():\n",
    "    def __init__(self, center, radius, label):\n",
    "        self.center = center\n",
    "        self.radius = radius\n",
    "        self.points = []\n",
    "        self.label  = label\n",
    "        \n",
    "        \n",
    "    def methode(self):\n",
    "        print('in fonction')\n",
    "        \n",
    "    def Isin(self, point, delta):\n",
    "        print('in Cluster.Isin()')\n",
    "        print('self.center = ', self.center)\n",
    "        print('point.Coord = ', point.GetCoord_GT())\n",
    "        print('self.radius = ', self.radius)\n",
    "        diff = self.center - point.GetCoord_GT()\n",
    "        if np.linalg.norm(self.center - point.GetCoord_GT()) < (self.radius + delta): return True\n",
    "        else: return False\n",
    "        \n",
    "        \n",
    "    def Fill(self, NumberOfPoints, cluster_shape):\n",
    "        \n",
    "        if cluster_shape == 'uniform':\n",
    "            temp = uniform_cluster(self.radius, NumberOfPoints, self.center)\n",
    "        if cluster_shape == 'gaussian':\n",
    "            temp = gaussian_cluster((self.radius / 2), NumberOfPoints, self.center)\n",
    "            \n",
    "        for t in temp: \n",
    "            new_point = Point(x = t[0], y = t[1])\n",
    "            new_point.add_label(self.label)\n",
    "            self.points.append(new_point)"
   ]
  },
  {
   "cell_type": "code",
   "execution_count": 11,
   "metadata": {},
   "outputs": [],
   "source": [
    "cluster= Cluster([0,0], 3, 1)"
   ]
  },
  {
   "cell_type": "code",
   "execution_count": 12,
   "metadata": {},
   "outputs": [
    {
     "data": {
      "text/plain": [
       "{'center': [0, 0], 'radius': 3, 'points': [], 'label': 1}"
      ]
     },
     "execution_count": 12,
     "metadata": {},
     "output_type": "execute_result"
    }
   ],
   "source": [
    "cluster.__dict__"
   ]
  },
  {
   "cell_type": "code",
   "execution_count": 43,
   "metadata": {},
   "outputs": [],
   "source": [
    "class ElongCluster(Cluster):\n",
    "    def __init__(self, center, radius, elongation, label):\n",
    "        super().__init__(center, radius, label)\n",
    "        self.elongation = elongation\n",
    "        self.a = self.radius\n",
    "        self.b = self.elongation * self.radius\n",
    "        \n",
    "        self.orientation = np.random.uniform(low = 0, high = math.pi)\n",
    "        cos, sin = math.cos(self.orientation), math.sin(self.orientation)\n",
    "        self.R_matrix = np.array([[cos, -sin], [sin, cos]])\n",
    "        \n",
    "        \n",
    "    \n",
    "    def Isin(self, point, delta):\n",
    "        return False\n",
    "        '''\n",
    "        point_\n",
    "        print('in Cluster.Isin()')\n",
    "        print('self.center = ', self.center)\n",
    "        print('point.Coord = ', point.GetCoord_GT())\n",
    "        print('self.radius = ', self.radius)\n",
    "        diff = self.center - point.GetCoord_GT()\n",
    "        if np.linalg.norm(self.center - point.GetCoord_GT()) < (self.radius + delta): return True\n",
    "        else: return False \n",
    "        '''\n",
    "        \n",
    "        \n",
    "        \n",
    "    def Fill(self, NumberOfPoints, cluster_shape = 'uniform'):\n",
    "        \n",
    "        temp = elliptical_cluster(self.a, self.b, NumberOfPoints, self.center)\n",
    "        print(temp)\n",
    "        \n",
    "        oriented = [np.dot(self.R_matrix, p) for p in temp]\n",
    "\n",
    "        for p in oriented: \n",
    "            new_point = Point(x = p[0], y = p[1])\n",
    "            new_point.add_label(self.label)\n",
    "            self.points.append(new_point)\n",
    "            \n",
    "    def methode(self):\n",
    "        print('in fonction du spécifique')\n",
    "        "
   ]
  },
  {
   "cell_type": "code",
   "execution_count": 44,
   "metadata": {},
   "outputs": [],
   "source": [
    "def elliptical_cluster(a, b , n_points, center):\n",
    "    \n",
    "    a_s = np.random.uniform(0, a, n_points)\n",
    "    b_s = np.random.uniform(0, b, n_points)\n",
    "    t_s = np.random.uniform(0, 2*math.pi, n_points)\n",
    "    \n",
    "    \n",
    "    sin_t = np.sin(t_s)\n",
    "    cos_t = np.cos(t_s)\n",
    "    points    = [[center[0] + a_s[i] * cos_t[i], center[1] + b_s[i] * sin_t[i]] for i in range(n_points)]  \n",
    "    return points"
   ]
  },
  {
   "cell_type": "code",
   "execution_count": 45,
   "metadata": {},
   "outputs": [
    {
     "name": "stdout",
     "output_type": "stream",
     "text": [
      "[[0.051589307110806365, 1.3462382775934774], [0.12730706307289102, 3.9825037960797807], [2.1949802693840064, -0.44138258935855595], [0.510227231956217, 4.183101697706929], [-0.11559097199411018, -3.5892748442536493], [1.5456166146595063, 0.026618919791636896], [-2.299070810615172, -1.052072666425083], [0.17241584164495177, 0.34449865668106366], [-0.5512448612987293, -1.3640628747394843], [-0.5283507375443866, 1.0794105268095504], [2.025270360303311, 2.633143011928694], [0.04342918019187033, 4.002368181580696], [0.03200540330298154, 1.2175528503836028], [-1.4332871899892552, 2.053760253459554], [1.2690371749822824, 0.3019942662843509], [0.12063086356919495, 3.9540221462127176], [-0.14017310895562582, -0.48795208478638397], [0.7926272715292334, 0.3034426448863295], [-0.824456676206833, -0.7450133255810988], [1.7508850586215063, 0.6716174975458005], [-0.2762828279881657, 2.4968668307803905], [1.3581964570298728, -3.6187264827234715], [-0.5041664165631297, 0.45873479980112286], [-0.458002286016455, 0.2616641264067304], [1.4774584546888374, -1.2782966918102106], [1.2352512873995507, 3.0844421459503146], [-1.4502827912876435, -4.221581471218937], [-0.011068257500853893, 2.556789590633728], [-0.4475773558579271, 3.9122537246213414], [-1.9767262033708795, 2.4569456844774007]]\n"
     ]
    }
   ],
   "source": [
    "elong = ElongCluster([0,0], 3, 2,1)\n",
    "elong.Fill(30)"
   ]
  },
  {
   "cell_type": "code",
   "execution_count": 48,
   "metadata": {},
   "outputs": [
    {
     "name": "stdout",
     "output_type": "stream",
     "text": [
      "-1.05426520376942 -0.8387752003886673\n",
      "-3.1022730175236704 -2.5004890919263554\n",
      "-1.0967287817317282 1.9519075163785777\n",
      "-3.504055863444699 -2.3409964005626156\n",
      "2.7965142449417715 2.252945462774533\n",
      "-1.0280825023178866 1.1544200512942326\n",
      "2.296839829721092 -1.056934380303845\n",
      "-0.37360773242432016 -0.09393513282021812\n",
      "1.3936056679474342 0.47159481084463456\n",
      "-0.47379418427133324 -1.1044458602401614\n",
      "-3.3169504937483394 -0.1816633579307172\n",
      "-3.0626357489399982 -2.577033066131756\n",
      "-0.9439341885873122 -0.7697061367391033\n",
      "-0.6223657855463489 -2.4258821440166507\n",
      "-1.0564944145555153 0.7651636690072486\n",
      "-3.076326651396321 -2.4869775374729004\n",
      "0.46133848470426264 0.21192578902162673\n",
      "-0.7469239403276755 0.4030385312508805\n",
      "1.1024479891683208 -0.13921960140063883\n",
      "-1.650931537805612 0.8894344320929544\n",
      "-1.7127846960036381 -1.837673735141299\n",
      "1.8577805740821174 3.3894734563374005\n",
      "-0.01901196758384649 -0.681366228417049\n",
      "0.10028943609539648 -0.5178573529961349\n",
      "0.005659354079461498 1.9536872547405992\n",
      "-3.1439197614515852 -1.0748942405144033\n",
      "4.146241991903803 1.6534048619190962\n",
      "-1.9311612704309513 -1.675682447447787\n",
      "-2.6741302270032024 -2.8905159097154494\n",
      "-0.5736543143878401 -3.10079817259192\n"
     ]
    }
   ],
   "source": [
    "for point in elong.points:\n",
    "    print(point.x_collected, point.y_collected)"
   ]
  },
  {
   "cell_type": "code",
   "execution_count": 34,
   "metadata": {},
   "outputs": [],
   "source": [
    "oriented = [np.dot(elong.R_matrix, t) for t in elong.temp]"
   ]
  },
  {
   "cell_type": "code",
   "execution_count": 36,
   "metadata": {},
   "outputs": [
    {
     "data": {
      "text/plain": [
       "array([[-0.94754835,  1.24240299],\n",
       "       [-0.68959843,  1.61689568],\n",
       "       [ 0.91589794,  0.2768773 ],\n",
       "       [ 4.21408321,  1.4792669 ],\n",
       "       [ 0.97345047, -2.68854932],\n",
       "       [ 3.94150211,  0.31935536],\n",
       "       [-0.28665106, -2.05865309],\n",
       "       [-0.06164076, -0.6795954 ],\n",
       "       [-0.96123297,  1.8813522 ],\n",
       "       [ 2.68656316,  1.10047457],\n",
       "       [ 1.12655159, -0.70490104],\n",
       "       [-1.09080205, -0.26675651],\n",
       "       [-0.83453908,  1.64041614],\n",
       "       [-0.31496738,  0.70743777],\n",
       "       [-2.7854182 , -0.97223448],\n",
       "       [-1.19206709, -1.03532851],\n",
       "       [-0.29223273, -1.55808396],\n",
       "       [-2.06845324, -0.90918947],\n",
       "       [-2.03368826, -0.20226994],\n",
       "       [ 0.35987488, -0.73306307],\n",
       "       [ 4.20322472,  1.55989156],\n",
       "       [-4.06588998,  0.16447164],\n",
       "       [-0.42477927,  2.54929784],\n",
       "       [-0.35216675,  2.23372927],\n",
       "       [-1.42209826, -0.59964408],\n",
       "       [ 4.46096527,  1.81386384],\n",
       "       [ 4.73390641,  2.30058694],\n",
       "       [-0.94907696, -0.16553002],\n",
       "       [ 0.7199349 ,  0.26902249],\n",
       "       [ 1.84239174, -0.51312519]])"
      ]
     },
     "execution_count": 36,
     "metadata": {},
     "output_type": "execute_result"
    }
   ],
   "source": [
    "np.asarray(oriented)"
   ]
  },
  {
   "cell_type": "code",
   "execution_count": 75,
   "metadata": {},
   "outputs": [],
   "source": [
    "import numpy as np"
   ]
  },
  {
   "cell_type": "code",
   "execution_count": 76,
   "metadata": {},
   "outputs": [],
   "source": [
    "p = Point(10,19)"
   ]
  },
  {
   "cell_type": "code",
   "execution_count": 77,
   "metadata": {},
   "outputs": [
    {
     "name": "stdout",
     "output_type": "stream",
     "text": [
      "in Cluster.Isin()\n",
      "self.center =  [0, 0]\n",
      "point.Coord =  [10 19]\n",
      "self.radius =  3\n",
      "True\n"
     ]
    }
   ],
   "source": [
    "print(p.Isin(cluster))"
   ]
  },
  {
   "cell_type": "code",
   "execution_count": 79,
   "metadata": {},
   "outputs": [
    {
     "name": "stdout",
     "output_type": "stream",
     "text": [
      "1.584671042464222\n"
     ]
    }
   ],
   "source": [
    "orientation = np.random.uniform(low = 0, high = math.pi)\n",
    "print(orientation)"
   ]
  },
  {
   "cell_type": "code",
   "execution_count": 81,
   "metadata": {},
   "outputs": [
    {
     "data": {
      "text/plain": [
       "0.9999037476766722"
      ]
     },
     "execution_count": 81,
     "metadata": {},
     "output_type": "execute_result"
    }
   ],
   "source": [
    "math.sin(orientation)"
   ]
  },
  {
   "cell_type": "code",
   "execution_count": 88,
   "metadata": {},
   "outputs": [],
   "source": [
    "R_matrix = np.array([[0,1], [2,3]])"
   ]
  },
  {
   "cell_type": "code",
   "execution_count": 89,
   "metadata": {},
   "outputs": [
    {
     "data": {
      "text/plain": [
       "array([[0, 1],\n",
       "       [2, 3]])"
      ]
     },
     "execution_count": 89,
     "metadata": {},
     "output_type": "execute_result"
    }
   ],
   "source": [
    "R_matrix"
   ]
  },
  {
   "cell_type": "code",
   "execution_count": 90,
   "metadata": {},
   "outputs": [
    {
     "data": {
      "text/plain": [
       "array([1, 5])"
      ]
     },
     "execution_count": 90,
     "metadata": {},
     "output_type": "execute_result"
    }
   ],
   "source": [
    "np.dot(R_matrix, np.array([1,1]))"
   ]
  },
  {
   "cell_type": "code",
   "execution_count": 91,
   "metadata": {},
   "outputs": [
    {
     "data": {
      "text/plain": [
       "array([[0, 2],\n",
       "       [1, 3]])"
      ]
     },
     "execution_count": 91,
     "metadata": {},
     "output_type": "execute_result"
    }
   ],
   "source": [
    "R_matrix.transpose()"
   ]
  },
  {
   "cell_type": "code",
   "execution_count": 92,
   "metadata": {},
   "outputs": [],
   "source": [
    "orientation = np.random.uniform(low = 0, high = math.pi)\n",
    "cos, sin = math.cos(orientation), math.sin(orientation)\n",
    "R_matrix = np.array([[cos, -sin], [sin, cos]])"
   ]
  },
  {
   "cell_type": "code",
   "execution_count": 93,
   "metadata": {},
   "outputs": [
    {
     "data": {
      "text/plain": [
       "array([[-0.93163113, -0.36340534],\n",
       "       [ 0.36340534, -0.93163113]])"
      ]
     },
     "execution_count": 93,
     "metadata": {},
     "output_type": "execute_result"
    }
   ],
   "source": [
    "R_matrix"
   ]
  },
  {
   "cell_type": "code",
   "execution_count": null,
   "metadata": {},
   "outputs": [],
   "source": [
    "#Ellipse non orientée \n",
    "\n"
   ]
  },
  {
   "cell_type": "markdown",
   "metadata": {},
   "source": [
    "## Lire la matrice de covariance "
   ]
  },
  {
   "cell_type": "code",
   "execution_count": 45,
   "metadata": {},
   "outputs": [],
   "source": [
    "data = pd.read_csv('/Users/Eliana/Documents/PDM/Codes/My_codes/Power_Of_Seperation/DataForTomato/dist_100_sim_9.csv')"
   ]
  },
  {
   "cell_type": "code",
   "execution_count": 46,
   "metadata": {},
   "outputs": [],
   "source": [
    "def modify_cov_matrix_format(data):\n",
    "    matrices = data['cov_matrix']\n",
    "    if type((matrices).iloc[0]) == str:\n",
    "        print('dans le if')\n",
    "        temp = [np.array(eval(matrix_in_string)) for matrix_in_string in matrices]\n",
    "        data['cov_matrix'] = temp\n",
    "    \n",
    "    return data"
   ]
  },
  {
   "cell_type": "code",
   "execution_count": 48,
   "metadata": {},
   "outputs": [
    {
     "data": {
      "text/html": [
       "<div>\n",
       "<style scoped>\n",
       "    .dataframe tbody tr th:only-of-type {\n",
       "        vertical-align: middle;\n",
       "    }\n",
       "\n",
       "    .dataframe tbody tr th {\n",
       "        vertical-align: top;\n",
       "    }\n",
       "\n",
       "    .dataframe thead th {\n",
       "        text-align: right;\n",
       "    }\n",
       "</style>\n",
       "<table border=\"1\" class=\"dataframe\">\n",
       "  <thead>\n",
       "    <tr style=\"text-align: right;\">\n",
       "      <th></th>\n",
       "      <th>x</th>\n",
       "      <th>y</th>\n",
       "      <th>labels_1</th>\n",
       "      <th>sigma</th>\n",
       "      <th>N_photons</th>\n",
       "      <th>cov_matrix</th>\n",
       "    </tr>\n",
       "  </thead>\n",
       "  <tbody>\n",
       "    <tr>\n",
       "      <th>0</th>\n",
       "      <td>-1.867438</td>\n",
       "      <td>39.064877</td>\n",
       "      <td>1</td>\n",
       "      <td>23.290374</td>\n",
       "      <td>150.0</td>\n",
       "      <td>[[542.4415282972418, 0.0], [0.0, 542.441528297...</td>\n",
       "    </tr>\n",
       "    <tr>\n",
       "      <th>1</th>\n",
       "      <td>25.493219</td>\n",
       "      <td>-11.310263</td>\n",
       "      <td>1</td>\n",
       "      <td>21.804883</td>\n",
       "      <td>150.0</td>\n",
       "      <td>[[475.452919013855, 0.0], [0.0, 475.4529190138...</td>\n",
       "    </tr>\n",
       "    <tr>\n",
       "      <th>2</th>\n",
       "      <td>-5.732221</td>\n",
       "      <td>-4.118808</td>\n",
       "      <td>1</td>\n",
       "      <td>24.825473</td>\n",
       "      <td>150.0</td>\n",
       "      <td>[[616.3041119802617, 0.0], [0.0, 616.304111980...</td>\n",
       "    </tr>\n",
       "    <tr>\n",
       "      <th>3</th>\n",
       "      <td>25.500128</td>\n",
       "      <td>-4.154886</td>\n",
       "      <td>1</td>\n",
       "      <td>21.366720</td>\n",
       "      <td>150.0</td>\n",
       "      <td>[[456.536715818021, 0.0], [0.0, 456.5367158180...</td>\n",
       "    </tr>\n",
       "    <tr>\n",
       "      <th>4</th>\n",
       "      <td>29.019274</td>\n",
       "      <td>-3.136779</td>\n",
       "      <td>1</td>\n",
       "      <td>19.548185</td>\n",
       "      <td>150.0</td>\n",
       "      <td>[[382.13154164783015, 0.0], [0.0, 382.13154164...</td>\n",
       "    </tr>\n",
       "    <tr>\n",
       "      <th>...</th>\n",
       "      <td>...</td>\n",
       "      <td>...</td>\n",
       "      <td>...</td>\n",
       "      <td>...</td>\n",
       "      <td>...</td>\n",
       "      <td>...</td>\n",
       "    </tr>\n",
       "    <tr>\n",
       "      <th>195</th>\n",
       "      <td>115.877125</td>\n",
       "      <td>26.588549</td>\n",
       "      <td>2</td>\n",
       "      <td>20.649096</td>\n",
       "      <td>150.0</td>\n",
       "      <td>[[426.38514741988996, 0.0], [0.0, 426.38514741...</td>\n",
       "    </tr>\n",
       "    <tr>\n",
       "      <th>196</th>\n",
       "      <td>44.005597</td>\n",
       "      <td>-26.925742</td>\n",
       "      <td>2</td>\n",
       "      <td>21.530876</td>\n",
       "      <td>150.0</td>\n",
       "      <td>[[463.5786419825445, 0.0], [0.0, 463.578641982...</td>\n",
       "    </tr>\n",
       "    <tr>\n",
       "      <th>197</th>\n",
       "      <td>95.940207</td>\n",
       "      <td>-1.568240</td>\n",
       "      <td>2</td>\n",
       "      <td>22.838059</td>\n",
       "      <td>150.0</td>\n",
       "      <td>[[521.5769521115224, 0.0], [0.0, 521.576952111...</td>\n",
       "    </tr>\n",
       "    <tr>\n",
       "      <th>198</th>\n",
       "      <td>85.583594</td>\n",
       "      <td>-9.893810</td>\n",
       "      <td>2</td>\n",
       "      <td>23.239197</td>\n",
       "      <td>150.0</td>\n",
       "      <td>[[540.0602644418124, 0.0], [0.0, 540.060264441...</td>\n",
       "    </tr>\n",
       "    <tr>\n",
       "      <th>199</th>\n",
       "      <td>116.684701</td>\n",
       "      <td>2.549018</td>\n",
       "      <td>2</td>\n",
       "      <td>19.909772</td>\n",
       "      <td>150.0</td>\n",
       "      <td>[[396.39902490955177, 0.0], [0.0, 396.39902490...</td>\n",
       "    </tr>\n",
       "  </tbody>\n",
       "</table>\n",
       "<p>200 rows × 6 columns</p>\n",
       "</div>"
      ],
      "text/plain": [
       "              x          y  labels_1      sigma  N_photons  \\\n",
       "0     -1.867438  39.064877         1  23.290374      150.0   \n",
       "1     25.493219 -11.310263         1  21.804883      150.0   \n",
       "2     -5.732221  -4.118808         1  24.825473      150.0   \n",
       "3     25.500128  -4.154886         1  21.366720      150.0   \n",
       "4     29.019274  -3.136779         1  19.548185      150.0   \n",
       "..          ...        ...       ...        ...        ...   \n",
       "195  115.877125  26.588549         2  20.649096      150.0   \n",
       "196   44.005597 -26.925742         2  21.530876      150.0   \n",
       "197   95.940207  -1.568240         2  22.838059      150.0   \n",
       "198   85.583594  -9.893810         2  23.239197      150.0   \n",
       "199  116.684701   2.549018         2  19.909772      150.0   \n",
       "\n",
       "                                            cov_matrix  \n",
       "0    [[542.4415282972418, 0.0], [0.0, 542.441528297...  \n",
       "1    [[475.452919013855, 0.0], [0.0, 475.4529190138...  \n",
       "2    [[616.3041119802617, 0.0], [0.0, 616.304111980...  \n",
       "3    [[456.536715818021, 0.0], [0.0, 456.5367158180...  \n",
       "4    [[382.13154164783015, 0.0], [0.0, 382.13154164...  \n",
       "..                                                 ...  \n",
       "195  [[426.38514741988996, 0.0], [0.0, 426.38514741...  \n",
       "196  [[463.5786419825445, 0.0], [0.0, 463.578641982...  \n",
       "197  [[521.5769521115224, 0.0], [0.0, 521.576952111...  \n",
       "198  [[540.0602644418124, 0.0], [0.0, 540.060264441...  \n",
       "199  [[396.39902490955177, 0.0], [0.0, 396.39902490...  \n",
       "\n",
       "[200 rows x 6 columns]"
      ]
     },
     "execution_count": 48,
     "metadata": {},
     "output_type": "execute_result"
    }
   ],
   "source": [
    "data2 = modify_cov_matrix_format(data)\n",
    "data2"
   ]
  },
  {
   "cell_type": "code",
   "execution_count": 38,
   "metadata": {},
   "outputs": [
    {
     "data": {
      "text/plain": [
       "str"
      ]
     },
     "execution_count": 38,
     "metadata": {},
     "output_type": "execute_result"
    }
   ],
   "source": [
    "labels = calling_graphic()"
   ]
  },
  {
   "cell_type": "code",
   "execution_count": 26,
   "metadata": {},
   "outputs": [],
   "source": [
    "\n",
    "res = [np.array(eval(string)) for string in matrices]\n",
    "#res = np.zeros((len(matrices), 2, 2))\n",
    "#for i, string in enumerate(matrices): \n",
    "#    res[i,:,:] = np.array(eval(string))"
   ]
  },
  {
   "cell_type": "code",
   "execution_count": 28,
   "metadata": {},
   "outputs": [
    {
     "data": {
      "text/plain": [
       "200"
      ]
     },
     "execution_count": 28,
     "metadata": {},
     "output_type": "execute_result"
    }
   ],
   "source": [
    "len(res)"
   ]
  },
  {
   "cell_type": "code",
   "execution_count": 29,
   "metadata": {},
   "outputs": [],
   "source": [
    "data['cov_matrix'] = res"
   ]
  },
  {
   "cell_type": "code",
   "execution_count": 32,
   "metadata": {},
   "outputs": [
    {
     "name": "stdout",
     "output_type": "stream",
     "text": [
      "[[475.45291901   0.        ]\n",
      " [  0.         475.45291901]]\n",
      "<class 'numpy.ndarray'>\n"
     ]
    }
   ],
   "source": [
    "s = data['cov_matrix'].iloc[1]\n",
    "print(s)\n",
    "print(type(s))"
   ]
  },
  {
   "cell_type": "code",
   "execution_count": 33,
   "metadata": {},
   "outputs": [
    {
     "data": {
      "text/html": [
       "<div>\n",
       "<style scoped>\n",
       "    .dataframe tbody tr th:only-of-type {\n",
       "        vertical-align: middle;\n",
       "    }\n",
       "\n",
       "    .dataframe tbody tr th {\n",
       "        vertical-align: top;\n",
       "    }\n",
       "\n",
       "    .dataframe thead th {\n",
       "        text-align: right;\n",
       "    }\n",
       "</style>\n",
       "<table border=\"1\" class=\"dataframe\">\n",
       "  <thead>\n",
       "    <tr style=\"text-align: right;\">\n",
       "      <th></th>\n",
       "      <th>x</th>\n",
       "      <th>y</th>\n",
       "      <th>labels_1</th>\n",
       "      <th>sigma</th>\n",
       "      <th>N_photons</th>\n",
       "      <th>cov_matrix</th>\n",
       "    </tr>\n",
       "  </thead>\n",
       "  <tbody>\n",
       "    <tr>\n",
       "      <th>0</th>\n",
       "      <td>-1.867438</td>\n",
       "      <td>39.064877</td>\n",
       "      <td>1</td>\n",
       "      <td>23.290374</td>\n",
       "      <td>150.0</td>\n",
       "      <td>[[542.4415282972418, 0.0], [0.0, 542.441528297...</td>\n",
       "    </tr>\n",
       "    <tr>\n",
       "      <th>1</th>\n",
       "      <td>25.493219</td>\n",
       "      <td>-11.310263</td>\n",
       "      <td>1</td>\n",
       "      <td>21.804883</td>\n",
       "      <td>150.0</td>\n",
       "      <td>[[475.452919013855, 0.0], [0.0, 475.4529190138...</td>\n",
       "    </tr>\n",
       "    <tr>\n",
       "      <th>2</th>\n",
       "      <td>-5.732221</td>\n",
       "      <td>-4.118808</td>\n",
       "      <td>1</td>\n",
       "      <td>24.825473</td>\n",
       "      <td>150.0</td>\n",
       "      <td>[[616.3041119802617, 0.0], [0.0, 616.304111980...</td>\n",
       "    </tr>\n",
       "    <tr>\n",
       "      <th>3</th>\n",
       "      <td>25.500128</td>\n",
       "      <td>-4.154886</td>\n",
       "      <td>1</td>\n",
       "      <td>21.366720</td>\n",
       "      <td>150.0</td>\n",
       "      <td>[[456.536715818021, 0.0], [0.0, 456.5367158180...</td>\n",
       "    </tr>\n",
       "    <tr>\n",
       "      <th>4</th>\n",
       "      <td>29.019274</td>\n",
       "      <td>-3.136779</td>\n",
       "      <td>1</td>\n",
       "      <td>19.548185</td>\n",
       "      <td>150.0</td>\n",
       "      <td>[[382.13154164783015, 0.0], [0.0, 382.13154164...</td>\n",
       "    </tr>\n",
       "    <tr>\n",
       "      <th>...</th>\n",
       "      <td>...</td>\n",
       "      <td>...</td>\n",
       "      <td>...</td>\n",
       "      <td>...</td>\n",
       "      <td>...</td>\n",
       "      <td>...</td>\n",
       "    </tr>\n",
       "    <tr>\n",
       "      <th>195</th>\n",
       "      <td>115.877125</td>\n",
       "      <td>26.588549</td>\n",
       "      <td>2</td>\n",
       "      <td>20.649096</td>\n",
       "      <td>150.0</td>\n",
       "      <td>[[426.38514741988996, 0.0], [0.0, 426.38514741...</td>\n",
       "    </tr>\n",
       "    <tr>\n",
       "      <th>196</th>\n",
       "      <td>44.005597</td>\n",
       "      <td>-26.925742</td>\n",
       "      <td>2</td>\n",
       "      <td>21.530876</td>\n",
       "      <td>150.0</td>\n",
       "      <td>[[463.5786419825445, 0.0], [0.0, 463.578641982...</td>\n",
       "    </tr>\n",
       "    <tr>\n",
       "      <th>197</th>\n",
       "      <td>95.940207</td>\n",
       "      <td>-1.568240</td>\n",
       "      <td>2</td>\n",
       "      <td>22.838059</td>\n",
       "      <td>150.0</td>\n",
       "      <td>[[521.5769521115224, 0.0], [0.0, 521.576952111...</td>\n",
       "    </tr>\n",
       "    <tr>\n",
       "      <th>198</th>\n",
       "      <td>85.583594</td>\n",
       "      <td>-9.893810</td>\n",
       "      <td>2</td>\n",
       "      <td>23.239197</td>\n",
       "      <td>150.0</td>\n",
       "      <td>[[540.0602644418124, 0.0], [0.0, 540.060264441...</td>\n",
       "    </tr>\n",
       "    <tr>\n",
       "      <th>199</th>\n",
       "      <td>116.684701</td>\n",
       "      <td>2.549018</td>\n",
       "      <td>2</td>\n",
       "      <td>19.909772</td>\n",
       "      <td>150.0</td>\n",
       "      <td>[[396.39902490955177, 0.0], [0.0, 396.39902490...</td>\n",
       "    </tr>\n",
       "  </tbody>\n",
       "</table>\n",
       "<p>200 rows × 6 columns</p>\n",
       "</div>"
      ],
      "text/plain": [
       "              x          y  labels_1      sigma  N_photons  \\\n",
       "0     -1.867438  39.064877         1  23.290374      150.0   \n",
       "1     25.493219 -11.310263         1  21.804883      150.0   \n",
       "2     -5.732221  -4.118808         1  24.825473      150.0   \n",
       "3     25.500128  -4.154886         1  21.366720      150.0   \n",
       "4     29.019274  -3.136779         1  19.548185      150.0   \n",
       "..          ...        ...       ...        ...        ...   \n",
       "195  115.877125  26.588549         2  20.649096      150.0   \n",
       "196   44.005597 -26.925742         2  21.530876      150.0   \n",
       "197   95.940207  -1.568240         2  22.838059      150.0   \n",
       "198   85.583594  -9.893810         2  23.239197      150.0   \n",
       "199  116.684701   2.549018         2  19.909772      150.0   \n",
       "\n",
       "                                            cov_matrix  \n",
       "0    [[542.4415282972418, 0.0], [0.0, 542.441528297...  \n",
       "1    [[475.452919013855, 0.0], [0.0, 475.4529190138...  \n",
       "2    [[616.3041119802617, 0.0], [0.0, 616.304111980...  \n",
       "3    [[456.536715818021, 0.0], [0.0, 456.5367158180...  \n",
       "4    [[382.13154164783015, 0.0], [0.0, 382.13154164...  \n",
       "..                                                 ...  \n",
       "195  [[426.38514741988996, 0.0], [0.0, 426.38514741...  \n",
       "196  [[463.5786419825445, 0.0], [0.0, 463.578641982...  \n",
       "197  [[521.5769521115224, 0.0], [0.0, 521.576952111...  \n",
       "198  [[540.0602644418124, 0.0], [0.0, 540.060264441...  \n",
       "199  [[396.39902490955177, 0.0], [0.0, 396.39902490...  \n",
       "\n",
       "[200 rows x 6 columns]"
      ]
     },
     "execution_count": 33,
     "metadata": {},
     "output_type": "execute_result"
    }
   ],
   "source": [
    "data"
   ]
  },
  {
   "cell_type": "code",
   "execution_count": 33,
   "metadata": {},
   "outputs": [],
   "source": [
    "n = len(matrices)"
   ]
  },
  {
   "cell_type": "code",
   "execution_count": 34,
   "metadata": {},
   "outputs": [
    {
     "data": {
      "text/plain": [
       "200"
      ]
     },
     "execution_count": 34,
     "metadata": {},
     "output_type": "execute_result"
    }
   ],
   "source": [
    "def convert_for_graphic(data)\n"
   ]
  },
  {
   "cell_type": "code",
   "execution_count": 2,
   "metadata": {},
   "outputs": [
    {
     "name": "stdout",
     "output_type": "stream",
     "text": [
      "ouais!\n"
     ]
    }
   ],
   "source": [
    "liste = [0,1,2,3,4,5,6]\n",
    "\n",
    "for idx, el in enumerate(liste):\n",
    "    if el >2:\n",
    "        print('ouais!')\n",
    "        T = el\n",
    "        break"
   ]
  },
  {
   "cell_type": "code",
   "execution_count": 3,
   "metadata": {},
   "outputs": [
    {
     "data": {
      "text/plain": [
       "3"
      ]
     },
     "execution_count": 3,
     "metadata": {},
     "output_type": "execute_result"
    }
   ],
   "source": [
    "T_h = 1 # default value in case it is not found\n",
    "for i, x in enumerate(histo[1]):\n",
    "    if i>0:\n",
    "        if (histo[0][i-1] <= v):\n",
    "            T_h = histo[1][i]\n",
    "            break"
   ]
  },
  {
   "cell_type": "code",
   "execution_count": 9,
   "metadata": {},
   "outputs": [],
   "source": [
    "X = '%.3f'%(1.5749269963)"
   ]
  },
  {
   "cell_type": "code",
   "execution_count": 10,
   "metadata": {},
   "outputs": [
    {
     "data": {
      "text/plain": [
       "str"
      ]
     },
     "execution_count": 10,
     "metadata": {},
     "output_type": "execute_result"
    }
   ],
   "source": [
    "type(X)"
   ]
  },
  {
   "cell_type": "code",
   "execution_count": null,
   "metadata": {},
   "outputs": [],
   "source": [
    "# Graphic:\n",
    "labs = graphic_result_1['graphic_labels']\n",
    "LocPerCluster = []\n",
    "LocInNoise = []\n",
    "for clus in labs.unique():\n",
    "        if clus != 0:\n",
    "            LocPerCluster.append(len(labs[(labs==clus)]))\n",
    "        if clus == 0:\n",
    "            LocInNoise.append(len(labs[(labs==clus)]))"
   ]
  },
  {
   "cell_type": "markdown",
   "metadata": {},
   "source": [
    "## Post-processing function, that removes clusters few points."
   ]
  },
  {
   "cell_type": "code",
   "execution_count": 21,
   "metadata": {},
   "outputs": [],
   "source": [
    "def remove_small_clusters(labels, min_size = 3):\n",
    "    # This function removes the clusters made of n points, n< min_size, and the points become isolated points.\n",
    "    # Labels needs to be a Pandas Series\n",
    "    ClusterLabToRemove = []\n",
    "    for clus in labels.unique():\n",
    "            if clus != 0: # 0 label is noise \n",
    "                n_points = len(labels[(labels==clus)]) \n",
    "                if n_points < min_size:\n",
    "                    ClusterLabToRemove.append(clus)\n",
    "    # All points that are labelled with something in the ClusterLabToRemove list are re-labelled by 0, 0 = noise\n",
    "    labels = labels.replace(ClusterLabToRemove, 0)\n",
    "    return labels\n",
    "    "
   ]
  },
  {
   "cell_type": "code",
   "execution_count": 22,
   "metadata": {},
   "outputs": [],
   "source": [
    "import pandas as pd"
   ]
  },
  {
   "cell_type": "code",
   "execution_count": 23,
   "metadata": {},
   "outputs": [],
   "source": [
    "s = pd.Series([0,0,0,1,1,2,3,4,4,4,4])"
   ]
  },
  {
   "cell_type": "code",
   "execution_count": 24,
   "metadata": {},
   "outputs": [],
   "source": [
    "res = remove_small_clusters(s, 2)"
   ]
  },
  {
   "cell_type": "code",
   "execution_count": 32,
   "metadata": {},
   "outputs": [],
   "source": [
    "LabsToRemove = [1,4]"
   ]
  },
  {
   "cell_type": "code",
   "execution_count": 34,
   "metadata": {},
   "outputs": [
    {
     "data": {
      "text/plain": [
       "0     0\n",
       "1     0\n",
       "2     0\n",
       "3     0\n",
       "4     0\n",
       "5     2\n",
       "6     3\n",
       "7     0\n",
       "8     0\n",
       "9     0\n",
       "10    0\n",
       "dtype: int64"
      ]
     },
     "execution_count": 34,
     "metadata": {},
     "output_type": "execute_result"
    }
   ],
   "source": [
    "s = s.replace(LabsToRemove, 0)\n",
    "s"
   ]
  },
  {
   "cell_type": "code",
   "execution_count": 30,
   "metadata": {},
   "outputs": [
    {
     "data": {
      "text/plain": [
       "5"
      ]
     },
     "execution_count": 30,
     "metadata": {},
     "output_type": "execute_result"
    }
   ],
   "source": [
    "len(s.unique())"
   ]
  },
  {
   "cell_type": "code",
   "execution_count": 28,
   "metadata": {},
   "outputs": [
    {
     "data": {
      "text/plain": [
       "0     0\n",
       "1     0\n",
       "2     0\n",
       "3     1\n",
       "4     1\n",
       "5     2\n",
       "6     3\n",
       "7     4\n",
       "8     4\n",
       "9     4\n",
       "10    4\n",
       "dtype: int64"
      ]
     },
     "execution_count": 28,
     "metadata": {},
     "output_type": "execute_result"
    }
   ],
   "source": []
  },
  {
   "cell_type": "code",
   "execution_count": 2,
   "metadata": {},
   "outputs": [],
   "source": [
    "%run ./DataGen2.ipynb"
   ]
  },
  {
   "cell_type": "code",
   "execution_count": 3,
   "metadata": {},
   "outputs": [
    {
     "name": "stdout",
     "output_type": "stream",
     "text": [
      "Help on function compute_density in module __main__:\n",
      "\n",
      "compute_density(P, Sigma, sigma_s)\n",
      "\n",
      "Help on function compute_T_95 in module __main__:\n",
      "\n",
      "compute_T_95(N, ListOfCovMatrices, sigma_s=40.0, x_lim=[0, 4], y_lim=[0, 4], ReturnFig=False)\n",
      "\n",
      "Help on function see_histogram in module __main__:\n",
      "\n",
      "see_histogram(density, noise_thrsh, title='histogram of node density -all-')\n",
      "\n"
     ]
    }
   ],
   "source": [
    "help(compute_density)\n",
    "help(compute_T_95)\n",
    "help(see_histogram)"
   ]
  },
  {
   "cell_type": "code",
   "execution_count": null,
   "metadata": {},
   "outputs": [],
   "source": [
    "def save_density_histogram(DataGen, T):\n",
    "    density, G0 = compute_density()"
   ]
  }
 ],
 "metadata": {
  "kernelspec": {
   "display_name": "Python 3",
   "language": "python",
   "name": "python3"
  },
  "language_info": {
   "codemirror_mode": {
    "name": "ipython",
    "version": 3
   },
   "file_extension": ".py",
   "mimetype": "text/x-python",
   "name": "python",
   "nbconvert_exporter": "python",
   "pygments_lexer": "ipython3",
   "version": "3.8.5"
  }
 },
 "nbformat": 4,
 "nbformat_minor": 4
}
