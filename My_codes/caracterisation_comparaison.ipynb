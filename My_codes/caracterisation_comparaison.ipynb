{
 "cells": [
  {
   "cell_type": "code",
   "execution_count": 240,
   "metadata": {},
   "outputs": [],
   "source": [
    "%run ./DataGen2.ipynb\n",
    "\n",
    "plt.rcParams.update({'font.size': 14})\n",
    "\n",
    "from matplotlib import rcParams\n",
    "rcParams.update({'figure.autolayout': True})"
   ]
  },
  {
   "cell_type": "code",
   "execution_count": 241,
   "metadata": {},
   "outputs": [],
   "source": [
    "ID = 3"
   ]
  },
  {
   "cell_type": "code",
   "execution_count": 242,
   "metadata": {},
   "outputs": [],
   "source": [
    "folders = {1: 'standard',\n",
    "          2: 'low_density',\n",
    "          3: 'high_noise',\n",
    "          4: 'different_densities',\n",
    "          5: 'different_sizes',\n",
    "          6: 'non_uniform_noise'}\n",
    "\n",
    "NumberOfSimulations = 30\n",
    "general_path = '/Users/Eliana/Documents/PDM/Codes/My_codes/Deviations_from_standard/'\n",
    "figures_saving_path = general_path + 'Results/Figures/'"
   ]
  },
  {
   "cell_type": "code",
   "execution_count": 243,
   "metadata": {},
   "outputs": [],
   "source": [
    "def read_GT():\n",
    "    path = general_path + 'Data/' + folders[ID] + '/'\n",
    "    truelabels = []\n",
    "    for i in range(NumberOfSimulations):\n",
    "        truelab = pd.read_csv(path + 'simulated_SMLM_' + str(ID)+ '_'+ str(i) +'.csv',\n",
    "                       usecols = ['labels_1'])['labels_1'].to_numpy()\n",
    "        truelabels.append(truelab)\n",
    "    return truelabels\n",
    "\n",
    "def read_graphic():\n",
    "    path = general_path + 'Graphic_analysis/'\n",
    "    graphic_labels = []\n",
    "    for i in range(NumberOfSimulations):\n",
    "        graphic_lab = pd.read_csv(path + 'graphic_result_' + str(ID)+ '_'+ str(i) +'.csv',\n",
    "                    usecols = ['graphic_label'])['graphic_label'].to_numpy()\n",
    "        graphic_labels.append(graphic_lab)\n",
    "    return graphic_labels\n",
    "\n",
    "def read_tomato():\n",
    "    path = general_path + 'Tomato_analysis/'\n",
    "    tomato_labels = []\n",
    "    for i in range(NumberOfSimulations):\n",
    "        tomato_lab = pd.read_csv(path + 'tomato_result_' + str(ID)+ '_'+ str(i) +'.csv',\n",
    "                    usecols = ['x'])['x'].to_numpy()\n",
    "        tomato_labels.append(tomato_lab)\n",
    "    return tomato_labels\n",
    "\n",
    "def read_voronoi():\n",
    "    path = general_path + 'SRT_analysis/'\n",
    "    voronoi_labels = []\n",
    "    for i in range(NumberOfSimulations):\n",
    "        voronoi_lab = pd.read_csv(path + 'voronoi_result_' + str(ID)+ '_'+ str(i) +'.csv',\n",
    "                    usecols = ['x'])['x'].to_numpy()\n",
    "        voronoi_clean = remove_small_clusters(voronoi_lab, 5)\n",
    "        voronoi_labels.append(voronoi_clean)\n",
    "    return voronoi_labels"
   ]
  },
  {
   "cell_type": "code",
   "execution_count": 244,
   "metadata": {},
   "outputs": [],
   "source": [
    "voronoi_labels = read_voronoi()\n",
    "tomato_labels = read_tomato()\n",
    "graphic_labels = read_graphic()\n",
    "truelabels = read_GT()"
   ]
  },
  {
   "cell_type": "code",
   "execution_count": 245,
   "metadata": {},
   "outputs": [],
   "source": [
    "def compute_FMIs(GT, res):\n",
    "    FMIs = []\n",
    "    for i in range(NumberOfSimulations):\n",
    "        FMI = metrics.fowlkes_mallows_score(GT[i], res[i])\n",
    "        FMIs.append(FMI)\n",
    "    return FMIs\n",
    "\n",
    "def compute_and_plot_all_FMIs(title = ''):\n",
    "    global ID, truelabels, graphic_labels, tomato_labels, voronoi_labels, figures_saving_path\n",
    "    \n",
    "    FMI_graphic = compute_FMIs(truelabels, graphic_labels)\n",
    "    FMI_voronoi = compute_FMIs(truelabels, voronoi_labels)\n",
    "    FMI_tomato = compute_FMIs(truelabels, tomato_labels)\n",
    "    \n",
    "    plt.figure(figsize = (4,4))\n",
    "    plt.boxplot([FMI_graphic, FMI_tomato, FMI_voronoi], labels = ['GrapHiC', 'ToMATo', 'Voronoi'],\n",
    "                medianprops=dict(linewidth=1.5), boxprops = dict(linewidth=1.5))\n",
    "    plt.grid()\n",
    "    plt.ylabel('FMI')\n",
    "    plt.title(title)\n",
    "    plt.savefig(figures_saving_path + 'FMI_' + str(ID) + '.pdf')\n",
    "\n",
    "\n",
    "                                \n",
    "#notch=True, patch_artist=True,\n",
    "#boxprops=dict(facecolor=c, color=c),\n",
    "#capprops=dict(color=c),\n",
    "#whiskerprops=dict(color=c),\n",
    "#flierprops=dict(color=c, markeredgecolor=c),\n",
    "#medianprops=dict(color='DarkOrange'))\n",
    "    "
   ]
  },
  {
   "cell_type": "code",
   "execution_count": 246,
   "metadata": {},
   "outputs": [
    {
     "data": {
      "image/png": "[encoded data removed]",
      "text/plain": [
       "<Figure size 288x288 with 1 Axes>"
      ]
     },
     "metadata": {
      "needs_background": "light"
     },
     "output_type": "display_data"
    }
   ],
   "source": [
    "compute_and_plot_all_FMIs()"
   ]
  },
  {
   "cell_type": "code",
   "execution_count": null,
   "metadata": {},
   "outputs": [],
   "source": []
  },
  {
   "cell_type": "code",
   "execution_count": 267,
   "metadata": {},
   "outputs": [],
   "source": [
    "def histo_NumberOfClusters(list_of_labels,  method_str, GT = 40):\n",
    "    global ID, figures_saving_path\n",
    "    N_clusters = []\n",
    "    for labels in list_of_labels:\n",
    "        NumberOfClusters = len(np.unique(labels))-1\n",
    "        N_clusters.append(NumberOfClusters)\n",
    "    plt.figure(figsize = (4,4))\n",
    "    #plt.axvspan(18, 24, color='DarkOrange', alpha = 0.2, label = 'domaine ok selon GT')\n",
    "    #plt.hist(N_clusters, bins = np.unique(N_clusters), color = 'tab:purple')\n",
    "    unique, counts = np.unique(N_clusters, return_counts = True)\n",
    "    plt.bar(unique, counts, align = 'center', color = 'tab:purple')\n",
    "    plt.grid()\n",
    "    plt.axvline(x=GT, label='GT : ' + str(GT), c='DarkOrange', linewidth=2, linestyle = '--')\n",
    "    plt.legend()\n",
    "    plt.xlabel('#clusters detected')\n",
    "    plt.ylabel('#datasets')\n",
    "    plt.xlim(24, 55)\n",
    "    ymax = max(counts) * 1.5\n",
    "    plt.ylim(0, ymax)\n",
    "    plt.savefig(figures_saving_path + 'NumberOfClusters_'+ method_str + str(ID) +  '.pdf')\n",
    "        \n",
    "\n",
    "def histo_LocPerCluster(list_of_labels, method_str, GT = 24):\n",
    "    global ID, figures_saving_path\n",
    "    plt.figure(figsize = (4,4))\n",
    "    plt.axvline(x=GT, label='GT : ' + str(GT), c='tab:pink', linewidth=2,linestyle = '--')\n",
    "    #plt.axvspan(10, 40, color='tab:pink', alpha = 0.2, label = 'GT : 10 to 40')\n",
    "    #plt.axvline(x=18, c='tab:blue', linewidth=0.5, linestyle = '--')\n",
    "    #plt.axvline(x=24, c='tab:blue', linewidth=0.5, linestyle = '--')\n",
    "    for labels in list_of_labels:\n",
    "        unique, counts = np.unique(labels, return_counts = True)\n",
    "        counts_without_noise = counts[np.where(unique != 0)]\n",
    "        unique_for_bar, counts_for_bar = np.unique(counts_without_noise, return_counts = True)\n",
    "        plt.bar(unique_for_bar, counts_for_bar, align = 'center', color = 'tab:olive')\n",
    "    \n",
    "    plt.grid()\n",
    "    plt.legend()\n",
    "    plt.xlabel('#points attr. to the cluster')\n",
    "    plt.ylabel('#clusters')\n",
    "    #plt.ylim(0, 17.1)\n",
    "    #plt.xlim(0, 150)\n",
    "    #plt.xticks([15, 18, 21, 24])\n",
    "    #plt.yticks([0, 20, 40, 60])\n",
    "    plt.savefig(figures_saving_path + 'LocPerCluster_'+ method_str + str(ID) +  '.pdf')"
   ]
  },
  {
   "cell_type": "code",
   "execution_count": 268,
   "metadata": {},
   "outputs": [
    {
     "data": {
      "image/png": "[encoded data removed]",
      "text/plain": [
       "<Figure size 288x288 with 1 Axes>"
      ]
     },
     "metadata": {
      "needs_background": "light"
     },
     "output_type": "display_data"
    }
   ],
   "source": [
    "histo_LocPerCluster(graphic_labels, 'graphic', GT = 24)"
   ]
  },
  {
   "cell_type": "code",
   "execution_count": 269,
   "metadata": {},
   "outputs": [
    {
     "data": {
      "image/png": "[encoded data removed]",
      "text/plain": [
       "<Figure size 288x288 with 1 Axes>"
      ]
     },
     "metadata": {
      "needs_background": "light"
     },
     "output_type": "display_data"
    }
   ],
   "source": [
    "histo_NumberOfClusters(graphic_labels, 'graphic')"
   ]
  },
  {
   "cell_type": "code",
   "execution_count": null,
   "metadata": {},
   "outputs": [],
   "source": [
    "unique, counts = np.unique(labels_clean, return_counts = True)\n",
    "counts_without_noise = counts[np.where(unique != 0)]"
   ]
  },
  {
   "cell_type": "code",
   "execution_count": null,
   "metadata": {},
   "outputs": [],
   "source": []
  }
 ],
 "metadata": {
  "kernelspec": {
   "display_name": "Python 3",
   "language": "python",
   "name": "python3"
  },
  "language_info": {
   "codemirror_mode": {
    "name": "ipython",
    "version": 3
   },
   "file_extension": ".py",
   "mimetype": "text/x-python",
   "name": "python",
   "nbconvert_exporter": "python",
   "pygments_lexer": "ipython3",
   "version": "3.8.5"
  }
 },
 "nbformat": 4,
 "nbformat_minor": 4
}
