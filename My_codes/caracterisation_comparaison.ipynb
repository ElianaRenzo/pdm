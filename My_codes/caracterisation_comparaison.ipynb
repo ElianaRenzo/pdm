{
 "cells": [
  {
   "cell_type": "code",
   "execution_count": 219,
   "metadata": {},
   "outputs": [],
   "source": [
    "%run ./DataGen2.ipynb\n",
    "\n",
    "plt.rcParams.update({'font.size': 14})\n",
    "\n",
    "from matplotlib import rcParams\n",
    "rcParams.update({'figure.autolayout': True})"
   ]
  },
  {
   "cell_type": "code",
   "execution_count": 134,
   "metadata": {},
   "outputs": [],
   "source": [
    "ID = 6"
   ]
  },
  {
   "cell_type": "code",
   "execution_count": 135,
   "metadata": {},
   "outputs": [],
   "source": [
    "folders = {1: 'standard',\n",
    "          2: 'low_density',\n",
    "          3: 'high_noise',\n",
    "          4: 'different_densities',\n",
    "          5: 'different_sizes',\n",
    "          6: 'non_uniform_noise'}\n",
    "\n",
    "NumberOfSimulations = 30\n",
    "general_path = '/Users/Eliana/Documents/PDM/Codes/My_codes/Deviations_from_standard/'\n",
    "figures_saving_path = general_path + 'Results/Figures/'"
   ]
  },
  {
   "cell_type": "code",
   "execution_count": 136,
   "metadata": {},
   "outputs": [],
   "source": [
    "def read_GT():\n",
    "    path = general_path + 'Data/' + folders[ID] + '/'\n",
    "    truelabels = []\n",
    "    for i in range(NumberOfSimulations):\n",
    "        truelab = pd.read_csv(path + 'simulated_SMLM_' + str(ID)+ '_'+ str(i) +'.csv',\n",
    "                       usecols = ['labels_1'])['labels_1'].to_numpy()\n",
    "        truelabels.append(truelab)\n",
    "    return truelabels\n",
    "\n",
    "def read_graphic():\n",
    "    path = general_path + 'Graphic_analysis/'\n",
    "    graphic_labels = []\n",
    "    for i in range(NumberOfSimulations):\n",
    "        graphic_lab = pd.read_csv(path + 'graphic_result_' + str(ID)+ '_'+ str(i) +'.csv',\n",
    "                    usecols = ['graphic_label'])['graphic_label'].to_numpy()\n",
    "        graphic_labels.append(graphic_lab)\n",
    "    return graphic_labels\n",
    "\n",
    "def read_tomato():\n",
    "    path = general_path + 'Tomato_analysis/'\n",
    "    tomato_labels = []\n",
    "    for i in range(NumberOfSimulations):\n",
    "        tomato_lab = pd.read_csv(path + 'tomato_result_' + str(ID)+ '_'+ str(i) +'.csv',\n",
    "                    usecols = ['x'])['x'].to_numpy()\n",
    "        tomato_labels.append(tomato_lab)\n",
    "    return tomato_labels\n",
    "\n",
    "def read_voronoi():\n",
    "    path = general_path + 'SRT_analysis/'\n",
    "    voronoi_labels = []\n",
    "    for i in range(NumberOfSimulations):\n",
    "        voronoi_lab = pd.read_csv(path + 'voronoi_result_' + str(ID)+ '_'+ str(i) +'.csv',\n",
    "                    usecols = ['x'])['x'].to_numpy()\n",
    "        voronoi_labels.append(voronoi_lab)\n",
    "    return voronoi_labels"
   ]
  },
  {
   "cell_type": "code",
   "execution_count": 137,
   "metadata": {},
   "outputs": [],
   "source": [
    "voronoi_labels = read_voronoi()\n",
    "tomato_labels = read_tomato()\n",
    "graphic_labels = read_graphic()\n",
    "truelabels = read_GT()"
   ]
  },
  {
   "cell_type": "code",
   "execution_count": 142,
   "metadata": {},
   "outputs": [],
   "source": [
    "def compute_FMIs(GT, res):\n",
    "    FMIs = []\n",
    "    for i in range(NumberOfSimulations):\n",
    "        FMI = metrics.fowlkes_mallows_score(GT[i], res[i])\n",
    "        FMIs.append(FMI)\n",
    "    return FMIs\n",
    "\n",
    "def compute_and_plot_all_FMIs(title = ''):\n",
    "    global ID, truelabels, graphic_labels, tomato_labels, voronoi_labels, figures_saving_path\n",
    "    \n",
    "    FMI_graphic = compute_FMIs(truelabels, graphic_labels)\n",
    "    FMI_voronoi = compute_FMIs(truelabels, voronoi_labels)\n",
    "    FMI_tomato = compute_FMIs(truelabels, tomato_labels)\n",
    "    \n",
    "    plt.figure(figsize = (5,5))\n",
    "    plt.boxplot([FMI_graphic, FMI_tomato, FMI_voronoi], labels = ['GrapHiC', 'ToMATo', 'Voronoi'],\n",
    "                medianprops=dict(linewidth=1))\n",
    "    plt.grid()\n",
    "    plt.ylabel('FMI')\n",
    "    plt.title(title)\n",
    "    plt.savefig(figures_saving_path + 'FMI_' + str(ID) + '.pdf')\n",
    "\n",
    "\n",
    "                                \n",
    "#notch=True, patch_artist=True,\n",
    "#boxprops=dict(facecolor=c, color=c),\n",
    "#capprops=dict(color=c),\n",
    "#whiskerprops=dict(color=c),\n",
    "#flierprops=dict(color=c, markeredgecolor=c),\n",
    "#medianprops=dict(color='DarkOrange'))\n",
    "    "
   ]
  },
  {
   "cell_type": "code",
   "execution_count": 143,
   "metadata": {},
   "outputs": [
    {
     "data": {
      "image/png": "[encoded data removed]",
      "text/plain": [
       "<Figure size 360x360 with 1 Axes>"
      ]
     },
     "metadata": {
      "needs_background": "light"
     },
     "output_type": "display_data"
    }
   ],
   "source": [
    "compute_and_plot_all_FMIs()"
   ]
  },
  {
   "cell_type": "code",
   "execution_count": null,
   "metadata": {},
   "outputs": [],
   "source": []
  },
  {
   "cell_type": "code",
   "execution_count": 282,
   "metadata": {},
   "outputs": [],
   "source": [
    "def histo_NumberOfClusters(list_of_labels,  method_str, GT = 40):\n",
    "    global ID, figures_saving_path\n",
    "    N_clusters = []\n",
    "    for labels in list_of_labels:\n",
    "        NumberOfClusters = len(np.unique(labels))-1\n",
    "        N_clusters.append(NumberOfClusters)\n",
    "    plt.figure(figsize = (4,4))\n",
    "    #plt.axvspan(18, 24, color='DarkOrange', alpha = 0.2, label = 'domaine ok selon GT')\n",
    "    #plt.hist(N_clusters, bins = np.unique(N_clusters), color = 'tab:purple')\n",
    "    unique, counts = np.unique(N_clusters, return_counts = True)\n",
    "    plt.bar(unique, counts, align = 'center', color = 'tab:purple')\n",
    "    plt.grid()\n",
    "    plt.axvline(x=GT, label='GT = ' + str(GT), c='DarkOrange', linewidth=2, linestyle = '--')\n",
    "    plt.legend()\n",
    "    plt.xlabel('#clusters detected')\n",
    "    plt.ylabel('#images')\n",
    "    plt.xlim(25, 55)\n",
    "    ymax = max(counts) * 1.5\n",
    "    plt.ylim(0, ymax)\n",
    "    plt.savefig(figures_saving_path + 'NumberOfClusters_'+ method_str + str(ID) +  '.pdf')\n",
    "        \n",
    "\n",
    "def histo_LocPerCluster(list_of_labels, method_str, GT = 24):\n",
    "    global ID, figures_saving_path\n",
    "    plt.figure(figsize = (6,6))\n",
    "    plt.axvspan(18, 24, color='tab:pink', alpha = 0.2, label = 'GT = 18 to 24')\n",
    "    #plt.axvline(x=18, c='tab:blue', linewidth=0.5, linestyle = '--')\n",
    "    #plt.axvline(x=24, c='tab:blue', linewidth=0.5, linestyle = '--')\n",
    "    for labels in list_of_labels:\n",
    "        unique, counts = np.unique(labels, return_counts = True)\n",
    "        counts_without_noise = counts[np.where(unique != 0)]\n",
    "        unique_for_bar, counts_for_bar = np.unique(counts_without_noise, return_counts = True)\n",
    "        plt.bar(unique_for_bar, counts_for_bar, align = 'center', color = 'tab:olive')\n",
    "    \n",
    "    plt.grid()\n",
    "    #plt.axvline(x=GT, label='GT = ' + str(GT), c='tab:pink', linewidth=2, linestyle = '--')\n",
    "    plt.legend()\n",
    "    plt.xlabel('#points attr. to the cluster')\n",
    "    plt.ylabel('#clusters')\n",
    "    plt.ylim(0, 25)\n",
    "    #plt.xticks([15, 18, 21, 24])\n",
    "    #plt.yticks([0, 20, 40, 60])\n",
    "    plt.savefig(figures_saving_path + 'LocPerCluster_'+ method_str + str(ID) +  '.pdf')"
   ]
  },
  {
   "cell_type": "code",
   "execution_count": 283,
   "metadata": {},
   "outputs": [
    {
     "data": {
      "image/png": "[encoded data removed]",
      "text/plain": [
       "<Figure size 432x432 with 1 Axes>"
      ]
     },
     "metadata": {
      "needs_background": "light"
     },
     "output_type": "display_data"
    }
   ],
   "source": [
    "histo_LocPerCluster(graphic_labels, 'graphic')"
   ]
  },
  {
   "cell_type": "code",
   "execution_count": 200,
   "metadata": {},
   "outputs": [
    {
     "data": {
      "image/png": "[encoded data removed]",
      "text/plain": [
       "<Figure size 432x288 with 1 Axes>"
      ]
     },
     "metadata": {
      "needs_background": "light"
     },
     "output_type": "display_data"
    }
   ],
   "source": [
    "counts1 = [5,3,20]\n",
    "counts2 = [5, 20, 7]\n",
    "unique1 = [5,2,10]\n",
    "unique2 = [3,6,1]\n",
    "\n",
    "plt.bar(counts1, unique1, align = 'center', color = 'tab:purple')\n",
    "#plt.bar(counts2, unique2, align = 'center', color = 'tab:purple')\n",
    "\n",
    "plt.show()"
   ]
  },
  {
   "cell_type": "code",
   "execution_count": null,
   "metadata": {},
   "outputs": [],
   "source": [
    "unique, counts = np.unique(labels_clean, return_counts = True)\n",
    "counts_without_noise = counts[np.where(unique != 0)]"
   ]
  },
  {
   "cell_type": "code",
   "execution_count": null,
   "metadata": {},
   "outputs": [],
   "source": [
    "plt.figure(figsize = (5,5))\n",
    "#plt.axvspan(18, 24, color='DarkOrange', alpha = 0.2, label = 'domaine ok selon GT')\n",
    "plt.hist(counts_without_noise, bins = np.unique(counts_without_noise), color = 'tab:purple')\n",
    "plt.grid()\n",
    "plt.axvline(x=GT_L, label='GT = ' + str(GT_L), c='DarkOrange', linewidth=3)\n",
    "plt.legend()\n",
    "plt.xlabel('# points attributed')\n",
    "plt.ylabel('# clusters')\n",
    "plt.xlim(4, 12)\n",
    "#plt.xticks([15, 18, 21, 24])\n",
    "#plt.yticks([0, 20, 40, 60])\n",
    "#saving_path = '/Users/Eliana/Documents/PDM/Codes/My_codes/automatic_T/'\n",
    "#plt.savefig(saving_path + 'low_density_LocPerClus'+ '.pdf')"
   ]
  }
 ],
 "metadata": {
  "kernelspec": {
   "display_name": "Python 3",
   "language": "python",
   "name": "python3"
  },
  "language_info": {
   "codemirror_mode": {
    "name": "ipython",
    "version": 3
   },
   "file_extension": ".py",
   "mimetype": "text/x-python",
   "name": "python",
   "nbconvert_exporter": "python",
   "pygments_lexer": "ipython3",
   "version": "3.8.5"
  }
 },
 "nbformat": 4,
 "nbformat_minor": 4
}
