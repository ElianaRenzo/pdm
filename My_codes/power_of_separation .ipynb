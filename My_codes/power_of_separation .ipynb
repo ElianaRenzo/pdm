{
 "cells": [
  {
   "cell_type": "code",
   "execution_count": 1,
   "metadata": {},
   "outputs": [],
   "source": [
    "import pandas as pd\n",
    "import math\n",
    "\n",
    "%run ./DataGen2.ipynb"
   ]
  },
  {
   "cell_type": "code",
   "execution_count": null,
   "metadata": {},
   "outputs": [],
   "source": [
    "class Point():\n",
    "    def __init__(self,x,y):\n",
    "        self.x = x\n",
    "        self.y = y\n",
    "        self.label = []\n",
    "        \n",
    "        self.x_collected, self.y_collected = x,y # by default, if the point undergoes no perturbation, the coordinates collected are the GT coordiantes \n",
    "        \n",
    "    def add_label(self, label_to_add):\n",
    "        self.label.append(label_to_add)\n",
    "        \n",
    "        \n",
    "    def Scramble(self, delta):\n",
    "        mean = [0,0]\n",
    "        delta = delta + np.random.normal(0, 3) # delta should be random, and different for each point. \n",
    "        cov_scramble = [[delta**2, 0], [0, delta**2]]\n",
    "        coord_collected     = np.sum([np.array([self.x,self.y]),\n",
    "                                        np.random.multivariate_normal(mean, cov_scramble)],\n",
    "                                        axis = 0)\n",
    "        self.x_collected = coord_collected[0]\n",
    "        self.y_collected = coord_collected[1]\n",
    "        \n",
    "    def GetCoord(self):\n",
    "        return np.array([self.x_collected,self.y_collected])\n",
    "    \n",
    "    def GetCoord_GT(self):\n",
    "        return np.array([self.x,self.y])\n",
    "    \n",
    "    def Isin(self, cluster, delta = 2):\n",
    "        diff = cluster.center -  self.GetCoord_GT()\n",
    "        if np.linalg.norm(cluster.center -  self.GetCoord_GT()) < (cluster.radius + delta): return True\n",
    "        else: return False \n",
    "        "
   ]
  },
  {
   "cell_type": "code",
   "execution_count": null,
   "metadata": {},
   "outputs": [],
   "source": [
    "class Cluster():\n",
    "    def __init__(self, center, radius, label):\n",
    "        self.center = center\n",
    "        self.radius = radius\n",
    "        self.points = []\n",
    "        self.label  = label\n",
    "        \n",
    "        \n",
    "    def Fill(self, NumberOfPoints, cluster_shape):\n",
    "        \n",
    "        if cluster_shape == 'uniform':\n",
    "            temp = uniform_cluster(self.radius, NumberOfPoints, self.center)\n",
    "        if cluster_shape == 'gaussian':\n",
    "            temp = gaussian_cluster((self.radius / 2), NumberOfPoints, self.center)\n",
    "            \n",
    "        for t in temp: \n",
    "            new_point = Point(x = t[0], y = t[1])\n",
    "            new_point.add_label(self.label)\n",
    "            self.points.append(new_point)"
   ]
  },
  {
   "cell_type": "code",
   "execution_count": null,
   "metadata": {},
   "outputs": [],
   "source": [
    "class Param():\n",
    "    def __init__(self):\n",
    "        # Region of interest :\n",
    "        self.x_lim = [0, 4] # micrometer\n",
    "        self.y_lim = [0, 4]\n",
    "\n",
    "        # Clusters :\n",
    "        self.NumberOfClusters = 40\n",
    "        self.LocPerCluster    = [25] * self.NumberOfClusters\n",
    "        self.r                = [30] * self.NumberOfClusters # nm\n",
    "        self.delta            = 20 #nm\n",
    "        self.cluster_shape    = 'uniform'\n",
    "\n",
    "        # Noise :\n",
    "        self.SNR              = 1\n",
    "        self.UniformNoise     = True \n",
    "        \n",
    "        # Scales : \n",
    "        self.NumberOfScales   = 1"
   ]
  }
 ],
 "metadata": {
  "kernelspec": {
   "display_name": "Python 3",
   "language": "python",
   "name": "python3"
  },
  "language_info": {
   "codemirror_mode": {
    "name": "ipython",
    "version": 3
   },
   "file_extension": ".py",
   "mimetype": "text/x-python",
   "name": "python",
   "nbconvert_exporter": "python",
   "pygments_lexer": "ipython3",
   "version": "3.8.5"
  }
 },
 "nbformat": 4,
 "nbformat_minor": 4
}
