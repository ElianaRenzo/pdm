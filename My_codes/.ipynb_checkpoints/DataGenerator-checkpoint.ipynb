{
 "cells": [
  {
   "cell_type": "code",
   "execution_count": 111,
   "metadata": {},
   "outputs": [],
   "source": [
    "# import necessary libraries\n",
    "from sklearn.metrics import silhouette_score\n",
    "from sklearn.preprocessing import normalize\n",
    "from scipy.sparse.linalg import eigsh\n",
    "from scipy.signal import find_peaks\n",
    "from scipy.spatial import Delaunay\n",
    "from scipy.spatial import distance\n",
    "from sklearn.cluster import DBSCAN\n",
    "from sklearn.cluster import KMeans\n",
    "import matplotlib.pyplot as plt\n",
    "import multiprocessing as mp\n",
    "from sklearn import metrics\n",
    "import networkx as nx\n",
    "import numpy as np\n",
    "import random\n",
    "import csv"
   ]
  },
  {
   "cell_type": "code",
   "execution_count": 112,
   "metadata": {},
   "outputs": [],
   "source": [
    "%run ./functions_for_GrapHiC.ipynb"
   ]
  },
  {
   "cell_type": "code",
   "execution_count": 166,
   "metadata": {},
   "outputs": [],
   "source": [
    "class DataGenerator():\n",
    "    \n",
    "    def __init__(self,\n",
    "                 NumberOfClusters, LocPerCluster, r, IsolatedLoc,\n",
    "                 SecondScale,\n",
    "                 sigma_scramble = 1,\n",
    "                 x_lim = [-100, 100], y_lim = [-100, 100],\n",
    "                 cluster_shape = 'uniform'):\n",
    "        \n",
    "        # frame shape\n",
    "        self.xmin, self.xmax = x_lim[0], x_lim[1]\n",
    "        self.ymin, self.ymax = y_lim[0], y_lim[1]\n",
    "        \n",
    "        # parameters \n",
    "        self.NumberOfClusters = NumberOfClusters\n",
    "        self.numbers          = LocPerCluster\n",
    "\n",
    "        self.r                = r\n",
    "        self.IsolatedLoc      = IsolatedLoc\n",
    "        self.cluster_shape    = cluster_shape\n",
    "        \n",
    "        \n",
    "        # data generation steps\n",
    "        self.PlaceCenters()\n",
    "        self.FillClusters()\n",
    "        self.AddIsolatedLoc()\n",
    "        self.Scramble(sigma_scramble)\n",
    "        \n",
    "    def PlaceCenters(self):\n",
    "        \n",
    "        # generating random centers of clusters, avoiding the frame edges\n",
    "        \n",
    "        # ------ version with no condition: ------\n",
    "        # self.centers      = np.random.uniform(low=[self.xmin + self.rmax, self.ymin + self.rmax],\n",
    "        #                                      high=[self.xmax-self.rmax, self.ymax-self.rmax],\n",
    "        #                                      size=(self.NumberOfClusters,2))\n",
    "        # ----------------------------------------\n",
    "        \n",
    "        # ------ Version with |ci - cj| < 2*rmax: ------\n",
    "        self.centers      = np.random.uniform(low=[self.xmin + self.r, self.ymin + self.r],\n",
    "                                              high=[self.xmax - self.r, self.ymax - self.r],\n",
    "                                              size=(1,2))\n",
    "        \n",
    "        n = 1      # n counts the number of accepted points\n",
    "        count = 0  # for avoiding endless loop\n",
    "        while (n < self.NumberOfClusters) and (count < (self.NumberOfClusters * 10)): # 10 is arbitrarily chosen\n",
    "            count += 1\n",
    "            if (count  == ((self.NumberOfClusters * 10) -2) ): print('cannot place any more clusters')\n",
    "            new_center = np.random.uniform(low=[self.xmin + self.r, self.ymin + self.r],\n",
    "                                              high=[self.xmax-self.r, self.ymax-self.r],\n",
    "                                              size=(1,2))\n",
    "            is_accepted = True\n",
    "            for i, c in enumerate(self.centers):\n",
    "                if np.linalg.norm(c - new_center) < (2 * self.r): is_accepted = False\n",
    "            \n",
    "            if is_accepted: \n",
    "                n += 1\n",
    "                self.centers = np.vstack([self.centers, new_center])\n",
    "            \n",
    "                 \n",
    "\n",
    "    def FillClusters(self,):\n",
    "        # Filling the clusters, each cluster i containing self.numbers[i] points. \n",
    "        np.random.seed(20)\n",
    "\n",
    "        self.truelabels = []\n",
    "        self.k          = 0\n",
    "\n",
    "        points  = np.array([[0, 0]])  \n",
    "\n",
    "        for i, center in enumerate(self.centers):\n",
    "            if self.cluster_shape  == 'uniform':\n",
    "                temp = uniform_cluster(self.r, self.numbers[i], center)\n",
    "            elif self.cluster_shape == 'gaussian':\n",
    "                temp = gaussian_cluster(self.r, self.numbers[i], center)\n",
    "            else:\n",
    "                print('cluster_shape must be \"uniform\" or \"gaussian\"')\n",
    "                return # comment sortir tout court de la classe?\n",
    "            \n",
    "            self.truelabels = self.truelabels + [self.k for t in list(range(self.numbers[i]))]\n",
    "            self.k          = self.k + 1\n",
    "            for t in temp:\n",
    "                points = np.append(points, [t], axis=0)\n",
    "\n",
    "        points = points[1:] \n",
    "        self.points = points\n",
    "        \n",
    "        \n",
    "    def AddIsolatedLoc(self):\n",
    "        # n counts the number of isolated locations that are added to the data\n",
    "        n = 0\n",
    "        while n < self.IsolatedLoc:\n",
    "            new_noise = np.random.uniform(low=[self.xmin, self.ymin], high=[self.xmax, self.ymax], size=(1,2))\n",
    "            is_accepted = True \n",
    "            for i, c in enumerate(self.centers): # checking that it is not in a cluster\n",
    "                if np.linalg.norm(c - new_noise) < (self.r): is_accepted = False \n",
    "            \n",
    "            if is_accepted: \n",
    "                if n == 0: self.noise = new_noise\n",
    "                else :     self.noise = np.vstack([self.noise, new_noise])\n",
    "                    \n",
    "                n += 1\n",
    "            \n",
    "        \n",
    "        #noise      = np.random.uniform(low=[-100, -100], high=[100, 100], size=(self.IsolatedLoc,2)) # old version, being on a cluster in accepted\n",
    "        self.truelabels = self.truelabels + [self.k for t in  list(range(self.IsolatedLoc))] # labelling the isolated with same label\n",
    "        # self.k          = self.k + 1\n",
    "        for t in self.noise:\n",
    "            self.points = np.append(self.points, [t], axis=0)\n",
    "            \n",
    "        self.points_obt = self.points # assign this name for users \n",
    "        \n",
    "        \n",
    "    def Scramble(self, sigma_scramble):\n",
    "        mean = [0,0]\n",
    "        cov_scramble = [[sigma_scramble**2, 0], [0, sigma_scramble**2]]\n",
    "        # _obt stands for \"obtained/collected data\" \n",
    "        self.scrambled_points = np.array([np.sum([p, np.random.multivariate_normal(mean, cov_scramble)],\n",
    "                                        axis = 0) for p in self.points])\n",
    "        self.points_obt = self.scrambled_points\n",
    " \n",
    "    #def Get_GT(self):\n",
    "    #    return np.vstack([self.cluster_points, self.isolated_points])\n",
    "        \n",
    "    #def Get_Collected(self):\n",
    "    #    return np.vstack([self.scrambled_cluster_points, self.isolated_points])\n",
    "\n",
    "    def plot_GT(self):\n",
    "        P1              = self.points \n",
    "        Sigma1          = np.ones((P1.shape[0], 2, 2)) * 0.5\n",
    "        Sigma1[:, 0, 1] = 0\n",
    "        Sigma1[:, 1, 0] = 0\n",
    "        n1              = np.ones((P1.shape[0], 1)).ravel()\n",
    "        self.truelabels = np.array(self.truelabels)\n",
    "\n",
    "        plot_points(P1, self.truelabels, 'Input Data: GT', 4)\n",
    "        plot_points(P1, self.truelabels * 0, 'Input Data', 4)\n",
    "        \n",
    "    def plot_collected(self):\n",
    "        P1              = self.points_obt \n",
    "        Sigma1          = np.ones((P1.shape[0], 2, 2)) * 0.5\n",
    "        Sigma1[:, 0, 1] = 0\n",
    "        Sigma1[:, 1, 0] = 0\n",
    "        n1              = np.ones((P1.shape[0], 1)).ravel()\n",
    "        self.truelabels = np.array(self.truelabels)\n",
    "\n",
    "        plot_points(P1, self.truelabels, 'Input Data: GT', 4)\n",
    "        plot_points(P1, self.truelabels * 0, 'Input Data', 4)\n",
    "        \n",
    "        \n",
    "        "
   ]
  },
  {
   "cell_type": "code",
   "execution_count": 167,
   "metadata": {},
   "outputs": [],
   "source": [
    "# Region of interest : \n",
    "x_lim = [-150, 50]\n",
    "y_lim = [-50, 150]\n",
    "\n",
    "\n",
    "# Clusters :\n",
    "\n",
    "NumberOfClusters = 20\n",
    "LocPerCluster    = [100] * NumberOfClusters \n",
    "\n",
    "r                = 3\n",
    "IsolatedLoc      = 100\n",
    "sigma_scramble   = 1.2\n",
    "\n",
    "SecondScale      = True\n",
    "#r2min = 20\n",
    "#r2max = 22\n",
    "#IsolatedClusters = 0 # voir ici comment faire ça de manière bien compréhensible \n",
    "\n",
    "\n",
    "# Generating the data :\n",
    "\n",
    "datagen = DataGenerator(x_lim = x_lim,\n",
    "                        y_lim = y_lim,\n",
    "                        NumberOfClusters = NumberOfClusters,\n",
    "                        LocPerCluster = LocPerCluster,\n",
    "                        r = r,\n",
    "                        IsolatedLoc = IsolatedLoc,\n",
    "                        SecondScale = SecondScale,\n",
    "                        sigma_scramble = sigma_scramble, cluster_shape = 'uniform') "
   ]
  },
  {
   "cell_type": "code",
   "execution_count": 168,
   "metadata": {},
   "outputs": [
    {
     "data": {
      "image/png": "[encoded data removed]",
      "text/plain": [
       "<Figure size 504x504 with 1 Axes>"
      ]
     },
     "metadata": {
      "needs_background": "light"
     },
     "output_type": "display_data"
    },
    {
     "data": {
      "image/png": "[encoded data removed]",
      "text/plain": [
       "<Figure size 504x504 with 1 Axes>"
      ]
     },
     "metadata": {
      "needs_background": "light"
     },
     "output_type": "display_data"
    }
   ],
   "source": [
    "datagen.plot_GT()"
   ]
  },
  {
   "cell_type": "code",
   "execution_count": 169,
   "metadata": {},
   "outputs": [
    {
     "data": {
      "image/png": "[encoded data removed]",
      "text/plain": [
       "<Figure size 504x504 with 1 Axes>"
      ]
     },
     "metadata": {
      "needs_background": "light"
     },
     "output_type": "display_data"
    },
    {
     "data": {
      "image/png": "[encoded data removed]",
      "text/plain": [
       "<Figure size 504x504 with 1 Axes>"
      ]
     },
     "metadata": {
      "needs_background": "light"
     },
     "output_type": "display_data"
    }
   ],
   "source": [
    "datagen.plot_collected()"
   ]
  },
  {
   "cell_type": "code",
   "execution_count": 170,
   "metadata": {},
   "outputs": [
    {
     "ename": "AttributeError",
     "evalue": "'DataGenerator' object has no attribute 'default_value'",
     "output_type": "error",
     "traceback": [
      "\u001b[0;31m---------------------------------------------------------------------------\u001b[0m",
      "\u001b[0;31mAttributeError\u001b[0m                            Traceback (most recent call last)",
      "\u001b[0;32m<ipython-input-170-ee8d153d7078>\u001b[0m in \u001b[0;36m<module>\u001b[0;34m\u001b[0m\n\u001b[0;32m----> 1\u001b[0;31m \u001b[0mdatagen\u001b[0m\u001b[0;34m.\u001b[0m\u001b[0mdefault_value\u001b[0m\u001b[0;34m\u001b[0m\u001b[0;34m\u001b[0m\u001b[0m\n\u001b[0m",
      "\u001b[0;31mAttributeError\u001b[0m: 'DataGenerator' object has no attribute 'default_value'"
     ]
    }
   ],
   "source": [
    "datagen.default_value"
   ]
  },
  {
   "cell_type": "code",
   "execution_count": 171,
   "metadata": {},
   "outputs": [
    {
     "data": {
      "image/png": "[encoded data removed]",
      "text/plain": [
       "<Figure size 504x504 with 1 Axes>"
      ]
     },
     "metadata": {
      "needs_background": "light"
     },
     "output_type": "display_data"
    },
    {
     "data": {
      "image/png": "[encoded data removed]",
      "text/plain": [
       "<Figure size 504x504 with 1 Axes>"
      ]
     },
     "metadata": {
      "needs_background": "light"
     },
     "output_type": "display_data"
    }
   ],
   "source": [
    "def give_circle_points(rmin, rmax, n_points, center):\n",
    "    # This function generates \"n_points\" uniform points inside a circle with center of \"center\", \n",
    "    # and a random radius between \"r_min\" and \"rmax\"\n",
    "    r         = np.random.uniform(rmin, rmax, 1)\n",
    "    r_s       = np.random.uniform(0, r, n_points)\n",
    "    theta_s   = np.random.uniform(0, np.pi*2, n_points)\n",
    "    sin_theta = np.sin(theta_s)\n",
    "    cos_theta = np.cos(theta_s)\n",
    "    points    = [[center[0] + r_s[i] * cos_theta[i], center[1] + r_s[i] * sin_theta[i]] for i in range(n_points)]  \n",
    "    return points\n",
    "\n",
    "\n",
    "np.random.seed(10)\n",
    "\n",
    "\n",
    "truelabels = []\n",
    "k          = 0\n",
    "\n",
    "centers = [(-60, 42), (65, -40), (-35, -60), (60, 60)]\n",
    "points  = np.array([[0, 0]])\n",
    "numbers = [50, 40, 55, 45]  \n",
    "\n",
    "for i, center in enumerate(centers):\n",
    "    temp = give_circle_points(16, 20, numbers[i], center)\n",
    "    truelabels = truelabels + [k for t in list(range(numbers[i]))]\n",
    "    k          = k + 1\n",
    "    for t in temp:\n",
    "        points = np.append(points, [t], axis=0)\n",
    "\n",
    "points = points[1:]  \n",
    "\n",
    "\n",
    "noise      = np.random.uniform(low=[-100, -100], high=[100, 100], size=(100,2))\n",
    "truelabels = truelabels + [k for t in  list(range(100))]\n",
    "k          = k + 1\n",
    "for t in noise:\n",
    "    points = np.append(points, [t], axis=0)\n",
    "\n",
    "P1              = points \n",
    "Sigma1          = np.ones((P1.shape[0], 2, 2)) * 0.5\n",
    "Sigma1[:, 0, 1] = 0\n",
    "Sigma1[:, 1, 0] = 0\n",
    "n1              = np.ones((P1.shape[0], 1)).ravel()\n",
    "truelabels      = np.array(truelabels)\n",
    "\n",
    "\n",
    "\n",
    "\n",
    "plot_points(P1, truelabels, 'Input Data: GT', 4)\n",
    "plot_points(P1, truelabels * 0, 'Input Data', 4)"
   ]
  },
  {
   "cell_type": "code",
   "execution_count": 90,
   "metadata": {},
   "outputs": [],
   "source": [
    "NbOfCenters       = 10\n",
    "centres_test      = np.random.uniform(low=[-100, -100], high=[100, 100], size=(10,2))"
   ]
  },
  {
   "cell_type": "code",
   "execution_count": 91,
   "metadata": {},
   "outputs": [
    {
     "data": {
      "text/plain": [
       "array([[ 51.84778798, -35.52984434],\n",
       "       [  0.40442902,  16.76621306],\n",
       "       [-46.67982349,  42.76932891],\n",
       "       [ -8.54577859,  30.04627448],\n",
       "       [  0.5337677 , -13.72128692],\n",
       "       [ 43.55329222, -97.52783149],\n",
       "       [-83.94112499,  15.27458907],\n",
       "       [ 62.72434329,  12.30724673],\n",
       "       [ 20.71833923, -55.88383496],\n",
       "       [ 83.90820852, -58.89985992]])"
      ]
     },
     "execution_count": 91,
     "metadata": {},
     "output_type": "execute_result"
    }
   ],
   "source": [
    "centres_test"
   ]
  },
  {
   "cell_type": "code",
   "execution_count": 92,
   "metadata": {},
   "outputs": [
    {
     "data": {
      "text/plain": [
       "numpy.ndarray"
      ]
     },
     "execution_count": 92,
     "metadata": {},
     "output_type": "execute_result"
    }
   ],
   "source": [
    "type(centres_test)"
   ]
  },
  {
   "cell_type": "code",
   "execution_count": 88,
   "metadata": {},
   "outputs": [
    {
     "data": {
      "text/plain": [
       "(10, 2)"
      ]
     },
     "execution_count": 88,
     "metadata": {},
     "output_type": "execute_result"
    }
   ],
   "source": [
    "centres_test.shape"
   ]
  },
  {
   "cell_type": "code",
   "execution_count": 89,
   "metadata": {},
   "outputs": [
    {
     "ename": "TypeError",
     "evalue": "'list' object cannot be interpreted as an integer",
     "output_type": "error",
     "traceback": [
      "\u001b[0;31m---------------------------------------------------------------------------\u001b[0m",
      "\u001b[0;31mTypeError\u001b[0m                                 Traceback (most recent call last)",
      "\u001b[0;32m<ipython-input-89-bcd6eb5cbc3c>\u001b[0m in \u001b[0;36m<module>\u001b[0;34m\u001b[0m\n\u001b[0;32m----> 1\u001b[0;31m \u001b[0mcentres_test\u001b[0m \u001b[0;34m=\u001b[0m \u001b[0mnp\u001b[0m\u001b[0;34m.\u001b[0m\u001b[0mappend\u001b[0m\u001b[0;34m(\u001b[0m\u001b[0mcentres_test\u001b[0m\u001b[0;34m,\u001b[0m \u001b[0mnp\u001b[0m\u001b[0;34m.\u001b[0m\u001b[0mndarray\u001b[0m\u001b[0;34m(\u001b[0m\u001b[0;34m[\u001b[0m\u001b[0;34m[\u001b[0m\u001b[0;36m1\u001b[0m\u001b[0;34m,\u001b[0m\u001b[0;36m1\u001b[0m\u001b[0;34m]\u001b[0m\u001b[0;34m]\u001b[0m\u001b[0;34m)\u001b[0m\u001b[0;34m)\u001b[0m\u001b[0;34m\u001b[0m\u001b[0;34m\u001b[0m\u001b[0m\n\u001b[0m",
      "\u001b[0;31mTypeError\u001b[0m: 'list' object cannot be interpreted as an integer"
     ]
    }
   ],
   "source": [
    "centres_test = np.append(centres_test, np.array([[1,1]]))"
   ]
  },
  {
   "cell_type": "code",
   "execution_count": 79,
   "metadata": {},
   "outputs": [
    {
     "data": {
      "text/plain": [
       "array([ 83.65925948,  96.92436924,  99.409429  ,   3.18479213,\n",
       "        40.01686172, -84.68824496,  80.22829935,  62.71652942,\n",
       "       -28.18765735,  95.14074742, -22.8027806 , -96.7581216 ,\n",
       "       -96.26510893,   8.82790867, -11.37073655, -94.85997051,\n",
       "       -26.33909709, -15.93589842, -18.91920775,  99.61553293,\n",
       "         1.        ,   1.        ])"
      ]
     },
     "execution_count": 79,
     "metadata": {},
     "output_type": "execute_result"
    }
   ],
   "source": [
    "centres_test"
   ]
  },
  {
   "cell_type": "code",
   "execution_count": 80,
   "metadata": {},
   "outputs": [
    {
     "data": {
      "text/plain": [
       "(22,)"
      ]
     },
     "execution_count": 80,
     "metadata": {},
     "output_type": "execute_result"
    }
   ],
   "source": [
    "centres_test.shape"
   ]
  },
  {
   "cell_type": "code",
   "execution_count": 82,
   "metadata": {},
   "outputs": [
    {
     "data": {
      "text/plain": [
       "numpy.ndarray"
      ]
     },
     "execution_count": 82,
     "metadata": {},
     "output_type": "execute_result"
    }
   ],
   "source": [
    "type(centres_test)"
   ]
  },
  {
   "cell_type": "code",
   "execution_count": 74,
   "metadata": {},
   "outputs": [
    {
     "data": {
      "text/plain": [
       "(1, 2)"
      ]
     },
     "execution_count": 74,
     "metadata": {},
     "output_type": "execute_result"
    }
   ],
   "source": [
    "np.array([[1,1]]).shape"
   ]
  },
  {
   "cell_type": "code",
   "execution_count": 93,
   "metadata": {},
   "outputs": [],
   "source": [
    "newrow = [1,1]"
   ]
  },
  {
   "cell_type": "code",
   "execution_count": 97,
   "metadata": {},
   "outputs": [],
   "source": [
    "centres_test = np.vstack([centres_test, newrow])"
   ]
  },
  {
   "cell_type": "code",
   "execution_count": 98,
   "metadata": {},
   "outputs": [
    {
     "data": {
      "text/plain": [
       "array([[ 51.84778798, -35.52984434],\n",
       "       [  0.40442902,  16.76621306],\n",
       "       [-46.67982349,  42.76932891],\n",
       "       [ -8.54577859,  30.04627448],\n",
       "       [  0.5337677 , -13.72128692],\n",
       "       [ 43.55329222, -97.52783149],\n",
       "       [-83.94112499,  15.27458907],\n",
       "       [ 62.72434329,  12.30724673],\n",
       "       [ 20.71833923, -55.88383496],\n",
       "       [ 83.90820852, -58.89985992],\n",
       "       [  1.        ,   1.        ]])"
      ]
     },
     "execution_count": 98,
     "metadata": {},
     "output_type": "execute_result"
    }
   ],
   "source": [
    "centres_test"
   ]
  },
  {
   "cell_type": "code",
   "execution_count": 118,
   "metadata": {},
   "outputs": [],
   "source": [
    "N = [40] * 5 + [50] * 10"
   ]
  },
  {
   "cell_type": "code",
   "execution_count": 119,
   "metadata": {},
   "outputs": [
    {
     "data": {
      "text/plain": [
       "[40, 40, 40, 40, 40, 50, 50, 50, 50, 50, 50, 50, 50, 50, 50]"
      ]
     },
     "execution_count": 119,
     "metadata": {},
     "output_type": "execute_result"
    }
   ],
   "source": [
    "N"
   ]
  },
  {
   "cell_type": "code",
   "execution_count": 52,
   "metadata": {},
   "outputs": [
    {
     "data": {
      "text/plain": [
       "array([[-68.15390535,  15.21904901],\n",
       "       [-79.21399243,  14.83451655],\n",
       "       [-71.4504602 ,  21.90008897],\n",
       "       ...,\n",
       "       [ -9.86909978,  79.88750167],\n",
       "       [ 59.12631972, -77.14514175],\n",
       "       [  3.6167897 ,  75.65768656]])"
      ]
     },
     "execution_count": 52,
     "metadata": {},
     "output_type": "execute_result"
    }
   ],
   "source": [
    "datagen.points"
   ]
  },
  {
   "cell_type": "code",
   "execution_count": 63,
   "metadata": {},
   "outputs": [],
   "source": [
    "scramble_points = [np.sum([p, [1,1]], axis = 0) for p in datagen.points]"
   ]
  },
  {
   "cell_type": "code",
   "execution_count": 64,
   "metadata": {},
   "outputs": [
    {
     "data": {
      "text/plain": [
       "[array([-67.15390535,  16.21904901]),\n",
       " array([-78.21399243,  15.83451655]),\n",
       " array([-70.4504602 ,  22.90008897]),\n",
       " array([-72.7461479 ,  17.81992862]),\n",
       " array([-77.32832206,  18.27254728]),\n",
       " array([-74.46959017,  16.22244216]),\n",
       " array([-70.95486754,  15.16446305]),\n",
       " array([-76.98159278,  19.10500899]),\n",
       " array([-74.05315726,  18.07099132]),\n",
       " array([-73.54602666,  16.43398926]),\n",
       " array([-75.53994058,  14.21066296]),\n",
       " array([-73.38392994,  23.17706333]),\n",
       " array([-67.66787238,  20.35416824]),\n",
       " array([-72.09004184,  12.99334221]),\n",
       " array([-73.01598082,  18.083254  ]),\n",
       " array([-73.14315893,  18.7299996 ]),\n",
       " array([-77.71463051,  17.72378416]),\n",
       " array([-72.91094559,  19.62468835]),\n",
       " array([-73.39913612,  19.61327941]),\n",
       " array([-76.72461582,  14.01294867]),\n",
       " array([21.70161418, 82.61060563]),\n",
       " array([20.3624414 , 82.85024676]),\n",
       " array([22.53913377, 82.96185334]),\n",
       " array([18.55054054, 85.59096897]),\n",
       " array([21.47333238, 85.3542277 ]),\n",
       " array([21.22454273, 88.4148952 ]),\n",
       " array([17.17609837, 82.7222135 ]),\n",
       " array([23.13050768, 85.14514348]),\n",
       " array([18.97724278, 81.09123678]),\n",
       " array([24.76383958, 83.71324908]),\n",
       " array([26.20464812, 81.4036238 ]),\n",
       " array([26.0558863 , 80.98473892]),\n",
       " array([19.35438716, 88.8955576 ]),\n",
       " array([21.11705312, 80.91127197]),\n",
       " array([17.95182612, 83.88297609]),\n",
       " array([19.95790059, 81.05772576]),\n",
       " array([21.9250029, 87.4004305]),\n",
       " array([19.62034175, 82.51771556]),\n",
       " array([25.38270612, 85.60722253]),\n",
       " array([22.1634064 , 84.39869502]),\n",
       " array([-0.87991877, 11.87823085]),\n",
       " array([-1.59554581, 12.70471811]),\n",
       " array([ 0.64249178, 10.55932252]),\n",
       " array([-3.98508378, 15.52664448]),\n",
       " array([-1.17892238, 12.71461896]),\n",
       " array([-0.52675523, 11.76420411]),\n",
       " array([-0.59700393, 11.75909553]),\n",
       " array([-2.42019286,  7.35993255]),\n",
       " array([ 2.01097251, 16.3332043 ]),\n",
       " array([ 0.02021346, 11.20209572]),\n",
       " array([ 0.04113505, 12.18741951]),\n",
       " array([ 5.51778356, 10.11832752]),\n",
       " array([ 2.24002586, 13.82471122]),\n",
       " array([2.09298227, 5.96632549]),\n",
       " array([-2.18528783, 14.3157565 ]),\n",
       " array([ 4.25698803, 13.89259641]),\n",
       " array([-0.25556871,  8.77867357]),\n",
       " array([ 5.25737165, 11.31156791]),\n",
       " array([ 2.48209023, 11.56885523]),\n",
       " array([ 0.23283478, 13.64793575]),\n",
       " array([ 74.01370666, -90.37447431]),\n",
       " array([ 71.46929648, -80.45548792]),\n",
       " array([ 75.37650544, -83.05143719]),\n",
       " array([ 70.54277546, -90.48613774]),\n",
       " array([ 67.87461579, -86.24742163]),\n",
       " array([ 70.88398266, -89.53879898]),\n",
       " array([ 66.24405833, -86.29967683]),\n",
       " array([ 69.94948716, -82.06053958]),\n",
       " array([ 67.2140342 , -83.48274001]),\n",
       " array([ 69.6007839, -88.9144802]),\n",
       " array([ 70.19254539, -92.78085895]),\n",
       " array([ 75.75262629, -87.63570215]),\n",
       " array([ 70.01481583, -88.20728107]),\n",
       " array([ 66.60569076, -86.44724565]),\n",
       " array([ 74.48944688, -82.75047822]),\n",
       " array([ 70.66099459, -86.69504928]),\n",
       " array([ 70.29146929, -86.42623078]),\n",
       " array([ 70.48641038, -80.30420287]),\n",
       " array([ 66.94310985, -90.14713517]),\n",
       " array([ 74.47397707, -89.61198461]),\n",
       " array([ 53.75366777, -47.36579676]),\n",
       " array([ 57.31283199, -40.12164445]),\n",
       " array([ 54.10953872, -50.05536523]),\n",
       " array([ 51.80260589, -48.57034982]),\n",
       " array([ 54.42825784, -48.89287861]),\n",
       " array([ 56.60061247, -44.84063927]),\n",
       " array([ 55.36009688, -45.43924736]),\n",
       " array([ 49.82965406, -39.77964318]),\n",
       " array([ 57.91238657, -45.31083506]),\n",
       " array([ 57.56432385, -42.98484518]),\n",
       " array([ 56.0442133 , -47.78835932]),\n",
       " array([ 57.28648985, -47.60580829]),\n",
       " array([ 49.92561556, -45.02723818]),\n",
       " array([ 52.85648938, -45.85016624]),\n",
       " array([ 61.12106715, -44.78415369]),\n",
       " array([ 52.03265228, -41.55912942]),\n",
       " array([ 52.78258146, -43.73948834]),\n",
       " array([ 53.52639678, -43.52335756]),\n",
       " array([ 53.23564311, -50.0555649 ]),\n",
       " array([ 57.97289702, -43.34781219]),\n",
       " array([-61.46877568, -87.12904263]),\n",
       " array([-58.63561339, -91.05930227]),\n",
       " array([-63.30828392, -85.99303363]),\n",
       " array([-64.49689856, -90.2746767 ]),\n",
       " array([-59.3125972 , -89.26187941]),\n",
       " array([-66.88508092, -87.62864199]),\n",
       " array([-58.94768763, -91.28527465]),\n",
       " array([-57.15045748, -87.51707897]),\n",
       " array([-61.77435524, -87.42060459]),\n",
       " array([-63.66931444, -82.2467039 ]),\n",
       " array([-62.2241548 , -81.64707619]),\n",
       " array([-61.84722882, -86.1039132 ]),\n",
       " array([-66.71263294, -86.43726097]),\n",
       " array([-60.31826127, -89.17866159]),\n",
       " array([-64.72114453, -86.35789129]),\n",
       " array([-61.2343847 , -83.38092031]),\n",
       " array([-67.7679432 , -87.18206758]),\n",
       " array([-57.48313669, -89.77700858]),\n",
       " array([-57.70934232, -83.63154711]),\n",
       " array([-65.02257771, -84.90393503]),\n",
       " array([70.23542034,  7.90562206]),\n",
       " array([71.83193712,  7.56998719]),\n",
       " array([72.85968327,  6.25420849]),\n",
       " array([66.17584184,  8.00985826]),\n",
       " array([70.88238109,  8.28491416]),\n",
       " array([72.07067371,  7.46545983]),\n",
       " array([74.71379175,  6.50058581]),\n",
       " array([69.86136897,  4.14236697]),\n",
       " array([73.26159194,  9.42057686]),\n",
       " array([71.72526189,  1.27848345]),\n",
       " array([71.43039803,  8.06529971]),\n",
       " array([74.26602646,  1.6957499 ]),\n",
       " array([70.00763798,  9.59835768]),\n",
       " array([73.52267646, 12.37868425]),\n",
       " array([68.09723321,  7.64012176]),\n",
       " array([72.54693288,  8.47345996]),\n",
       " array([72.2355733 ,  7.61832432]),\n",
       " array([70.24119811, 13.15235429]),\n",
       " array([67.37281472,  4.28325754]),\n",
       " array([67.4638146 ,  7.51468702]),\n",
       " array([ 47.51827725, -22.38334495]),\n",
       " array([ 44.71812528, -19.78906471]),\n",
       " array([ 44.40933045, -25.47055973]),\n",
       " array([ 45.29059622, -19.825929  ]),\n",
       " array([ 44.0970243 , -19.78908771]),\n",
       " array([ 46.2360798, -19.7926336]),\n",
       " array([ 45.10788569, -15.21876456]),\n",
       " array([ 42.94723828, -18.26809747]),\n",
       " array([ 45.96055231, -20.42153184]),\n",
       " array([ 49.388112  , -23.45593671]),\n",
       " array([ 37.95016658, -23.31339915]),\n",
       " array([ 45.47827163, -23.94413073]),\n",
       " array([ 48.92092674, -18.82241631]),\n",
       " array([ 44.07277651, -26.51727789]),\n",
       " array([ 48.74519021, -16.98571403]),\n",
       " array([ 44.49914739, -18.50349747]),\n",
       " array([ 45.30831718, -20.56982919]),\n",
       " array([ 43.68224226, -17.72194701]),\n",
       " array([ 45.74520109, -26.36917504]),\n",
       " array([ 39.47667972, -20.68308265]),\n",
       " array([-18.94885564, -32.59914718]),\n",
       " array([-20.24318593, -31.87187562]),\n",
       " array([-25.65642259, -25.96825035]),\n",
       " array([-23.55465099, -30.82217418]),\n",
       " array([-24.48152042, -28.91741255]),\n",
       " array([-23.68650121, -34.73147219]),\n",
       " array([-22.1804054 , -29.28353556]),\n",
       " array([-20.90609047, -28.60817071]),\n",
       " array([-21.07114239, -29.90535037]),\n",
       " array([-21.34602322, -30.57139894]),\n",
       " array([-19.94587107, -25.84511278]),\n",
       " array([-21.94109286, -28.85514761]),\n",
       " array([-24.28931279, -27.67377752]),\n",
       " array([-19.52538681, -26.6133591 ]),\n",
       " array([-20.89505969, -31.0515999 ]),\n",
       " array([-20.6339033 , -30.67515474]),\n",
       " array([-18.58401966, -28.17291569]),\n",
       " array([-17.35048924, -31.88489035]),\n",
       " array([-20.40468633, -31.4719869 ]),\n",
       " array([-22.26032113, -29.81580652]),\n",
       " array([-78.60994665, -87.25878792]),\n",
       " array([-79.56552452, -90.01184656]),\n",
       " array([-84.17894574, -83.10561097]),\n",
       " array([-77.49547821, -86.72219848]),\n",
       " array([-79.29736801, -86.35777431]),\n",
       " array([-78.61754648, -87.96041984]),\n",
       " array([-78.37995061, -83.96883564]),\n",
       " array([-79.41310815, -87.22953428]),\n",
       " array([-78.41140756, -82.92559679]),\n",
       " array([-78.79312967, -87.3308695 ]),\n",
       " array([-81.2278759 , -89.10403804]),\n",
       " array([-80.34169228, -87.66659575]),\n",
       " array([-83.83117555, -88.42423197]),\n",
       " array([-78.51602151, -88.55624152]),\n",
       " array([-84.10459428, -88.28743698]),\n",
       " array([-81.63405463, -90.91124276]),\n",
       " array([-78.78706906, -89.47626893]),\n",
       " array([-79.2338668 , -87.38855859]),\n",
       " array([-73.05180957, -85.7278751 ]),\n",
       " array([-80.04287154, -83.05108752]),\n",
       " array([51.65453201, 85.69040252]),\n",
       " array([49.09467532, 86.46309368]),\n",
       " array([46.30797712, 85.58077183]),\n",
       " array([53.62238196, 88.47422635]),\n",
       " array([51.62550565, 88.67405068]),\n",
       " array([52.76908249, 85.2904739 ]),\n",
       " array([48.4929381 , 90.08718337]),\n",
       " array([55.26090451, 89.53760121]),\n",
       " array([49.61199156, 88.80527614]),\n",
       " array([53.53316289, 90.00650997]),\n",
       " array([46.9374721 , 92.54636141]),\n",
       " array([48.75785067, 93.33649242]),\n",
       " array([54.89349157, 88.92281742]),\n",
       " array([49.81698848, 91.18857931]),\n",
       " array([49.46196485, 88.99661501]),\n",
       " array([45.92871107, 93.47627644]),\n",
       " array([54.17933913, 91.56831784]),\n",
       " array([46.18268561, 87.84046343]),\n",
       " array([54.80506057, 91.44524164]),\n",
       " array([47.39035079, 87.15301174]),\n",
       " array([ 4.64584183, 38.05147598]),\n",
       " array([ 4.41199935, 38.57239554]),\n",
       " array([ 4.79345986, 34.89959594]),\n",
       " array([ 4.93630359, 29.55981715]),\n",
       " array([ 7.80055154, 34.82375737]),\n",
       " array([ 3.10536538, 29.15807256]),\n",
       " array([ 5.95192862, 32.45451152]),\n",
       " array([11.9877608 , 33.42184793]),\n",
       " array([ 7.16781405, 38.20241477]),\n",
       " array([ 9.33552759, 33.55168597]),\n",
       " array([ 5.33049111, 36.82387053]),\n",
       " array([ 9.72347806, 36.35114119]),\n",
       " array([ 5.58438964, 35.94077558]),\n",
       " array([ 4.55314022, 32.05563019]),\n",
       " array([ 7.21658021, 33.21688471]),\n",
       " array([10.51443443, 33.88853957]),\n",
       " array([ 3.20232201, 30.00688582]),\n",
       " array([ 3.74116615, 30.91553582]),\n",
       " array([ 4.39366369, 38.33733203]),\n",
       " array([ 5.11680797, 34.30924142]),\n",
       " array([-39.35510081,  64.2287884 ]),\n",
       " array([-39.858871 ,  62.4219509]),\n",
       " array([-34.24013941,  64.04069406]),\n",
       " array([-36.25796595,  57.13817282]),\n",
       " array([-45.78263757,  61.87064908]),\n",
       " array([-40.24647166,  61.83615761]),\n",
       " array([-39.63121907,  61.75972392]),\n",
       " array([-40.64818213,  61.22938488]),\n",
       " array([-41.60785491,  65.33861385]),\n",
       " array([-42.69750025,  58.37793316]),\n",
       " array([-45.22530251,  62.09759097]),\n",
       " array([-35.77959355,  60.03582865]),\n",
       " array([-43.68887419,  58.2827331 ]),\n",
       " array([-40.91411797,  61.79405769]),\n",
       " array([-36.627162  ,  61.69348441]),\n",
       " array([-39.31359807,  57.08217655]),\n",
       " array([-38.67866707,  62.52756511]),\n",
       " array([-38.7465492 ,  62.77705657]),\n",
       " array([-42.53379854,  62.12228483]),\n",
       " array([-40.57432545,  58.90686941]),\n",
       " array([ 61.89390795, -59.94777307]),\n",
       " array([ 63.47302697, -58.88475807]),\n",
       " array([ 61.25459305, -61.03998535]),\n",
       " array([ 62.09235756, -60.02238627]),\n",
       " array([ 61.77769425, -60.48104903]),\n",
       " array([ 59.33710955, -65.35364547]),\n",
       " array([ 58.40996507, -63.52083233]),\n",
       " array([ 62.12625961, -58.1503053 ]),\n",
       " array([ 62.14841471, -61.15868296]),\n",
       " array([ 60.44034621, -57.05180349]),\n",
       " array([ 67.94378108, -59.74306158]),\n",
       " array([ 62.41761188, -67.11537894]),\n",
       " array([ 67.2063826 , -62.12817971]),\n",
       " array([ 66.12850878, -59.43657893]),\n",
       " array([ 62.19406928, -61.05784581]),\n",
       " array([ 61.81420168, -55.72878911]),\n",
       " array([ 66.15033145, -64.74888844]),\n",
       " array([ 63.60703558, -57.94287017]),\n",
       " array([ 67.30842728, -58.79291671]),\n",
       " array([ 58.9550589 , -55.91377681]),\n",
       " array([64.65404792, 31.13548413]),\n",
       " array([60.22982594, 34.19005909]),\n",
       " array([63.59646871, 32.89691974]),\n",
       " array([57.75417015, 37.41206875]),\n",
       " array([61.43045495, 36.20685225]),\n",
       " array([66.21380096, 37.22495125]),\n",
       " array([62.94478732, 28.39903839]),\n",
       " array([61.49788718, 32.43254039]),\n",
       " array([68.38109008, 32.79991985]),\n",
       " array([65.68303399, 33.31869643]),\n",
       " array([62.22382964, 33.14837593]),\n",
       " array([65.64548154, 31.50882135]),\n",
       " array([63.38670821, 34.09860589]),\n",
       " array([60.67918289, 27.92254764]),\n",
       " array([60.01180523, 32.98957214]),\n",
       " array([62.99216858, 33.69588876]),\n",
       " array([57.81112858, 28.23264084]),\n",
       " array([62.79693997, 31.98951063]),\n",
       " array([57.75829309, 31.24927989]),\n",
       " array([63.60837093, 37.45371577]),\n",
       " array([-25.58277358,  41.40735033]),\n",
       " array([-35.71543194,  38.85638076]),\n",
       " array([-30.42323266,  45.57987277]),\n",
       " array([-34.91110834,  36.82551663]),\n",
       " array([-28.72844355,  41.41887316]),\n",
       " array([-31.35751045,  42.01561212]),\n",
       " array([-32.43169184,  39.58825477]),\n",
       " array([-30.80125075,  40.05448   ]),\n",
       " array([-29.82233722,  41.27050147]),\n",
       " array([-31.12696622,  43.69632238]),\n",
       " array([-30.88156888,  40.04543723]),\n",
       " array([-27.96821193,  45.104796  ]),\n",
       " array([-29.90638152,  45.14161513]),\n",
       " array([-30.52625154,  40.98765321]),\n",
       " array([-27.59384166,  37.89334552]),\n",
       " array([-28.12964799,  40.80752097]),\n",
       " array([-32.09196741,  36.31939781]),\n",
       " array([-33.5415908 ,  42.84306233]),\n",
       " array([-26.27340731,  35.86230025]),\n",
       " array([-36.0163754 ,  39.21808987]),\n",
       " array([73.98039153, 78.47280452]),\n",
       " array([75.39227489, 77.1245191 ]),\n",
       " array([74.74776645, 78.19156462]),\n",
       " array([80.32062044, 76.44230185]),\n",
       " array([74.58590291, 79.73814407]),\n",
       " array([75.54232045, 77.40291278]),\n",
       " array([75.0065409 , 74.52441171]),\n",
       " array([77.92142026, 72.91546914]),\n",
       " array([71.2143864 , 81.45741702]),\n",
       " array([75.59579547, 77.01712737]),\n",
       " array([81.22873268, 78.57725951]),\n",
       " array([77.97635552, 74.8309953 ]),\n",
       " array([76.06568005, 75.39058708]),\n",
       " array([78.23152143, 76.33408577]),\n",
       " array([80.46354232, 75.91974059]),\n",
       " array([77.73991541, 80.7678242 ]),\n",
       " array([77.38440724, 81.6076207 ]),\n",
       " array([76.18080252, 77.67890737]),\n",
       " array([76.38982145, 77.18594408]),\n",
       " array([74.56613208, 79.70594133]),\n",
       " array([-2.48781033, 63.80292427]),\n",
       " array([-5.65759898, 57.73151352]),\n",
       " array([-4.38362252, 60.51644452]),\n",
       " array([-6.62337422, 55.72059092]),\n",
       " array([-5.58827209, 53.76239632]),\n",
       " array([-4.44518921, 59.53256479]),\n",
       " array([-5.11370038, 59.02786691]),\n",
       " array([-5.64894012, 60.74703765]),\n",
       " array([-4.40261317, 59.18897276]),\n",
       " array([-5.08151147, 59.87023361]),\n",
       " array([-8.44208254, 64.85443166]),\n",
       " array([-5.40567892, 55.30673199]),\n",
       " array([-0.88685839, 64.55577599]),\n",
       " array([-8.79074944, 57.72035543]),\n",
       " array([-6.08943401, 60.33944369]),\n",
       " array([-10.76834471,  61.37009782]),\n",
       " array([-6.20007883, 57.40665102]),\n",
       " array([-4.56390915, 60.00900388]),\n",
       " array([-6.12742797, 59.35212421]),\n",
       " array([-7.77501484, 63.45681342]),\n",
       " array([ 42.47567851, -93.87815313]),\n",
       " array([ 38.5781469 , -93.40954483]),\n",
       " array([ 39.68046092, -90.49550621]),\n",
       " array([ 41.56002672, -89.71066042]),\n",
       " array([ 39.24786269, -92.95621575]),\n",
       " array([ 39.03740876, -88.66419627]),\n",
       " array([ 42.892285  , -93.52749986]),\n",
       " array([ 40.76327186, -86.80366148]),\n",
       " array([ 39.7387883 , -91.99568071]),\n",
       " array([ 43.47998568, -96.02696584]),\n",
       " array([ 37.33680897, -90.63449722]),\n",
       " array([ 43.03205398, -90.41050598]),\n",
       " array([ 38.20392737, -97.70352157]),\n",
       " array([ 41.31636315, -86.88027995]),\n",
       " array([ 42.34925058, -88.57356958]),\n",
       " array([ 37.84401233, -91.88308701]),\n",
       " array([ 36.46036842, -95.99992132]),\n",
       " array([ 37.08040052, -86.50240643]),\n",
       " array([ 37.86063676, -92.92546534]),\n",
       " array([ 42.78861856, -88.47179958]),\n",
       " array([-38.79279241, -38.5742192 ]),\n",
       " array([-30.19974454, -40.44682982]),\n",
       " array([-35.51117735, -46.17305777]),\n",
       " array([-36.53904106, -41.11801881]),\n",
       " array([-30.94663704, -43.46458687]),\n",
       " array([-34.97841694, -44.3064402 ]),\n",
       " array([-35.06298038, -40.55212882]),\n",
       " array([-37.22762323, -38.44990011]),\n",
       " array([-35.41303865, -40.91274286]),\n",
       " array([-34.79576858, -35.36676308]),\n",
       " array([-39.4160816 , -37.28785641]),\n",
       " array([-34.42758892, -42.05940735]),\n",
       " array([-39.4661299 , -37.63037433]),\n",
       " array([-39.98326212, -36.32210333]),\n",
       " array([-31.99770643, -41.06017828]),\n",
       " array([-37.77078437, -37.51407022]),\n",
       " array([-36.94552338, -37.86870273]),\n",
       " array([-33.86754072, -43.13440392]),\n",
       " array([-34.71008774, -38.81424749]),\n",
       " array([-39.35845666, -38.77547568]),\n",
       " array([-61.17102157, -38.67842486]),\n",
       " array([-63.42047003, -41.17165468]),\n",
       " array([-64.46222773, -36.99355107]),\n",
       " array([-57.85402295, -41.03210645]),\n",
       " array([-64.46399065, -35.51303777]),\n",
       " array([-64.13077401, -36.30475477]),\n",
       " array([-64.7396249 , -37.54860907]),\n",
       " array([-64.43418528, -41.3545563 ]),\n",
       " array([-64.49675144, -34.13735907]),\n",
       " array([-63.34103367, -34.19278225]),\n",
       " array([-66.35232743, -38.26436098]),\n",
       " array([-65.0136235 , -37.50593138]),\n",
       " array([-61.72849382, -41.53574863]),\n",
       " array([-67.10708854, -38.80756277]),\n",
       " array([-64.27445018, -41.98478777]),\n",
       " array([-63.22499139, -40.85032031]),\n",
       " array([-64.48856587, -44.6898659 ]),\n",
       " array([-59.65329324, -37.34285193]),\n",
       " array([-61.22761899, -38.78714414]),\n",
       " array([-62.72218738, -40.06847635]),\n",
       " array([61.58113606, 48.66281052]),\n",
       " array([62.21932937, 48.92060284]),\n",
       " array([60.7572924 , 54.03506984]),\n",
       " array([59.06005971, 48.03442936]),\n",
       " array([63.20745479, 49.58899911]),\n",
       " array([58.38481965, 50.19870587]),\n",
       " array([56.07081794, 49.91001895]),\n",
       " array([66.80137585, 50.13075485]),\n",
       " array([63.75095336, 46.2777815 ]),\n",
       " array([56.50216492, 47.57881841]),\n",
       " array([61.51594679, 49.6334389 ]),\n",
       " array([62.29289893, 50.27084909]),\n",
       " array([55.13909547, 47.96792795]),\n",
       " array([61.65014493, 48.49022823]),\n",
       " array([60.4920705 , 48.34977551]),\n",
       " array([61.35261484, 49.34740102]),\n",
       " array([61.84568213, 48.84021524]),\n",
       " array([61.45506649, 51.32308061]),\n",
       " array([59.25673527, 49.5186857 ]),\n",
       " array([62.4943519 , 49.78817241]),\n",
       " array([-27.86125467,  -2.79322748]),\n",
       " array([-27.26470474,  -7.83768461]),\n",
       " array([-28.69011884,   1.95766043]),\n",
       " array([-32.50703131,  -3.7999723 ]),\n",
       " array([-25.34272006,  -8.34342261]),\n",
       " array([-27.16669075,   2.1561858 ]),\n",
       " array([-22.5552321 ,  -5.44389086]),\n",
       " array([-27.48882917,  -3.87992161]),\n",
       " array([-30.01084888,  -2.99979099]),\n",
       " array([-29.9643955 ,  -5.05428263]),\n",
       " array([-29.67343135,  -2.91993323]),\n",
       " array([-27.3125918 ,  -4.13543354]),\n",
       " array([-28.96993001,  -7.79969027]),\n",
       " array([-24.46919194,   1.83828497]),\n",
       " array([-24.68656275,  -2.63226588]),\n",
       " array([-26.72300981,  -3.67313984]),\n",
       " array([-24.93830069,  -1.71992899]),\n",
       " array([-28.14500407,  -7.80314774]),\n",
       " array([-26.49068067,  -2.61371093]),\n",
       " array([-26.37217073,  -7.49439481]),\n",
       " array([ 23.83563319, -70.19121367]),\n",
       " array([ 21.96284593, -69.10269669]),\n",
       " array([ 18.05644807, -74.30144619]),\n",
       " array([ 22.51754008, -70.78469723]),\n",
       " array([ 22.04162142, -71.44479122]),\n",
       " array([ 26.22154195, -69.55720236]),\n",
       " array([ 19.35565985, -76.13594896]),\n",
       " array([ 26.90872827, -71.68573867]),\n",
       " array([ 17.77956785, -74.28657733]),\n",
       " array([ 23.82344464, -70.06285436]),\n",
       " array([ 16.17898258, -68.42406379]),\n",
       " array([ 25.66339971, -66.33441949]),\n",
       " array([ 22.35711785, -71.31504657]),\n",
       " array([ 25.68024699, -73.22455092]),\n",
       " array([ 22.59927619, -70.25466312]),\n",
       " array([ 22.7892072 , -71.10597616]),\n",
       " array([ 24.59919145, -68.78894628]),\n",
       " array([ 24.41365498, -65.00448442]),\n",
       " array([ 20.95653686, -71.62674122]),\n",
       " array([ 21.05040333, -71.19209859]),\n",
       " array([-63.65231508,  61.73153229]),\n",
       " array([-59.00010272,  60.34729466]),\n",
       " array([-61.69017619,  64.22288289]),\n",
       " array([-62.11700838,  62.21071599]),\n",
       " array([-60.10298622,  57.37270672]),\n",
       " array([-61.76360418,  67.60925239]),\n",
       " array([-64.02606338,  57.66653724]),\n",
       " array([-63.26715346,  59.72282359]),\n",
       " array([-62.44576068,  62.32810157]),\n",
       " array([-66.40032127,  63.66936546]),\n",
       " array([-65.54544536,  67.74440317]),\n",
       " array([-58.74120427,  65.31487388]),\n",
       " array([-61.08286794,  63.63029564]),\n",
       " array([-63.88714443,  63.11921396]),\n",
       " array([-65.59449221,  67.54616284]),\n",
       " array([-66.09141829,  65.36387031]),\n",
       " array([-63.63472674,  65.85280082]),\n",
       " array([-62.70347548,  62.96152153]),\n",
       " array([-59.97414102,  62.90097964]),\n",
       " array([-63.6713934 ,  63.49901745]),\n",
       " array([  1.96409799, -63.64247841]),\n",
       " array([  4.50656874, -62.91932258]),\n",
       " array([  1.63855614, -59.50051658]),\n",
       " array([  8.4525969 , -65.10375081]),\n",
       " array([  2.62834473, -63.76404049]),\n",
       " array([  2.58748555, -64.81318409]),\n",
       " array([ -1.03081347, -64.91183925]),\n",
       " array([  3.09423129, -60.55100023]),\n",
       " array([  7.8637052 , -66.30001281]),\n",
       " array([  4.35755012, -68.12244862]),\n",
       " array([  4.01645563, -62.27008869]),\n",
       " array([  3.47922913, -63.73670675]),\n",
       " array([  4.93462826, -62.11170503]),\n",
       " array([  3.97380523, -63.01371878]),\n",
       " array([  5.47893492, -60.14927043]),\n",
       " array([  4.06527152, -63.86077391]),\n",
       " array([ -1.97584044, -62.77442086]),\n",
       " array([  3.89892983, -59.02733393]),\n",
       " array([  2.55534794, -61.85374533]),\n",
       " array([  4.78199262, -62.96961151]),\n",
       " array([ 60.55899877, -25.0994958 ]),\n",
       " array([ 64.75523953, -25.06963012]),\n",
       " array([ 57.39120923, -24.44693518]),\n",
       " array([ 63.37508665, -24.55654995]),\n",
       " array([ 60.0683702 , -26.07059508]),\n",
       " array([ 60.15026522, -21.68935062]),\n",
       " array([ 56.66962069, -24.01629299]),\n",
       " array([ 60.62851873, -22.70419534]),\n",
       " array([ 58.02031294, -26.48886859]),\n",
       " array([ 58.9749082 , -25.31872031]),\n",
       " array([ 63.57181745, -24.73722457]),\n",
       " array([ 58.47070815, -26.00883613]),\n",
       " array([ 56.55974368, -22.75698731]),\n",
       " array([ 56.00745869, -29.54595964]),\n",
       " array([ 54.94343037, -27.29436389]),\n",
       " array([ 59.74509795, -29.77233806]),\n",
       " array([ 57.95113482, -25.4194255 ]),\n",
       " array([ 58.92221862, -26.40597842]),\n",
       " array([ 63.36547291, -26.10309795]),\n",
       " array([ 55.39324922, -25.76704705]),\n",
       " array([-68.8566772 , -60.50162304]),\n",
       " array([-66.93301688, -59.66581967]),\n",
       " array([-69.49828635, -57.80432458]),\n",
       " array([-66.21251849, -57.18381814]),\n",
       " array([-68.98179742, -59.11145113]),\n",
       " array([-71.21199939, -52.35267817]),\n",
       " array([-68.0102722 , -55.98298721]),\n",
       " array([-66.49385583, -55.57068051]),\n",
       " array([-69.88424669, -56.00143454]),\n",
       " array([-67.31391412, -56.05295763]),\n",
       " array([-67.41638044, -56.16184267]),\n",
       " array([-69.58763532, -56.50126334]),\n",
       " array([-69.09683583, -57.13226737]),\n",
       " array([-73.43462293, -56.65609605]),\n",
       " array([-62.08665563, -53.89810605]),\n",
       " array([-66.78711907, -61.79685281]),\n",
       " array([-68.40853106, -50.88068851]),\n",
       " array([-72.64837273, -53.45624088]),\n",
       " array([-63.61497033, -60.91501939]),\n",
       " array([-63.83565251, -59.55673682]),\n",
       " array([ 30.89834381, -37.79407925]),\n",
       " array([ 31.76032352, -38.1461523 ]),\n",
       " array([ 38.65662813, -39.34312504]),\n",
       " array([ 34.52531829, -44.04190318]),\n",
       " array([ 35.29914809, -46.47182201]),\n",
       " array([ 35.78826137, -44.29230831]),\n",
       " array([ 38.3490835 , -46.12165824]),\n",
       " array([ 30.75934575, -38.72324824]),\n",
       " array([ 38.94857778, -40.25516477]),\n",
       " array([ 35.33256891, -44.7616542 ]),\n",
       " array([ 35.07408982, -41.80776366]),\n",
       " array([ 37.44656315, -40.86865585]),\n",
       " array([ 37.46806355, -37.95389694]),\n",
       " array([ 34.74184038, -41.4502518 ]),\n",
       " array([ 38.33946862, -41.43055436]),\n",
       " array([ 33.07761907, -40.00363458]),\n",
       " array([ 35.56067113, -39.51647595]),\n",
       " array([ 39.45233998, -44.35052428]),\n",
       " array([ 34.56621265, -40.0430751 ]),\n",
       " array([ 29.04839005, -42.25572432]),\n",
       " array([-88.9331442 ,   4.87626433]),\n",
       " array([-89.80748804,  10.69063197]),\n",
       " array([-88.45906791,  11.57747049]),\n",
       " array([-92.66553578,   2.81240637]),\n",
       " array([-92.07627954,   6.9505304 ]),\n",
       " array([-88.63509999,   3.71373682]),\n",
       " array([-88.31593008,   8.24332101]),\n",
       " array([-85.19641924,   3.98760982]),\n",
       " array([-90.22311677,   5.69578795]),\n",
       " array([-89.62924333,   1.5687734 ]),\n",
       " array([-89.269825  ,   8.08053167]),\n",
       " array([-87.70136861,   9.35658417]),\n",
       " array([-90.4210661 ,   5.97498044]),\n",
       " array([-88.83727902,   3.07267786]),\n",
       " array([-88.67035879,   6.96167233]),\n",
       " array([-92.92313134,  11.46717875]),\n",
       " array([-88.03850461,   7.85991237]),\n",
       " array([-89.62728802,   4.41443282]),\n",
       " array([-88.60200361,  11.97702011]),\n",
       " array([-85.83885163,   3.79096805]),\n",
       " array([-34.17871964, -67.04346403]),\n",
       " array([-92.82409839,  89.92327293]),\n",
       " array([-55.33926114,   1.33521814]),\n",
       " array([-62.9437952 ,  23.74622872]),\n",
       " array([32.51608307, 72.64997247]),\n",
       " array([-17.47380961, -69.22809007]),\n",
       " array([ 56.2116277 , -65.03254459]),\n",
       " array([-9.03030168, 23.50987939]),\n",
       " array([ 51.77906896, -16.80581101]),\n",
       " array([-44.24415128,  49.76873423]),\n",
       " array([ 51.01266385, -32.36330902]),\n",
       " array([-17.25004312,  91.74934612]),\n",
       " array([-1.81318158,  4.30819833]),\n",
       " array([ 81.13123918, -75.67560037]),\n",
       " array([100.27395592,  43.04074926]),\n",
       " array([59.51725784, -9.08983921]),\n",
       " array([ 2.88491507, 82.5572974 ]),\n",
       " array([24.27857883, 33.37759817]),\n",
       " array([19.28671713, 60.58449442]),\n",
       " array([-64.34627977,  43.30248731]),\n",
       " array([ -7.81352385, -20.97457537]),\n",
       " array([-32.36798462,  51.94754976]),\n",
       " array([ -0.41293791, -82.86648373]),\n",
       " array([-88.34011916,  24.00356768]),\n",
       " array([36.47151282, 51.83125627]),\n",
       " array([-96.43135571, -16.68101539]),\n",
       " array([ 29.5836477 , -65.85397811]),\n",
       " array([-29.99141798,  70.17923984]),\n",
       " array([15.38767165, 43.45172492]),\n",
       " array([-41.20149142, -11.7930065 ]),\n",
       " array([-63.67833621,  97.84865928]),\n",
       " array([92.8297559 , 59.34941094]),\n",
       " array([-72.9461923 , -48.28886827]),\n",
       " array([ 40.98397623, -70.33029325]),\n",
       " array([-86.78869269,  41.46196132]),\n",
       " array([91.01295825, 36.98007471]),\n",
       " array([73.95933373, 59.53938667]),\n",
       " array([-16.7488279 ,  78.13079766]),\n",
       " array([-97.75504862,  -5.27824477]),\n",
       " array([-47.78029411,  20.35198299]),\n",
       " array([ 49.07565456, -68.24323463]),\n",
       " array([ 61.16240952, -84.51959749]),\n",
       " array([ 85.23299749, -39.5176387 ]),\n",
       " array([ 53.393173  , -88.15203099]),\n",
       " array([-44.16346842,   7.62139891]),\n",
       " array([-77.4440247 ,  74.16635168]),\n",
       " array([ 9.94544107, -3.40898749]),\n",
       " array([-84.85126425,  77.42686676]),\n",
       " array([-69.78369976, -67.16818257]),\n",
       " array([-10.8394848 , -97.47487625]),\n",
       " array([82.54449478, 99.16088515]),\n",
       " array([-46.8580727 , -21.26245633]),\n",
       " array([-43.48614737,  97.50968012]),\n",
       " array([ 69.31639916, -60.46080327]),\n",
       " array([-19.8929735 ,  45.65929967]),\n",
       " array([-24.83740556, -36.62383252]),\n",
       " array([-50.22868114,  83.85370039]),\n",
       " array([-46.87920593,  19.29012489]),\n",
       " array([ 6.61822444, 95.79808185]),\n",
       " array([-87.87661054,  48.16242874]),\n",
       " array([78.8514069 , -7.79449702]),\n",
       " array([59.55982403, 62.32839959]),\n",
       " array([-48.84748955,   7.19730118]),\n",
       " array([46.43651214, 95.89243627]),\n",
       " array([35.4270917 , 30.42418669]),\n",
       " array([ 66.74646149, -23.12298169]),\n",
       " array([-10.95856213, -58.19527098]),\n",
       " array([60.185203  , 78.36960054]),\n",
       " array([-34.53890031,  -8.92250839]),\n",
       " array([-26.82876242,   7.6881777 ]),\n",
       " array([-92.08976719, -47.69177452]),\n",
       " array([44.69266978, 98.07878836]),\n",
       " array([51.84781249, 35.18901796]),\n",
       " array([ 42.15199684, -36.1212239 ]),\n",
       " array([ -5.83674906, -87.08720374]),\n",
       " array([-52.75294279, -11.19047743]),\n",
       " array([ 49.76436709, -23.7748391 ]),\n",
       " array([  4.98326939, -54.49735292]),\n",
       " array([-40.03745102,  -7.50281158]),\n",
       " array([ 78.98340982, -90.12787816]),\n",
       " array([-52.91397387,  59.1151166 ]),\n",
       " array([ 70.10722784, -70.14011602]),\n",
       " array([-88.58424872,  41.29826268]),\n",
       " array([-75.19219876,  65.88470186]),\n",
       " array([100.16484517,  57.02164523]),\n",
       " array([ 33.02257723, -60.87402102]),\n",
       " array([ 12.8600493 , -16.81878745]),\n",
       " array([-46.27009983,  93.46221507]),\n",
       " array([-32.54773854, -20.08550215]),\n",
       " array([ 10.20230391, -77.34152124]),\n",
       " array([-83.92435044,  39.42893158]),\n",
       " array([-10.51974763,   5.51458287]),\n",
       " array([28.99624773, 91.2734786 ]),\n",
       " array([ 51.90472508, -13.28777473]),\n",
       " array([-12.61138363, -34.78634775]),\n",
       " array([-57.88440646,  74.31493767]),\n",
       " array([36.0536854 , -7.68165886]),\n",
       " array([-8.86909978, 80.88750167]),\n",
       " array([ 60.12631972, -76.14514175]),\n",
       " array([ 4.6167897 , 76.65768656])]"
      ]
     },
     "execution_count": 64,
     "metadata": {},
     "output_type": "execute_result"
    }
   ],
   "source": [
    "scramble_points"
   ]
  },
  {
   "cell_type": "code",
   "execution_count": 51,
   "metadata": {},
   "outputs": [
    {
     "data": {
      "text/plain": [
       "array([-0.11988111,  0.14169898])"
      ]
     },
     "execution_count": 51,
     "metadata": {},
     "output_type": "execute_result"
    }
   ],
   "source": [
    "mean = [0, 0]\n",
    "cov = [[0.01, 0], [0, 0.01]]\n",
    "np.random.multivariate_normal(mean, cov)"
   ]
  },
  {
   "cell_type": "code",
   "execution_count": 123,
   "metadata": {},
   "outputs": [
    {
     "data": {
      "text/plain": [
       "-50"
      ]
     },
     "execution_count": 123,
     "metadata": {},
     "output_type": "execute_result"
    }
   ],
   "source": [
    "xlimit = [-50, 50]\n",
    "xlimit[0]"
   ]
  },
  {
   "cell_type": "code",
   "execution_count": 147,
   "metadata": {},
   "outputs": [
    {
     "name": "stdout",
     "output_type": "stream",
     "text": [
      "x doit etre \"trois\" ou \"cinq\"\n"
     ]
    }
   ],
   "source": [
    "x = 4\n",
    "\n",
    "if x == 3: \n",
    "    print(3)\n",
    "elif x == 5:\n",
    "    print(5)\n",
    "else: \n",
    "    print('x doit etre \"trois\" ou \"cinq\"')"
   ]
  },
  {
   "cell_type": "code",
   "execution_count": null,
   "metadata": {},
   "outputs": [],
   "source": []
  }
 ],
 "metadata": {
  "kernelspec": {
   "display_name": "Python 3",
   "language": "python",
   "name": "python3"
  },
  "language_info": {
   "codemirror_mode": {
    "name": "ipython",
    "version": 3
   },
   "file_extension": ".py",
   "mimetype": "text/x-python",
   "name": "python",
   "nbconvert_exporter": "python",
   "pygments_lexer": "ipython3",
   "version": "3.8.5"
  }
 },
 "nbformat": 4,
 "nbformat_minor": 4
}
