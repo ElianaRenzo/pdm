{
 "cells": [
  {
   "cell_type": "code",
   "execution_count": 48,
   "metadata": {},
   "outputs": [],
   "source": [
    "import numpy as np \n",
    "import pandas as pd\n",
    "from sklearn import metrics"
   ]
  },
  {
   "cell_type": "code",
   "execution_count": 49,
   "metadata": {},
   "outputs": [],
   "source": [
    "ID = 1"
   ]
  },
  {
   "cell_type": "code",
   "execution_count": 50,
   "metadata": {},
   "outputs": [],
   "source": [
    "path = '/Users/Eliana/Documents/PDM/Codes/My_codes/Data/'\n",
    "\n",
    "FMI_tomato_1 = []\n",
    "for i in range(30):\n",
    "    data = pd.read_csv(path + 'standard/simulated_SMLM_' + str(ID)+ '_'+ str(i) +'.csv')\n",
    "\n",
    "    truelabels = data['labels_1'].to_numpy()\n",
    "    tomato_labels = pd.read_csv(path + 'tomato_results/tomato_result_' + str(ID)+ '_'+ str(i) +'.csv')['x'].values\n",
    "    res_FMI = metrics.fowlkes_mallows_score(truelabels, tomato_labels)\n",
    "    FMI_tomato_1.append(res_FMI)"
   ]
  },
  {
   "cell_type": "code",
   "execution_count": 51,
   "metadata": {},
   "outputs": [],
   "source": [
    "FMI_graphic_1 = []\n",
    "for i in range(30):\n",
    "    data = pd.read_csv(path + 'standard/simulated_SMLM_' + str(ID)+ '_'+ str(i) +'.csv')\n",
    "\n",
    "    truelabels = data['labels_1'].to_numpy()\n",
    "    graphic_labels = pd.read_csv(path + 'graphic_results/graphic_result_' + str(ID)+ '_'+ str(i) +'.csv',\n",
    "                                 usecols= ['graphic_labels'])['graphic_labels'].to_numpy()\n",
    "    res_FMI = metrics.fowlkes_mallows_score(truelabels, graphic_labels)\n",
    "    FMI_graphic_1.append(res_FMI)"
   ]
  },
  {
   "cell_type": "code",
   "execution_count": 52,
   "metadata": {},
   "outputs": [
    {
     "data": {
      "text/plain": [
       "[0.9753283141533515,\n",
       " 0.9774130616186144,\n",
       " 0.9628765908021262,\n",
       " 0.9730880561540702,\n",
       " 0.9790585398804643,\n",
       " 0.9642199761335396,\n",
       " 0.9707781968604795,\n",
       " 0.9772379091965661,\n",
       " 0.9772288240311007,\n",
       " 0.9549236338583332,\n",
       " 0.9735958580642902,\n",
       " 0.9715371124690912,\n",
       " 0.975152567092616,\n",
       " 0.9753314122510388,\n",
       " 0.9810121233734874,\n",
       " 0.977331454429615,\n",
       " 0.9788868083909258,\n",
       " 0.9691909004843974,\n",
       " 0.9662012638249354,\n",
       " 0.975456115155503,\n",
       " 0.9680400230243005,\n",
       " 0.9811446809174161,\n",
       " 0.9662161665685567,\n",
       " 0.958588475156306,\n",
       " 0.9770477427568657,\n",
       " 0.9732367038245618,\n",
       " 0.960428867647837,\n",
       " 0.9735867843985542,\n",
       " 0.9675238922452298,\n",
       " 0.9694124064164346]"
      ]
     },
     "execution_count": 52,
     "metadata": {},
     "output_type": "execute_result"
    }
   ],
   "source": [
    "FMI_graphic_1"
   ]
  },
  {
   "cell_type": "code",
   "execution_count": 64,
   "metadata": {},
   "outputs": [
    {
     "data": {
      "image/png": "[encoded data removed]",
      "text/plain": [
       "<Figure size 432x288 with 1 Axes>"
      ]
     },
     "metadata": {
      "needs_background": "light"
     },
     "output_type": "display_data"
    }
   ],
   "source": [
    "import matplotlib.pyplot as plt\n",
    "fig7, ax7 = plt.subplots()\n",
    "ax7.set_title('mon titre')\n",
    "ax7.boxplot(df, notch=True)\n",
    "\n",
    "plt.show()"
   ]
  },
  {
   "cell_type": "code",
   "execution_count": 63,
   "metadata": {
    "scrolled": false
   },
   "outputs": [
    {
     "name": "stdout",
     "output_type": "stream",
     "text": [
      "Text(0.5, 1.0, '')\n"
     ]
    },
    {
     "data": {
      "image/png": "[encoded data removed]",
      "text/plain": [
       "<Figure size 432x288 with 1 Axes>"
      ]
     },
     "metadata": {
      "needs_background": "light"
     },
     "output_type": "display_data"
    }
   ],
   "source": [
    "df = pd.DataFrame(FMI_tomato_1, columns = ['FMI tomato'])\n",
    "df['FMI graphic'] = FMI_graphic_1\n",
    "boxplot = df.boxplot()\n",
    "print(boxplot.title)"
   ]
  },
  {
   "cell_type": "code",
   "execution_count": 37,
   "metadata": {},
   "outputs": [
    {
     "data": {
      "text/html": [
       "<div>\n",
       "<style scoped>\n",
       "    .dataframe tbody tr th:only-of-type {\n",
       "        vertical-align: middle;\n",
       "    }\n",
       "\n",
       "    .dataframe tbody tr th {\n",
       "        vertical-align: top;\n",
       "    }\n",
       "\n",
       "    .dataframe thead th {\n",
       "        text-align: right;\n",
       "    }\n",
       "</style>\n",
       "<table border=\"1\" class=\"dataframe\">\n",
       "  <thead>\n",
       "    <tr style=\"text-align: right;\">\n",
       "      <th></th>\n",
       "      <th>FMI tomato</th>\n",
       "    </tr>\n",
       "  </thead>\n",
       "  <tbody>\n",
       "    <tr>\n",
       "      <th>0</th>\n",
       "      <td>0.978909</td>\n",
       "    </tr>\n",
       "    <tr>\n",
       "      <th>1</th>\n",
       "      <td>0.990415</td>\n",
       "    </tr>\n",
       "    <tr>\n",
       "      <th>2</th>\n",
       "      <td>0.992329</td>\n",
       "    </tr>\n",
       "    <tr>\n",
       "      <th>3</th>\n",
       "      <td>0.980340</td>\n",
       "    </tr>\n",
       "    <tr>\n",
       "      <th>4</th>\n",
       "      <td>0.992149</td>\n",
       "    </tr>\n",
       "    <tr>\n",
       "      <th>5</th>\n",
       "      <td>0.984662</td>\n",
       "    </tr>\n",
       "    <tr>\n",
       "      <th>6</th>\n",
       "      <td>0.977971</td>\n",
       "    </tr>\n",
       "    <tr>\n",
       "      <th>7</th>\n",
       "      <td>0.984098</td>\n",
       "    </tr>\n",
       "    <tr>\n",
       "      <th>8</th>\n",
       "      <td>0.982752</td>\n",
       "    </tr>\n",
       "    <tr>\n",
       "      <th>9</th>\n",
       "      <td>0.977033</td>\n",
       "    </tr>\n",
       "    <tr>\n",
       "      <th>10</th>\n",
       "      <td>0.978906</td>\n",
       "    </tr>\n",
       "    <tr>\n",
       "      <th>11</th>\n",
       "      <td>0.984659</td>\n",
       "    </tr>\n",
       "    <tr>\n",
       "      <th>12</th>\n",
       "      <td>0.982741</td>\n",
       "    </tr>\n",
       "    <tr>\n",
       "      <th>13</th>\n",
       "      <td>0.986580</td>\n",
       "    </tr>\n",
       "    <tr>\n",
       "      <th>14</th>\n",
       "      <td>0.988494</td>\n",
       "    </tr>\n",
       "    <tr>\n",
       "      <th>15</th>\n",
       "      <td>0.994247</td>\n",
       "    </tr>\n",
       "    <tr>\n",
       "      <th>16</th>\n",
       "      <td>0.982353</td>\n",
       "    </tr>\n",
       "    <tr>\n",
       "      <th>17</th>\n",
       "      <td>0.986576</td>\n",
       "    </tr>\n",
       "    <tr>\n",
       "      <th>18</th>\n",
       "      <td>0.990411</td>\n",
       "    </tr>\n",
       "    <tr>\n",
       "      <th>19</th>\n",
       "      <td>0.988498</td>\n",
       "    </tr>\n",
       "    <tr>\n",
       "      <th>20</th>\n",
       "      <td>0.988494</td>\n",
       "    </tr>\n",
       "    <tr>\n",
       "      <th>21</th>\n",
       "      <td>0.990411</td>\n",
       "    </tr>\n",
       "    <tr>\n",
       "      <th>22</th>\n",
       "      <td>0.992329</td>\n",
       "    </tr>\n",
       "    <tr>\n",
       "      <th>23</th>\n",
       "      <td>0.975078</td>\n",
       "    </tr>\n",
       "    <tr>\n",
       "      <th>24</th>\n",
       "      <td>0.989946</td>\n",
       "    </tr>\n",
       "    <tr>\n",
       "      <th>25</th>\n",
       "      <td>0.984659</td>\n",
       "    </tr>\n",
       "    <tr>\n",
       "      <th>26</th>\n",
       "      <td>0.975078</td>\n",
       "    </tr>\n",
       "    <tr>\n",
       "      <th>27</th>\n",
       "      <td>0.986576</td>\n",
       "    </tr>\n",
       "    <tr>\n",
       "      <th>28</th>\n",
       "      <td>0.971251</td>\n",
       "    </tr>\n",
       "    <tr>\n",
       "      <th>29</th>\n",
       "      <td>0.968920</td>\n",
       "    </tr>\n",
       "  </tbody>\n",
       "</table>\n",
       "</div>"
      ],
      "text/plain": [
       "    FMI tomato\n",
       "0     0.978909\n",
       "1     0.990415\n",
       "2     0.992329\n",
       "3     0.980340\n",
       "4     0.992149\n",
       "5     0.984662\n",
       "6     0.977971\n",
       "7     0.984098\n",
       "8     0.982752\n",
       "9     0.977033\n",
       "10    0.978906\n",
       "11    0.984659\n",
       "12    0.982741\n",
       "13    0.986580\n",
       "14    0.988494\n",
       "15    0.994247\n",
       "16    0.982353\n",
       "17    0.986576\n",
       "18    0.990411\n",
       "19    0.988498\n",
       "20    0.988494\n",
       "21    0.990411\n",
       "22    0.992329\n",
       "23    0.975078\n",
       "24    0.989946\n",
       "25    0.984659\n",
       "26    0.975078\n",
       "27    0.986576\n",
       "28    0.971251\n",
       "29    0.968920"
      ]
     },
     "execution_count": 37,
     "metadata": {},
     "output_type": "execute_result"
    }
   ],
   "source": [
    "df"
   ]
  },
  {
   "cell_type": "code",
   "execution_count": null,
   "metadata": {},
   "outputs": [],
   "source": [
    "res_FMI = metrics.fowlkes_mallows_score(truelabels, tomato_labels)\n",
    "print(res_FMI)"
   ]
  },
  {
   "cell_type": "code",
   "execution_count": 5,
   "metadata": {},
   "outputs": [],
   "source": [
    "ID = 2"
   ]
  },
  {
   "cell_type": "code",
   "execution_count": 6,
   "metadata": {},
   "outputs": [],
   "source": [
    "path = '/Users/Eliana/Documents/PDM/Codes/My_codes/Data/'\n",
    "data = pd.read_csv(path + 'simulated_SMLM_' + str(ID)+ '.csv')\n",
    "\n",
    "truelabels = data['labels_1'].to_numpy()\n",
    "tomato_labels = pd.read_csv(path + 'tomato_result_' + str(ID) + '.csv')['x'].values"
   ]
  },
  {
   "cell_type": "code",
   "execution_count": 7,
   "metadata": {},
   "outputs": [
    {
     "name": "stdout",
     "output_type": "stream",
     "text": [
      "0.9859063734647504\n"
     ]
    }
   ],
   "source": [
    "res_FMI = metrics.fowlkes_mallows_score(truelabels, tomato_labels)\n",
    "print(res_FMI)"
   ]
  },
  {
   "cell_type": "code",
   "execution_count": 9,
   "metadata": {},
   "outputs": [],
   "source": [
    "ID = 3"
   ]
  },
  {
   "cell_type": "code",
   "execution_count": 10,
   "metadata": {},
   "outputs": [],
   "source": [
    "path = '/Users/Eliana/Documents/PDM/Codes/My_codes/Data/'\n",
    "data = pd.read_csv(path + 'simulated_SMLM_' + str(ID)+ '.csv')\n",
    "\n",
    "truelabels = data['labels_1'].to_numpy()\n",
    "tomato_labels = pd.read_csv(path + 'tomato_result_' + str(ID) + '.csv')['x'].values"
   ]
  },
  {
   "cell_type": "code",
   "execution_count": 11,
   "metadata": {},
   "outputs": [
    {
     "name": "stdout",
     "output_type": "stream",
     "text": [
      "0.9808769419924483\n"
     ]
    }
   ],
   "source": [
    "res_FMI = metrics.fowlkes_mallows_score(truelabels, tomato_labels)\n",
    "print(res_FMI)"
   ]
  },
  {
   "cell_type": "code",
   "execution_count": 12,
   "metadata": {},
   "outputs": [],
   "source": [
    "ID = 4"
   ]
  },
  {
   "cell_type": "code",
   "execution_count": 13,
   "metadata": {},
   "outputs": [],
   "source": [
    "path = '/Users/Eliana/Documents/PDM/Codes/My_codes/Data/'\n",
    "data = pd.read_csv(path + 'simulated_SMLM_' + str(ID)+ '.csv')\n",
    "\n",
    "truelabels = data['labels_1'].to_numpy()\n",
    "tomato_labels = pd.read_csv(path + 'tomato_result_' + str(ID) + '.csv')['x'].values"
   ]
  },
  {
   "cell_type": "code",
   "execution_count": 14,
   "metadata": {},
   "outputs": [
    {
     "name": "stdout",
     "output_type": "stream",
     "text": [
      "0.9791596316107485\n"
     ]
    }
   ],
   "source": [
    "res_FMI = metrics.fowlkes_mallows_score(truelabels, tomato_labels)\n",
    "print(res_FMI)"
   ]
  },
  {
   "cell_type": "code",
   "execution_count": null,
   "metadata": {},
   "outputs": [],
   "source": []
  }
 ],
 "metadata": {
  "kernelspec": {
   "display_name": "Python 3",
   "language": "python",
   "name": "python3"
  },
  "language_info": {
   "codemirror_mode": {
    "name": "ipython",
    "version": 3
   },
   "file_extension": ".py",
   "mimetype": "text/x-python",
   "name": "python",
   "nbconvert_exporter": "python",
   "pygments_lexer": "ipython3",
   "version": "3.8.5"
  }
 },
 "nbformat": 4,
 "nbformat_minor": 4
}
