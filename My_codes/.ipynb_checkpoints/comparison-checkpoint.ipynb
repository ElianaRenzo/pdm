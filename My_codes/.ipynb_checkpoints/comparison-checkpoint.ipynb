{
 "cells": [
  {
   "cell_type": "code",
   "execution_count": 33,
   "metadata": {},
   "outputs": [],
   "source": [
    "import numpy as np \n",
    "import pandas as pd\n",
    "from sklearn import metrics\n",
    "import numpy as np\n",
    "import pandas as pd\n",
    "import matplotlib.pyplot as plt\n",
    "import math"
   ]
  },
  {
   "cell_type": "code",
   "execution_count": null,
   "metadata": {},
   "outputs": [],
   "source": [
    "path = '/Users/Eliana/Documents/PDM/Codes/My_codes/Deviations_from_standard/'"
   ]
  },
  {
   "cell_type": "code",
   "execution_count": 81,
   "metadata": {},
   "outputs": [],
   "source": [
    "ID = 1"
   ]
  },
  {
   "cell_type": "code",
   "execution_count": 89,
   "metadata": {},
   "outputs": [],
   "source": [
    "FMI_tomato_1 = []\n",
    "for i in range(30):\n",
    "    data = pd.read_csv(path + 'standard/simulated_SMLM_' + str(ID)+ '_'+ str(i) +'.csv')\n",
    "\n",
    "    truelabels = data['labels_1'].to_numpy()\n",
    "    tomato_labels = pd.read_csv(path + 'tomato_results/tomato_result_' + str(ID)+ '_'+ str(i) +'.csv')['x'].values\n",
    "    res_FMI = metrics.fowlkes_mallows_score(truelabels, tomato_labels)\n",
    "    FMI_tomato_1.append(res_FMI)"
   ]
  },
  {
   "cell_type": "code",
   "execution_count": 90,
   "metadata": {},
   "outputs": [],
   "source": [
    "\n",
    "FMI_graphic_1 = []\n",
    "for i in range(30):\n",
    "    data = pd.read_csv(path + 'standard/simulated_SMLM_' + str(ID)+ '_'+ str(i) +'.csv')\n",
    "\n",
    "    truelabels = data['labels_1'].to_numpy()\n",
    "    graphic_labels = pd.read_csv(path + 'graphic_results/graphic_result_' + str(ID)+ '_'+ str(i) +'.csv',\n",
    "                                 usecols= ['graphic_labels'])['graphic_labels'].to_numpy()\n",
    "    res_FMI = metrics.fowlkes_mallows_score(truelabels, graphic_labels)\n",
    "    FMI_graphic_1.append(res_FMI)"
   ]
  },
  {
   "cell_type": "code",
   "execution_count": 92,
   "metadata": {},
   "outputs": [],
   "source": [
    "ID = 2"
   ]
  },
  {
   "cell_type": "code",
   "execution_count": 93,
   "metadata": {},
   "outputs": [],
   "source": [
    "path = '/Users/Eliana/Documents/PDM/Codes/My_codes/Data/'\n",
    "\n",
    "FMI_tomato_2 = []\n",
    "for i in range(30):\n",
    "    data = pd.read_csv(path + 'low_density/simulated_SMLM_' + str(ID)+ '_'+ str(i) +'.csv')\n",
    "\n",
    "    truelabels = data['labels_1'].to_numpy()\n",
    "    tomato_labels = pd.read_csv(path + 'tomato_results/tomato_result_' + str(ID)+ '_'+ str(i) +'.csv')['x'].values\n",
    "    res_FMI = metrics.fowlkes_mallows_score(truelabels, tomato_labels)\n",
    "    FMI_tomato_2.append(res_FMI)"
   ]
  },
  {
   "cell_type": "code",
   "execution_count": 94,
   "metadata": {},
   "outputs": [],
   "source": [
    "FMI_graphic_2 = []\n",
    "for i in range(30):\n",
    "    data = pd.read_csv(path + 'low_density/simulated_SMLM_' + str(ID)+ '_'+ str(i) +'.csv')\n",
    "\n",
    "    truelabels = data['labels_1'].to_numpy()\n",
    "    graphic_labels = pd.read_csv(path + 'graphic_results/graphic_result_' + str(ID)+ '_'+ str(i) +'.csv',\n",
    "                                 usecols= ['graphic_labels'])['graphic_labels'].to_numpy()\n",
    "    res_FMI = metrics.fowlkes_mallows_score(truelabels, graphic_labels)\n",
    "    FMI_graphic_2.append(res_FMI)"
   ]
  },
  {
   "cell_type": "code",
   "execution_count": 96,
   "metadata": {},
   "outputs": [],
   "source": [
    "ID = 3"
   ]
  },
  {
   "cell_type": "code",
   "execution_count": 97,
   "metadata": {},
   "outputs": [],
   "source": [
    "path = '/Users/Eliana/Documents/PDM/Codes/My_codes/Data/'\n",
    "\n",
    "FMI_tomato_3 = []\n",
    "for i in range(30):\n",
    "    data = pd.read_csv(path + 'high_noise/simulated_SMLM_' + str(ID)+ '_'+ str(i) +'.csv')\n",
    "\n",
    "    truelabels = data['labels_1'].to_numpy()\n",
    "    tomato_labels = pd.read_csv(path + 'tomato_results/tomato_result_' + str(ID)+ '_'+ str(i) +'.csv')['x'].values\n",
    "    res_FMI = metrics.fowlkes_mallows_score(truelabels, tomato_labels)\n",
    "    FMI_tomato_3.append(res_FMI)"
   ]
  },
  {
   "cell_type": "code",
   "execution_count": 98,
   "metadata": {},
   "outputs": [],
   "source": [
    "FMI_graphic_3 = []\n",
    "for i in range(30):\n",
    "    data = pd.read_csv(path + 'high_noise/simulated_SMLM_' + str(ID)+ '_'+ str(i) +'.csv')\n",
    "\n",
    "    truelabels = data['labels_1'].to_numpy()\n",
    "    graphic_labels = pd.read_csv(path + 'graphic_results/graphic_result_' + str(ID)+ '_'+ str(i) +'.csv',\n",
    "                                 usecols= ['graphic_labels'])['graphic_labels'].to_numpy()\n",
    "    res_FMI = metrics.fowlkes_mallows_score(truelabels, graphic_labels)\n",
    "    FMI_graphic_3.append(res_FMI)"
   ]
  },
  {
   "cell_type": "code",
   "execution_count": 102,
   "metadata": {},
   "outputs": [],
   "source": [
    "ID = 4"
   ]
  },
  {
   "cell_type": "code",
   "execution_count": 103,
   "metadata": {},
   "outputs": [],
   "source": [
    "path = '/Users/Eliana/Documents/PDM/Codes/My_codes/Data/'\n",
    "\n",
    "FMI_tomato_4 = []\n",
    "for i in range(30):\n",
    "    data = pd.read_csv(path + 'different_densities/simulated_SMLM_' + str(ID)+ '_'+ str(i) +'.csv')\n",
    "\n",
    "    truelabels = data['labels_1'].to_numpy()\n",
    "    tomato_labels = pd.read_csv(path + 'tomato_results/tomato_result_' + str(ID)+ '_'+ str(i) +'.csv')['x'].values\n",
    "    res_FMI = metrics.fowlkes_mallows_score(truelabels, tomato_labels)\n",
    "    FMI_tomato_4.append(res_FMI)"
   ]
  },
  {
   "cell_type": "code",
   "execution_count": 105,
   "metadata": {},
   "outputs": [],
   "source": [
    "FMI_graphic_4 = []\n",
    "for i in range(30):\n",
    "    data = pd.read_csv(path + 'different_densities/simulated_SMLM_' + str(ID)+ '_'+ str(i) +'.csv')\n",
    "\n",
    "    truelabels = data['labels_1'].to_numpy()\n",
    "    graphic_labels = pd.read_csv(path + 'graphic_results/graphic_result_' + str(ID)+ '_'+ str(i) +'.csv',\n",
    "                                 usecols= ['graphic_labels'])['graphic_labels'].to_numpy()\n",
    "    res_FMI = metrics.fowlkes_mallows_score(truelabels, graphic_labels)\n",
    "    FMI_graphic_4.append(res_FMI)"
   ]
  },
  {
   "cell_type": "code",
   "execution_count": 91,
   "metadata": {
    "scrolled": false
   },
   "outputs": [
    {
     "name": "stdout",
     "output_type": "stream",
     "text": [
      "standard\n"
     ]
    },
    {
     "data": {
      "image/png": "[encoded data removed]",
      "text/plain": [
       "<Figure size 432x288 with 1 Axes>"
      ]
     },
     "metadata": {
      "needs_background": "light"
     },
     "output_type": "display_data"
    }
   ],
   "source": [
    "df1 = pd.DataFrame(FMI_tomato_1, columns = ['FMI tomato'])\n",
    "df1['FMI graphic'] = FMI_graphic_1\n",
    "print('standard')\n",
    "boxplot = df1.boxplot()"
   ]
  },
  {
   "cell_type": "code",
   "execution_count": 95,
   "metadata": {},
   "outputs": [
    {
     "name": "stdout",
     "output_type": "stream",
     "text": [
      "low density\n"
     ]
    },
    {
     "data": {
      "image/png": "[encoded data removed]",
      "text/plain": [
       "<Figure size 432x288 with 1 Axes>"
      ]
     },
     "metadata": {
      "needs_background": "light"
     },
     "output_type": "display_data"
    }
   ],
   "source": [
    "df2 = pd.DataFrame(FMI_tomato_2, columns = ['FMI tomato'])\n",
    "df2['FMI graphic'] = FMI_graphic_2\n",
    "print('low density')\n",
    "boxplot = df2.boxplot()"
   ]
  },
  {
   "cell_type": "code",
   "execution_count": 106,
   "metadata": {},
   "outputs": [
    {
     "name": "stdout",
     "output_type": "stream",
     "text": [
      "different densities\n"
     ]
    },
    {
     "data": {
      "image/png": "[encoded data removed]",
      "text/plain": [
       "<Figure size 432x288 with 1 Axes>"
      ]
     },
     "metadata": {
      "needs_background": "light"
     },
     "output_type": "display_data"
    }
   ],
   "source": [
    "df4 = pd.DataFrame(FMI_tomato_4, columns = ['FMI tomato'])\n",
    "df4['FMI graphic'] = FMI_graphic_4\n",
    "print('different densities')\n",
    "boxplot = df4.boxplot()"
   ]
  },
  {
   "cell_type": "code",
   "execution_count": 99,
   "metadata": {},
   "outputs": [
    {
     "name": "stdout",
     "output_type": "stream",
     "text": [
      "higher nosie level\n"
     ]
    },
    {
     "data": {
      "image/png": "[encoded data removed]",
      "text/plain": [
       "<Figure size 432x288 with 1 Axes>"
      ]
     },
     "metadata": {
      "needs_background": "light"
     },
     "output_type": "display_data"
    }
   ],
   "source": [
    "df3 = pd.DataFrame(FMI_tomato_3, columns = ['FMI tomato'])\n",
    "df3['FMI graphic'] = FMI_graphic_3\n",
    "print('higher nosie level')\n",
    "boxplot = df3.boxplot()"
   ]
  },
  {
   "cell_type": "code",
   "execution_count": 5,
   "metadata": {},
   "outputs": [],
   "source": [
    "ID = 2"
   ]
  },
  {
   "cell_type": "code",
   "execution_count": 6,
   "metadata": {},
   "outputs": [],
   "source": [
    "path = '/Users/Eliana/Documents/PDM/Codes/My_codes/Data/'\n",
    "data = pd.read_csv(path + 'simulated_SMLM_' + str(ID)+ '.csv')\n",
    "\n",
    "truelabels = data['labels_1'].to_numpy()\n",
    "tomato_labels = pd.read_csv(path + 'tomato_result_' + str(ID) + '.csv')['x'].values"
   ]
  },
  {
   "cell_type": "code",
   "execution_count": 7,
   "metadata": {},
   "outputs": [
    {
     "name": "stdout",
     "output_type": "stream",
     "text": [
      "0.9859063734647504\n"
     ]
    }
   ],
   "source": [
    "res_FMI = metrics.fowlkes_mallows_score(truelabels, tomato_labels)\n",
    "print(res_FMI)"
   ]
  },
  {
   "cell_type": "code",
   "execution_count": 9,
   "metadata": {},
   "outputs": [],
   "source": [
    "ID = 3"
   ]
  },
  {
   "cell_type": "code",
   "execution_count": 10,
   "metadata": {},
   "outputs": [],
   "source": [
    "path = '/Users/Eliana/Documents/PDM/Codes/My_codes/Data/'\n",
    "data = pd.read_csv(path + 'simulated_SMLM_' + str(ID)+ '.csv')\n",
    "\n",
    "truelabels = data['labels_1'].to_numpy()\n",
    "tomato_labels = pd.read_csv(path + 'tomato_result_' + str(ID) + '.csv')['x'].values"
   ]
  },
  {
   "cell_type": "code",
   "execution_count": 11,
   "metadata": {},
   "outputs": [
    {
     "name": "stdout",
     "output_type": "stream",
     "text": [
      "0.9808769419924483\n"
     ]
    }
   ],
   "source": [
    "res_FMI = metrics.fowlkes_mallows_score(truelabels, tomato_labels)\n",
    "print(res_FMI)"
   ]
  },
  {
   "cell_type": "code",
   "execution_count": 12,
   "metadata": {},
   "outputs": [],
   "source": [
    "ID = 4"
   ]
  },
  {
   "cell_type": "code",
   "execution_count": 13,
   "metadata": {},
   "outputs": [],
   "source": [
    "path = '/Users/Eliana/Documents/PDM/Codes/My_codes/Data/'\n",
    "data = pd.read_csv(path + 'simulated_SMLM_' + str(ID)+ '.csv')\n",
    "\n",
    "truelabels = data['labels_1'].to_numpy()\n",
    "tomato_labels = pd.read_csv(path + 'tomato_result_' + str(ID) + '.csv')['x'].values"
   ]
  },
  {
   "cell_type": "code",
   "execution_count": 14,
   "metadata": {},
   "outputs": [
    {
     "name": "stdout",
     "output_type": "stream",
     "text": [
      "0.9791596316107485\n"
     ]
    }
   ],
   "source": [
    "res_FMI = metrics.fowlkes_mallows_score(truelabels, tomato_labels)\n",
    "print(res_FMI)"
   ]
  },
  {
   "cell_type": "code",
   "execution_count": 73,
   "metadata": {},
   "outputs": [
    {
     "data": {
      "text/plain": [
       "\"\\n# low density \\nGT_2 = pd.read_csv('/Users/Eliana/Documents/PDM/tests/low_density/simulated_SMLM_2_0.csv')\\ngraphic_result_2 = pd.read_csv('/Users/Eliana/Documents/PDM/tests/graphic_results/graphic_result_2_0.csv')\\n\\n# high noise \\nGT_3 = pd.read_csv('/Users/Eliana/Documents/PDM/tests/high_noise/simulated_SMLM_3_0.csv')\\ngraphic_result_3 = pd.read_csv('/Users/Eliana/Documents/PDM/tests/graphic_results/graphic_result_3_0.csv')\\n\""
      ]
     },
     "execution_count": 73,
     "metadata": {},
     "output_type": "execute_result"
    }
   ],
   "source": [
    "# standard\n",
    "GT_1 = pd.read_csv('/Users/Eliana/Documents/PDM/tests/standard/simulated_SMLM_1_0.csv')\n",
    "graphic_result_1 = pd.read_csv('/Users/Eliana/Documents/PDM/tests/graphic_results/graphic_result_1_0.csv')\n",
    "tomato_result_1 = pd.read_csv('/Users/Eliana/Documents/PDM/tests/tomato_results/tomato_result_1_0.csv')\n",
    "srtesseler_result_1 = pd.read_csv('/Users/Eliana/Documents/PDM/tests/srtesseler_results/ObjectsStats_standard_0.xls')\n",
    "'''\n",
    "# low density \n",
    "GT_2 = pd.read_csv('/Users/Eliana/Documents/PDM/tests/low_density/simulated_SMLM_2_0.csv')\n",
    "graphic_result_2 = pd.read_csv('/Users/Eliana/Documents/PDM/tests/graphic_results/graphic_result_2_0.csv')\n",
    "\n",
    "# high noise \n",
    "GT_3 = pd.read_csv('/Users/Eliana/Documents/PDM/tests/high_noise/simulated_SMLM_3_0.csv')\n",
    "graphic_result_3 = pd.read_csv('/Users/Eliana/Documents/PDM/tests/graphic_results/graphic_result_3_0.csv')\n",
    "'''\n"
   ]
  },
  {
   "cell_type": "code",
   "execution_count": 78,
   "metadata": {},
   "outputs": [
    {
     "ename": "ParserError",
     "evalue": "Error tokenizing data. C error: Expected 2 fields in line 21, saw 3\n",
     "output_type": "error",
     "traceback": [
      "\u001b[0;31m---------------------------------------------------------------------------\u001b[0m",
      "\u001b[0;31mParserError\u001b[0m                               Traceback (most recent call last)",
      "\u001b[0;32m<ipython-input-78-cde7083620ac>\u001b[0m in \u001b[0;36m<module>\u001b[0;34m\u001b[0m\n\u001b[0;32m----> 1\u001b[0;31m \u001b[0msrtesseler_result_1\u001b[0m \u001b[0;34m=\u001b[0m \u001b[0mpd\u001b[0m\u001b[0;34m.\u001b[0m\u001b[0mread_csv\u001b[0m\u001b[0;34m(\u001b[0m\u001b[0;34m'/Users/Eliana/Documents/PDM/tests/srtesseler_results/SR_result_standard.xlsx'\u001b[0m\u001b[0;34m)\u001b[0m\u001b[0;34m\u001b[0m\u001b[0;34m\u001b[0m\u001b[0m\n\u001b[0m",
      "\u001b[0;32m~/opt/anaconda3/lib/python3.8/site-packages/pandas/io/parsers.py\u001b[0m in \u001b[0;36mread_csv\u001b[0;34m(filepath_or_buffer, sep, delimiter, header, names, index_col, usecols, squeeze, prefix, mangle_dupe_cols, dtype, engine, converters, true_values, false_values, skipinitialspace, skiprows, skipfooter, nrows, na_values, keep_default_na, na_filter, verbose, skip_blank_lines, parse_dates, infer_datetime_format, keep_date_col, date_parser, dayfirst, cache_dates, iterator, chunksize, compression, thousands, decimal, lineterminator, quotechar, quoting, doublequote, escapechar, comment, encoding, dialect, error_bad_lines, warn_bad_lines, delim_whitespace, low_memory, memory_map, float_precision)\u001b[0m\n\u001b[1;32m    684\u001b[0m     )\n\u001b[1;32m    685\u001b[0m \u001b[0;34m\u001b[0m\u001b[0m\n\u001b[0;32m--> 686\u001b[0;31m     \u001b[0;32mreturn\u001b[0m \u001b[0m_read\u001b[0m\u001b[0;34m(\u001b[0m\u001b[0mfilepath_or_buffer\u001b[0m\u001b[0;34m,\u001b[0m \u001b[0mkwds\u001b[0m\u001b[0;34m)\u001b[0m\u001b[0;34m\u001b[0m\u001b[0;34m\u001b[0m\u001b[0m\n\u001b[0m\u001b[1;32m    687\u001b[0m \u001b[0;34m\u001b[0m\u001b[0m\n\u001b[1;32m    688\u001b[0m \u001b[0;34m\u001b[0m\u001b[0m\n",
      "\u001b[0;32m~/opt/anaconda3/lib/python3.8/site-packages/pandas/io/parsers.py\u001b[0m in \u001b[0;36m_read\u001b[0;34m(filepath_or_buffer, kwds)\u001b[0m\n\u001b[1;32m    456\u001b[0m \u001b[0;34m\u001b[0m\u001b[0m\n\u001b[1;32m    457\u001b[0m     \u001b[0;32mtry\u001b[0m\u001b[0;34m:\u001b[0m\u001b[0;34m\u001b[0m\u001b[0;34m\u001b[0m\u001b[0m\n\u001b[0;32m--> 458\u001b[0;31m         \u001b[0mdata\u001b[0m \u001b[0;34m=\u001b[0m \u001b[0mparser\u001b[0m\u001b[0;34m.\u001b[0m\u001b[0mread\u001b[0m\u001b[0;34m(\u001b[0m\u001b[0mnrows\u001b[0m\u001b[0;34m)\u001b[0m\u001b[0;34m\u001b[0m\u001b[0;34m\u001b[0m\u001b[0m\n\u001b[0m\u001b[1;32m    459\u001b[0m     \u001b[0;32mfinally\u001b[0m\u001b[0;34m:\u001b[0m\u001b[0;34m\u001b[0m\u001b[0;34m\u001b[0m\u001b[0m\n\u001b[1;32m    460\u001b[0m         \u001b[0mparser\u001b[0m\u001b[0;34m.\u001b[0m\u001b[0mclose\u001b[0m\u001b[0;34m(\u001b[0m\u001b[0;34m)\u001b[0m\u001b[0;34m\u001b[0m\u001b[0;34m\u001b[0m\u001b[0m\n",
      "\u001b[0;32m~/opt/anaconda3/lib/python3.8/site-packages/pandas/io/parsers.py\u001b[0m in \u001b[0;36mread\u001b[0;34m(self, nrows)\u001b[0m\n\u001b[1;32m   1194\u001b[0m     \u001b[0;32mdef\u001b[0m \u001b[0mread\u001b[0m\u001b[0;34m(\u001b[0m\u001b[0mself\u001b[0m\u001b[0;34m,\u001b[0m \u001b[0mnrows\u001b[0m\u001b[0;34m=\u001b[0m\u001b[0;32mNone\u001b[0m\u001b[0;34m)\u001b[0m\u001b[0;34m:\u001b[0m\u001b[0;34m\u001b[0m\u001b[0;34m\u001b[0m\u001b[0m\n\u001b[1;32m   1195\u001b[0m         \u001b[0mnrows\u001b[0m \u001b[0;34m=\u001b[0m \u001b[0m_validate_integer\u001b[0m\u001b[0;34m(\u001b[0m\u001b[0;34m\"nrows\"\u001b[0m\u001b[0;34m,\u001b[0m \u001b[0mnrows\u001b[0m\u001b[0;34m)\u001b[0m\u001b[0;34m\u001b[0m\u001b[0;34m\u001b[0m\u001b[0m\n\u001b[0;32m-> 1196\u001b[0;31m         \u001b[0mret\u001b[0m \u001b[0;34m=\u001b[0m \u001b[0mself\u001b[0m\u001b[0;34m.\u001b[0m\u001b[0m_engine\u001b[0m\u001b[0;34m.\u001b[0m\u001b[0mread\u001b[0m\u001b[0;34m(\u001b[0m\u001b[0mnrows\u001b[0m\u001b[0;34m)\u001b[0m\u001b[0;34m\u001b[0m\u001b[0;34m\u001b[0m\u001b[0m\n\u001b[0m\u001b[1;32m   1197\u001b[0m \u001b[0;34m\u001b[0m\u001b[0m\n\u001b[1;32m   1198\u001b[0m         \u001b[0;31m# May alter columns / col_dict\u001b[0m\u001b[0;34m\u001b[0m\u001b[0;34m\u001b[0m\u001b[0;34m\u001b[0m\u001b[0m\n",
      "\u001b[0;32m~/opt/anaconda3/lib/python3.8/site-packages/pandas/io/parsers.py\u001b[0m in \u001b[0;36mread\u001b[0;34m(self, nrows)\u001b[0m\n\u001b[1;32m   2153\u001b[0m     \u001b[0;32mdef\u001b[0m \u001b[0mread\u001b[0m\u001b[0;34m(\u001b[0m\u001b[0mself\u001b[0m\u001b[0;34m,\u001b[0m \u001b[0mnrows\u001b[0m\u001b[0;34m=\u001b[0m\u001b[0;32mNone\u001b[0m\u001b[0;34m)\u001b[0m\u001b[0;34m:\u001b[0m\u001b[0;34m\u001b[0m\u001b[0;34m\u001b[0m\u001b[0m\n\u001b[1;32m   2154\u001b[0m         \u001b[0;32mtry\u001b[0m\u001b[0;34m:\u001b[0m\u001b[0;34m\u001b[0m\u001b[0;34m\u001b[0m\u001b[0m\n\u001b[0;32m-> 2155\u001b[0;31m             \u001b[0mdata\u001b[0m \u001b[0;34m=\u001b[0m \u001b[0mself\u001b[0m\u001b[0;34m.\u001b[0m\u001b[0m_reader\u001b[0m\u001b[0;34m.\u001b[0m\u001b[0mread\u001b[0m\u001b[0;34m(\u001b[0m\u001b[0mnrows\u001b[0m\u001b[0;34m)\u001b[0m\u001b[0;34m\u001b[0m\u001b[0;34m\u001b[0m\u001b[0m\n\u001b[0m\u001b[1;32m   2156\u001b[0m         \u001b[0;32mexcept\u001b[0m \u001b[0mStopIteration\u001b[0m\u001b[0;34m:\u001b[0m\u001b[0;34m\u001b[0m\u001b[0;34m\u001b[0m\u001b[0m\n\u001b[1;32m   2157\u001b[0m             \u001b[0;32mif\u001b[0m \u001b[0mself\u001b[0m\u001b[0;34m.\u001b[0m\u001b[0m_first_chunk\u001b[0m\u001b[0;34m:\u001b[0m\u001b[0;34m\u001b[0m\u001b[0;34m\u001b[0m\u001b[0m\n",
      "\u001b[0;32mpandas/_libs/parsers.pyx\u001b[0m in \u001b[0;36mpandas._libs.parsers.TextReader.read\u001b[0;34m()\u001b[0m\n",
      "\u001b[0;32mpandas/_libs/parsers.pyx\u001b[0m in \u001b[0;36mpandas._libs.parsers.TextReader._read_low_memory\u001b[0;34m()\u001b[0m\n",
      "\u001b[0;32mpandas/_libs/parsers.pyx\u001b[0m in \u001b[0;36mpandas._libs.parsers.TextReader._read_rows\u001b[0;34m()\u001b[0m\n",
      "\u001b[0;32mpandas/_libs/parsers.pyx\u001b[0m in \u001b[0;36mpandas._libs.parsers.TextReader._tokenize_rows\u001b[0;34m()\u001b[0m\n",
      "\u001b[0;32mpandas/_libs/parsers.pyx\u001b[0m in \u001b[0;36mpandas._libs.parsers.raise_parser_error\u001b[0;34m()\u001b[0m\n",
      "\u001b[0;31mParserError\u001b[0m: Error tokenizing data. C error: Expected 2 fields in line 21, saw 3\n"
     ]
    }
   ],
   "source": [
    "srtesseler_result_1 = pd.read_csv('/Users/Eliana/Documents/PDM/tests/srtesseler_results/SR_result_standard.xlsx')"
   ]
  },
  {
   "cell_type": "code",
   "execution_count": 58,
   "metadata": {},
   "outputs": [
    {
     "name": "stdout",
     "output_type": "stream",
     "text": [
      "Number Of Clusters found by GrapHiC =  44.0\n",
      "Number Of Clusters found by ToMATo =  40\n"
     ]
    }
   ],
   "source": [
    "# NumberOfClusters_graphic = max(graphic_result_1['graphic_labels']) # ca marche plus depuis que des labels sont discarded par le post-processing step qui remove the small clusters\n",
    "NumberOfClusters_graphic = len(graphic_result_1['graphic_labels'].unique())-1\n",
    "print('Number Of Clusters found by GrapHiC = ', NumberOfClusters_graphic)\n",
    "#NumberOfClusters_tomato = max(tomato_result_1['x'])\n",
    "NumberOfClusters_tomato = len(tomato_result_1['x'].unique())-1\n",
    "print('Number Of Clusters found by ToMATo = ', NumberOfClusters_tomato)"
   ]
  },
  {
   "cell_type": "code",
   "execution_count": 82,
   "metadata": {},
   "outputs": [],
   "source": [
    "path  = '/Users/Eliana/Documents/PDM/tests/'\n",
    "FMI_tomato_1 = []\n",
    "for i in range(1):\n",
    "    data = pd.read_csv(path + 'standard/simulated_SMLM_' + str(ID)+ '_'+ str(i) +'.csv')\n",
    "\n",
    "    truelabels = data['labels_1'].to_numpy()\n",
    "    tomato_labels = pd.read_csv(path + 'tomato_results/tomato_result_' + str(ID)+ '_'+ str(i) +'.csv')['x'].values\n",
    "    res_FMI = metrics.fowlkes_mallows_score(truelabels, tomato_labels)\n",
    "    FMI_tomato_1.append(res_FMI)"
   ]
  },
  {
   "cell_type": "code",
   "execution_count": 86,
   "metadata": {},
   "outputs": [],
   "source": [
    "FMI_graphic_1 = []\n",
    "for i in range(1):\n",
    "    data = pd.read_csv(path + 'standard/simulated_SMLM_' + str(ID)+ '_'+ str(i) +'.csv')\n",
    "\n",
    "    truelabels = data['labels_1'].to_numpy()\n",
    "    graphic_labels = pd.read_csv(path + 'graphic_results/graphic_result_' + str(ID)+ '_'+ str(i) +'.csv',\n",
    "                                 usecols= ['graphic_labels'])['graphic_labels'].to_numpy()\n",
    "    res_FMI = metrics.fowlkes_mallows_score(truelabels, tomato_labels)\n",
    "    FMI_graphic_1.append(res_FMI)"
   ]
  },
  {
   "cell_type": "code",
   "execution_count": 87,
   "metadata": {},
   "outputs": [
    {
     "name": "stdout",
     "output_type": "stream",
     "text": [
      "tomato FMI [0.9422984348910202]\n",
      "[0.9422984348910202]\n"
     ]
    }
   ],
   "source": [
    "print('tomato FMI', FMI_tomato_1)\n",
    "print(FMI_graphic_1)"
   ]
  },
  {
   "cell_type": "code",
   "execution_count": 66,
   "metadata": {},
   "outputs": [],
   "source": [
    "# Graphic:\n",
    "labs = graphic_result_1['graphic_labels']\n",
    "LocPerCluster = []\n",
    "LocInNoise = []\n",
    "for clus in labs.unique():\n",
    "        if clus != 0:\n",
    "            LocPerCluster.append(len(labs[(labs==clus)]))\n",
    "        if clus == 0:\n",
    "            LocInNoise.append(len(labs[(labs==clus)]))"
   ]
  },
  {
   "cell_type": "code",
   "execution_count": 67,
   "metadata": {},
   "outputs": [
    {
     "name": "stdout",
     "output_type": "stream",
     "text": [
      "Graphic\n"
     ]
    },
    {
     "data": {
      "image/png": "[encoded data removed]",
      "text/plain": [
       "<Figure size 432x288 with 1 Axes>"
      ]
     },
     "metadata": {
      "needs_background": "light"
     },
     "output_type": "display_data"
    }
   ],
   "source": [
    "plt.rcParams.update({'font.size': 18})\n",
    "print('Graphic')\n",
    "binwidth = 0.5\n",
    "lim = max(LocPerCluster) + 3\n",
    "plt.hist(LocPerCluster, bins=np.arange(0, lim + binwidth, binwidth))\n",
    "GT_loc = 25\n",
    "plt.axvline(x=GT_loc, label='GT'.format(GT), c='DarkOrange', linewidth=2.5)\n",
    "plt.xlabel('Loc per cluster')\n",
    "plt.xlim([0, lim])\n",
    "plt.legend()\n",
    "plt.show()"
   ]
  },
  {
   "cell_type": "code",
   "execution_count": 68,
   "metadata": {},
   "outputs": [],
   "source": [
    "# Tomato : \n",
    "labs = tomato_result_1['x']\n",
    "LocPerCluster = []\n",
    "LocInNoise = []\n",
    "for clus in labs.unique():\n",
    "        if clus != 0:\n",
    "            LocPerCluster.append(len(labs[(labs==clus)]))\n",
    "        if clus == 0:\n",
    "            LocInNoise.append(len(labs[(labs==clus)]))"
   ]
  },
  {
   "cell_type": "code",
   "execution_count": 69,
   "metadata": {},
   "outputs": [
    {
     "name": "stdout",
     "output_type": "stream",
     "text": [
      "Tomato\n"
     ]
    },
    {
     "data": {
      "image/png": "[encoded data removed]",
      "text/plain": [
       "<Figure size 432x288 with 1 Axes>"
      ]
     },
     "metadata": {
      "needs_background": "light"
     },
     "output_type": "display_data"
    }
   ],
   "source": [
    "plt.rcParams.update({'font.size': 18})\n",
    "print('Tomato')\n",
    "binwidth = 0.5\n",
    "lim = max(LocPerCluster) + 3\n",
    "plt.hist(LocPerCluster, bins=np.arange(0, lim + binwidth, binwidth))\n",
    "GT_loc = 25\n",
    "plt.axvline(x=GT_loc, label='GT'.format(GT), c='DarkOrange', linewidth=2.5)\n",
    "plt.xlabel('Loc per cluster')\n",
    "plt.xlim([0, lim])\n",
    "plt.legend()\n",
    "plt.show()"
   ]
  },
  {
   "cell_type": "code",
   "execution_count": 29,
   "metadata": {},
   "outputs": [
    {
     "name": "stdout",
     "output_type": "stream",
     "text": [
      "528\n"
     ]
    }
   ],
   "source": []
  },
  {
   "cell_type": "code",
   "execution_count": 17,
   "metadata": {},
   "outputs": [
    {
     "data": {
      "text/plain": [
       "0       16.0\n",
       "1       16.0\n",
       "2       16.0\n",
       "3       16.0\n",
       "4       16.0\n",
       "        ... \n",
       "1495     0.0\n",
       "1496     0.0\n",
       "1497     0.0\n",
       "1498     0.0\n",
       "1499     0.0\n",
       "Name: graphic_labels, Length: 1500, dtype: float64"
      ]
     },
     "execution_count": 17,
     "metadata": {},
     "output_type": "execute_result"
    }
   ],
   "source": [
    "labs"
   ]
  },
  {
   "cell_type": "code",
   "execution_count": null,
   "metadata": {},
   "outputs": [],
   "source": []
  }
 ],
 "metadata": {
  "kernelspec": {
   "display_name": "Python 3",
   "language": "python",
   "name": "python3"
  },
  "language_info": {
   "codemirror_mode": {
    "name": "ipython",
    "version": 3
   },
   "file_extension": ".py",
   "mimetype": "text/x-python",
   "name": "python",
   "nbconvert_exporter": "python",
   "pygments_lexer": "ipython3",
   "version": "3.8.5"
  }
 },
 "nbformat": 4,
 "nbformat_minor": 4
}
