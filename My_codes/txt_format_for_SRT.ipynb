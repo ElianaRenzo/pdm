{
 "cells": [
  {
   "cell_type": "code",
   "execution_count": 1,
   "metadata": {},
   "outputs": [],
   "source": [
    "def csv_to_txt(data_in_csv, new_name):\n",
    "    NumberOfDetections = len(data_in_csv.index)\n",
    "    with open('/Users/Eliana/Documents/PDM/tests/txtfiles/' + new_name , 'w') as f: \n",
    "        print(1, NumberOfDetections, file = f)\n",
    "        for i,point in data_in_csv.iterrows():\n",
    "            print(str(point['x']) + ' ' + str(point['y']) + ' ' + str(point['N_photons']) + ' '+ str(0), file = f)"
   ]
  },
  {
   "cell_type": "code",
   "execution_count": null,
   "metadata": {},
   "outputs": [],
   "source": []
  }
 ],
 "metadata": {
  "kernelspec": {
   "display_name": "Python 3",
   "language": "python",
   "name": "python3"
  },
  "language_info": {
   "codemirror_mode": {
    "name": "ipython",
    "version": 3
   },
   "file_extension": ".py",
   "mimetype": "text/x-python",
   "name": "python",
   "nbconvert_exporter": "python",
   "pygments_lexer": "ipython3",
   "version": "3.8.5"
  }
 },
 "nbformat": 4,
 "nbformat_minor": 4
}
