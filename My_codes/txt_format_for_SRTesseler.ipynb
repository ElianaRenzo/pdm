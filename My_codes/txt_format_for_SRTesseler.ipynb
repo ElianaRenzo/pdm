{
 "cells": [
  {
   "cell_type": "code",
   "execution_count": 2,
   "metadata": {},
   "outputs": [],
   "source": [
    "import numpy as np \n",
    "import pandas as pd \n",
    "import math"
   ]
  },
  {
   "cell_type": "code",
   "execution_count": 6,
   "metadata": {},
   "outputs": [],
   "source": [
    "data = pd.read_csv('/Users/Eliana/Documents/PDM/tests/standard/simulated_SMLM_1_0.csv')"
   ]
  },
  {
   "cell_type": "code",
   "execution_count": 7,
   "metadata": {},
   "outputs": [],
   "source": [
    "def csv_to_txt(data_in_csv, new_name):\n",
    "    NumberOfDetections = len(data_in_csv.index)\n",
    "    with open('/Users/Eliana/Documents/PDM/tests/txtfiles/' + new_name , 'w') as f: \n",
    "        print(1, NumberOfDetections, file = f)\n",
    "        for i,j in data_in_csv.iterrows():\n",
    "            shift = np.random.uniform(low = 0, high = 500)\n",
    "            print(str(j['x']) + ' ' + str(j['y']) + ' ' + str(10000 + shift) + ' '+ str(0), file = f)"
   ]
  },
  {
   "cell_type": "code",
   "execution_count": 8,
   "metadata": {},
   "outputs": [],
   "source": [
    "csv_to_txt(data, 'standard_0.txt')"
   ]
  },
  {
   "cell_type": "markdown",
   "metadata": {},
   "source": [
    "première ligne: number of planes, number of detections \n",
    "ensuite, chaque ligne: x y intensity frame sigma\n",
    "(sigma is optionnal)"
   ]
  },
  {
   "cell_type": "markdown",
   "metadata": {},
   "source": [
    "qq tests:"
   ]
  },
  {
   "cell_type": "code",
   "execution_count": 15,
   "metadata": {},
   "outputs": [
    {
     "name": "stdout",
     "output_type": "stream",
     "text": [
      "x            530.586518\n",
      "y           1500.929276\n",
      "labels_1       1.000000\n",
      "Name: 2, dtype: float64\n",
      "530.5865177132499 1500.929275606749 1.0\n"
     ]
    }
   ],
   "source": [
    "for i,j in data.iterrows():\n",
    "    if i == 2:\n",
    "        print(j)\n",
    "        print(str(j['x']) + ' ' + str(j['y']) + ' ' + str(j['labels_1']))"
   ]
  },
  {
   "cell_type": "code",
   "execution_count": null,
   "metadata": {},
   "outputs": [],
   "source": [
    "with open('/Users/Eliana/Documents/PDM/tests/txtfiles/myfile.txt', 'w') as f:\n",
    "    print(dict_parameters, file=f)\n",
    "    print('# ' + comment, file = f)\n"
   ]
  }
 ],
 "metadata": {
  "kernelspec": {
   "display_name": "Python 3",
   "language": "python",
   "name": "python3"
  },
  "language_info": {
   "codemirror_mode": {
    "name": "ipython",
    "version": 3
   },
   "file_extension": ".py",
   "mimetype": "text/x-python",
   "name": "python",
   "nbconvert_exporter": "python",
   "pygments_lexer": "ipython3",
   "version": "3.8.5"
  }
 },
 "nbformat": 4,
 "nbformat_minor": 4
}
