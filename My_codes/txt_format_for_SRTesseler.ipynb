{
 "cells": [
  {
   "cell_type": "code",
   "execution_count": 1,
   "metadata": {},
   "outputs": [],
   "source": [
    "import numpy as np \n",
    "import pandas as pd \n",
    "import math"
   ]
  },
  {
   "cell_type": "code",
   "execution_count": 7,
   "metadata": {},
   "outputs": [],
   "source": [
    "path = '/Users/Eliana/Documents/PDM/Codes/My_codes/Deviations_from_standard/'\n",
    "data = pd.read_csv(path + 'Data/standard/simulated_SMLM_1_0.csv')"
   ]
  },
  {
   "cell_type": "code",
   "execution_count": 10,
   "metadata": {},
   "outputs": [],
   "source": [
    "def csv_to_txt(data_in_csv, new_name):\n",
    "    NumberOfDetections = len(data_in_csv.index)\n",
    "    with open(path + 'Data/txt_files/' + new_name , 'w') as f: \n",
    "        print(1, NumberOfDetections, file = f)\n",
    "        for i,point in data_in_csv.iterrows():\n",
    "            print(str(point['x']) + ' ' + str(point['y']) + ' ' + str(point['N_photons']) + ' '+ str(0), file = f)"
   ]
  },
  {
   "cell_type": "markdown",
   "metadata": {},
   "source": []
  },
  {
   "cell_type": "code",
   "execution_count": 11,
   "metadata": {},
   "outputs": [],
   "source": [
    "csv_to_txt(data, 'standard.txt')"
   ]
  },
  {
   "cell_type": "markdown",
   "metadata": {},
   "source": [
    "première ligne: number of planes, number of detections \n",
    "ensuite, chaque ligne: x y intensity frame sigma\n",
    "(sigma is optionnal)"
   ]
  },
  {
   "cell_type": "markdown",
   "metadata": {},
   "source": [
    "qq tests:"
   ]
  },
  {
   "cell_type": "code",
   "execution_count": 15,
   "metadata": {},
   "outputs": [
    {
     "name": "stdout",
     "output_type": "stream",
     "text": [
      "x            530.586518\n",
      "y           1500.929276\n",
      "labels_1       1.000000\n",
      "Name: 2, dtype: float64\n",
      "530.5865177132499 1500.929275606749 1.0\n"
     ]
    }
   ],
   "source": [
    "for i,j in data.iterrows():\n",
    "    if i == 2:\n",
    "        print(j)\n",
    "        print(str(j['x']) + ' ' + str(j['y']) + ' ' + str(j['labels_1']))"
   ]
  },
  {
   "cell_type": "code",
   "execution_count": null,
   "metadata": {},
   "outputs": [],
   "source": [
    "with open('/Users/Eliana/Documents/PDM/tests/txtfiles/myfile.txt', 'w') as f:\n",
    "    print(dict_parameters, file=f)\n",
    "    print('# ' + comment, file = f)\n"
   ]
  },
  {
   "cell_type": "code",
   "execution_count": null,
   "metadata": {},
   "outputs": [],
   "source": [
    "## Utiliser les données que Juliette m'a données pour les clusterer sur SR-T "
   ]
  },
  {
   "cell_type": "code",
   "execution_count": 14,
   "metadata": {},
   "outputs": [],
   "source": [
    "def csv_to_txt_2(data_in_csv, new_name):\n",
    "    NumberOfDetections = len(data_in_csv.index)\n",
    "    with open('/Users/Eliana/Documents/PDM/tests/txtfiles/' + new_name , 'w') as f: \n",
    "        print(1, NumberOfDetections, file = f)\n",
    "        for i,j in data_in_csv.iterrows():\n",
    "            #shift = np.random.uniform(low = 0, high = 500)\n",
    "            print(str(j['x']) + ' ' + str(j['y']) + ' ' + str(j['N_photons']) + ' '+ str(0), file = f)"
   ]
  },
  {
   "cell_type": "code",
   "execution_count": 15,
   "metadata": {},
   "outputs": [
    {
     "data": {
      "text/plain": [
       "Index(['id', 'frame', 'x', 'y', 'N_photons', 'sigma'], dtype='object')"
      ]
     },
     "execution_count": 15,
     "metadata": {},
     "output_type": "execute_result"
    }
   ],
   "source": [
    "path_and_file = '/Users/Eliana/Documents/PDM/2juin_aRanger/eliana_test_DData.csv'\n",
    "\n",
    "data = pd.read_csv(path_and_file)\n",
    "data\n",
    "\n",
    "data.columns\n"
   ]
  },
  {
   "cell_type": "code",
   "execution_count": 9,
   "metadata": {},
   "outputs": [],
   "source": [
    "data.columns = ['id', 'frame', 'x', 'y', 'sigma', 'N_photons', 'offset', 'rien' ,'poubelle', 'poubelle']"
   ]
  },
  {
   "cell_type": "code",
   "execution_count": 10,
   "metadata": {},
   "outputs": [
    {
     "data": {
      "text/html": [
       "<div>\n",
       "<style scoped>\n",
       "    .dataframe tbody tr th:only-of-type {\n",
       "        vertical-align: middle;\n",
       "    }\n",
       "\n",
       "    .dataframe tbody tr th {\n",
       "        vertical-align: top;\n",
       "    }\n",
       "\n",
       "    .dataframe thead th {\n",
       "        text-align: right;\n",
       "    }\n",
       "</style>\n",
       "<table border=\"1\" class=\"dataframe\">\n",
       "  <thead>\n",
       "    <tr style=\"text-align: right;\">\n",
       "      <th></th>\n",
       "      <th>id</th>\n",
       "      <th>frame</th>\n",
       "      <th>x</th>\n",
       "      <th>y</th>\n",
       "      <th>sigma</th>\n",
       "      <th>N_photons</th>\n",
       "      <th>offset</th>\n",
       "      <th>rien</th>\n",
       "      <th>poubelle</th>\n",
       "      <th>poubelle</th>\n",
       "    </tr>\n",
       "  </thead>\n",
       "  <tbody>\n",
       "    <tr>\n",
       "      <th>0</th>\n",
       "      <td>1.0</td>\n",
       "      <td>1.0</td>\n",
       "      <td>3895.939347</td>\n",
       "      <td>3214.382655</td>\n",
       "      <td>72.954275</td>\n",
       "      <td>69.870893</td>\n",
       "      <td>2.689280e+01</td>\n",
       "      <td>2.177036</td>\n",
       "      <td>55.225042</td>\n",
       "      <td>15.277128</td>\n",
       "    </tr>\n",
       "    <tr>\n",
       "      <th>1</th>\n",
       "      <td>2.0</td>\n",
       "      <td>1.0</td>\n",
       "      <td>4214.810486</td>\n",
       "      <td>26857.364621</td>\n",
       "      <td>114.238865</td>\n",
       "      <td>143.365328</td>\n",
       "      <td>2.789164e+01</td>\n",
       "      <td>2.293679</td>\n",
       "      <td>56.245029</td>\n",
       "      <td>17.246373</td>\n",
       "    </tr>\n",
       "    <tr>\n",
       "      <th>2</th>\n",
       "      <td>3.0</td>\n",
       "      <td>1.0</td>\n",
       "      <td>5468.689465</td>\n",
       "      <td>4206.234810</td>\n",
       "      <td>107.541033</td>\n",
       "      <td>123.553099</td>\n",
       "      <td>2.730435e+01</td>\n",
       "      <td>2.546381</td>\n",
       "      <td>67.906964</td>\n",
       "      <td>18.350361</td>\n",
       "    </tr>\n",
       "    <tr>\n",
       "      <th>3</th>\n",
       "      <td>4.0</td>\n",
       "      <td>1.0</td>\n",
       "      <td>6609.284929</td>\n",
       "      <td>46912.118737</td>\n",
       "      <td>114.096066</td>\n",
       "      <td>110.092043</td>\n",
       "      <td>2.840765e+01</td>\n",
       "      <td>2.100413</td>\n",
       "      <td>50.433478</td>\n",
       "      <td>19.977297</td>\n",
       "    </tr>\n",
       "    <tr>\n",
       "      <th>4</th>\n",
       "      <td>5.0</td>\n",
       "      <td>1.0</td>\n",
       "      <td>7155.002699</td>\n",
       "      <td>65051.860512</td>\n",
       "      <td>107.515889</td>\n",
       "      <td>184.723908</td>\n",
       "      <td>2.807581e+01</td>\n",
       "      <td>3.452268</td>\n",
       "      <td>121.883079</td>\n",
       "      <td>15.715156</td>\n",
       "    </tr>\n",
       "    <tr>\n",
       "      <th>...</th>\n",
       "      <td>...</td>\n",
       "      <td>...</td>\n",
       "      <td>...</td>\n",
       "      <td>...</td>\n",
       "      <td>...</td>\n",
       "      <td>...</td>\n",
       "      <td>...</td>\n",
       "      <td>...</td>\n",
       "      <td>...</td>\n",
       "      <td>...</td>\n",
       "    </tr>\n",
       "    <tr>\n",
       "      <th>97743</th>\n",
       "      <td>97744.0</td>\n",
       "      <td>4247.0</td>\n",
       "      <td>35565.138785</td>\n",
       "      <td>4218.629989</td>\n",
       "      <td>0.891821</td>\n",
       "      <td>34.138266</td>\n",
       "      <td>2.976173e+01</td>\n",
       "      <td>3.069177</td>\n",
       "      <td>101.245178</td>\n",
       "      <td>4.945416</td>\n",
       "    </tr>\n",
       "    <tr>\n",
       "      <th>97744</th>\n",
       "      <td>97745.0</td>\n",
       "      <td>4247.0</td>\n",
       "      <td>40118.692060</td>\n",
       "      <td>65305.545040</td>\n",
       "      <td>293.065887</td>\n",
       "      <td>765.549024</td>\n",
       "      <td>3.707180e+01</td>\n",
       "      <td>3.694501</td>\n",
       "      <td>100.098909</td>\n",
       "      <td>25.636972</td>\n",
       "    </tr>\n",
       "    <tr>\n",
       "      <th>97745</th>\n",
       "      <td>97746.0</td>\n",
       "      <td>4247.0</td>\n",
       "      <td>40190.776884</td>\n",
       "      <td>65381.134995</td>\n",
       "      <td>806.449471</td>\n",
       "      <td>20670.736103</td>\n",
       "      <td>2.854263e-09</td>\n",
       "      <td>3.496642</td>\n",
       "      <td>85.965108</td>\n",
       "      <td>9.663573</td>\n",
       "    </tr>\n",
       "    <tr>\n",
       "      <th>97746</th>\n",
       "      <td>97747.0</td>\n",
       "      <td>4247.0</td>\n",
       "      <td>40237.667261</td>\n",
       "      <td>58265.207496</td>\n",
       "      <td>127.391411</td>\n",
       "      <td>252.522466</td>\n",
       "      <td>3.040775e+01</td>\n",
       "      <td>3.428487</td>\n",
       "      <td>107.480915</td>\n",
       "      <td>15.932500</td>\n",
       "    </tr>\n",
       "    <tr>\n",
       "      <th>97747</th>\n",
       "      <td>97748.0</td>\n",
       "      <td>4247.0</td>\n",
       "      <td>58133.536453</td>\n",
       "      <td>20525.392812</td>\n",
       "      <td>115.417543</td>\n",
       "      <td>123.056753</td>\n",
       "      <td>2.929570e+01</td>\n",
       "      <td>2.989520</td>\n",
       "      <td>95.335786</td>\n",
       "      <td>22.056682</td>\n",
       "    </tr>\n",
       "  </tbody>\n",
       "</table>\n",
       "<p>97748 rows × 10 columns</p>\n",
       "</div>"
      ],
      "text/plain": [
       "            id   frame             x             y       sigma     N_photons  \\\n",
       "0          1.0     1.0   3895.939347   3214.382655   72.954275     69.870893   \n",
       "1          2.0     1.0   4214.810486  26857.364621  114.238865    143.365328   \n",
       "2          3.0     1.0   5468.689465   4206.234810  107.541033    123.553099   \n",
       "3          4.0     1.0   6609.284929  46912.118737  114.096066    110.092043   \n",
       "4          5.0     1.0   7155.002699  65051.860512  107.515889    184.723908   \n",
       "...        ...     ...           ...           ...         ...           ...   \n",
       "97743  97744.0  4247.0  35565.138785   4218.629989    0.891821     34.138266   \n",
       "97744  97745.0  4247.0  40118.692060  65305.545040  293.065887    765.549024   \n",
       "97745  97746.0  4247.0  40190.776884  65381.134995  806.449471  20670.736103   \n",
       "97746  97747.0  4247.0  40237.667261  58265.207496  127.391411    252.522466   \n",
       "97747  97748.0  4247.0  58133.536453  20525.392812  115.417543    123.056753   \n",
       "\n",
       "             offset      rien    poubelle   poubelle  \n",
       "0      2.689280e+01  2.177036   55.225042  15.277128  \n",
       "1      2.789164e+01  2.293679   56.245029  17.246373  \n",
       "2      2.730435e+01  2.546381   67.906964  18.350361  \n",
       "3      2.840765e+01  2.100413   50.433478  19.977297  \n",
       "4      2.807581e+01  3.452268  121.883079  15.715156  \n",
       "...             ...       ...         ...        ...  \n",
       "97743  2.976173e+01  3.069177  101.245178   4.945416  \n",
       "97744  3.707180e+01  3.694501  100.098909  25.636972  \n",
       "97745  2.854263e-09  3.496642   85.965108   9.663573  \n",
       "97746  3.040775e+01  3.428487  107.480915  15.932500  \n",
       "97747  2.929570e+01  2.989520   95.335786  22.056682  \n",
       "\n",
       "[97748 rows x 10 columns]"
      ]
     },
     "execution_count": 10,
     "metadata": {},
     "output_type": "execute_result"
    }
   ],
   "source": [
    "data"
   ]
  },
  {
   "cell_type": "code",
   "execution_count": 17,
   "metadata": {},
   "outputs": [],
   "source": [
    "csv_to_txt_2(data,'test_juliette_nosigma.txt')"
   ]
  },
  {
   "cell_type": "code",
   "execution_count": null,
   "metadata": {},
   "outputs": [],
   "source": []
  }
 ],
 "metadata": {
  "kernelspec": {
   "display_name": "Python 3",
   "language": "python",
   "name": "python3"
  },
  "language_info": {
   "codemirror_mode": {
    "name": "ipython",
    "version": 3
   },
   "file_extension": ".py",
   "mimetype": "text/x-python",
   "name": "python",
   "nbconvert_exporter": "python",
   "pygments_lexer": "ipython3",
   "version": "3.8.5"
  }
 },
 "nbformat": 4,
 "nbformat_minor": 4
}
