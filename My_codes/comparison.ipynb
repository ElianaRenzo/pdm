{
 "cells": [
  {
   "cell_type": "code",
   "execution_count": 65,
   "metadata": {},
   "outputs": [],
   "source": [
    "import numpy as np \n",
    "import pandas as pd\n",
    "from sklearn import metrics"
   ]
  },
  {
   "cell_type": "code",
   "execution_count": 88,
   "metadata": {},
   "outputs": [],
   "source": [
    "ID = 1"
   ]
  },
  {
   "cell_type": "code",
   "execution_count": 89,
   "metadata": {},
   "outputs": [],
   "source": [
    "path = '/Users/Eliana/Documents/PDM/Codes/My_codes/Data/'\n",
    "\n",
    "FMI_tomato_1 = []\n",
    "for i in range(30):\n",
    "    data = pd.read_csv(path + 'standard/simulated_SMLM_' + str(ID)+ '_'+ str(i) +'.csv')\n",
    "\n",
    "    truelabels = data['labels_1'].to_numpy()\n",
    "    tomato_labels = pd.read_csv(path + 'tomato_results/tomato_result_' + str(ID)+ '_'+ str(i) +'.csv')['x'].values\n",
    "    res_FMI = metrics.fowlkes_mallows_score(truelabels, tomato_labels)\n",
    "    FMI_tomato_1.append(res_FMI)"
   ]
  },
  {
   "cell_type": "code",
   "execution_count": 90,
   "metadata": {},
   "outputs": [],
   "source": [
    "FMI_graphic_1 = []\n",
    "for i in range(30):\n",
    "    data = pd.read_csv(path + 'standard/simulated_SMLM_' + str(ID)+ '_'+ str(i) +'.csv')\n",
    "\n",
    "    truelabels = data['labels_1'].to_numpy()\n",
    "    graphic_labels = pd.read_csv(path + 'graphic_results/graphic_result_' + str(ID)+ '_'+ str(i) +'.csv',\n",
    "                                 usecols= ['graphic_labels'])['graphic_labels'].to_numpy()\n",
    "    res_FMI = metrics.fowlkes_mallows_score(truelabels, graphic_labels)\n",
    "    FMI_graphic_1.append(res_FMI)"
   ]
  },
  {
   "cell_type": "code",
   "execution_count": 92,
   "metadata": {},
   "outputs": [],
   "source": [
    "ID = 2"
   ]
  },
  {
   "cell_type": "code",
   "execution_count": 93,
   "metadata": {},
   "outputs": [],
   "source": [
    "path = '/Users/Eliana/Documents/PDM/Codes/My_codes/Data/'\n",
    "\n",
    "FMI_tomato_2 = []\n",
    "for i in range(30):\n",
    "    data = pd.read_csv(path + 'low_density/simulated_SMLM_' + str(ID)+ '_'+ str(i) +'.csv')\n",
    "\n",
    "    truelabels = data['labels_1'].to_numpy()\n",
    "    tomato_labels = pd.read_csv(path + 'tomato_results/tomato_result_' + str(ID)+ '_'+ str(i) +'.csv')['x'].values\n",
    "    res_FMI = metrics.fowlkes_mallows_score(truelabels, tomato_labels)\n",
    "    FMI_tomato_2.append(res_FMI)"
   ]
  },
  {
   "cell_type": "code",
   "execution_count": 94,
   "metadata": {},
   "outputs": [],
   "source": [
    "FMI_graphic_2 = []\n",
    "for i in range(30):\n",
    "    data = pd.read_csv(path + 'low_density/simulated_SMLM_' + str(ID)+ '_'+ str(i) +'.csv')\n",
    "\n",
    "    truelabels = data['labels_1'].to_numpy()\n",
    "    graphic_labels = pd.read_csv(path + 'graphic_results/graphic_result_' + str(ID)+ '_'+ str(i) +'.csv',\n",
    "                                 usecols= ['graphic_labels'])['graphic_labels'].to_numpy()\n",
    "    res_FMI = metrics.fowlkes_mallows_score(truelabels, graphic_labels)\n",
    "    FMI_graphic_2.append(res_FMI)"
   ]
  },
  {
   "cell_type": "code",
   "execution_count": 96,
   "metadata": {},
   "outputs": [],
   "source": [
    "ID = 3"
   ]
  },
  {
   "cell_type": "code",
   "execution_count": 97,
   "metadata": {},
   "outputs": [],
   "source": [
    "path = '/Users/Eliana/Documents/PDM/Codes/My_codes/Data/'\n",
    "\n",
    "FMI_tomato_3 = []\n",
    "for i in range(30):\n",
    "    data = pd.read_csv(path + 'high_noise/simulated_SMLM_' + str(ID)+ '_'+ str(i) +'.csv')\n",
    "\n",
    "    truelabels = data['labels_1'].to_numpy()\n",
    "    tomato_labels = pd.read_csv(path + 'tomato_results/tomato_result_' + str(ID)+ '_'+ str(i) +'.csv')['x'].values\n",
    "    res_FMI = metrics.fowlkes_mallows_score(truelabels, tomato_labels)\n",
    "    FMI_tomato_3.append(res_FMI)"
   ]
  },
  {
   "cell_type": "code",
   "execution_count": 98,
   "metadata": {},
   "outputs": [],
   "source": [
    "FMI_graphic_3 = []\n",
    "for i in range(30):\n",
    "    data = pd.read_csv(path + 'high_noise/simulated_SMLM_' + str(ID)+ '_'+ str(i) +'.csv')\n",
    "\n",
    "    truelabels = data['labels_1'].to_numpy()\n",
    "    graphic_labels = pd.read_csv(path + 'graphic_results/graphic_result_' + str(ID)+ '_'+ str(i) +'.csv',\n",
    "                                 usecols= ['graphic_labels'])['graphic_labels'].to_numpy()\n",
    "    res_FMI = metrics.fowlkes_mallows_score(truelabels, graphic_labels)\n",
    "    FMI_graphic_3.append(res_FMI)"
   ]
  },
  {
   "cell_type": "code",
   "execution_count": 102,
   "metadata": {},
   "outputs": [],
   "source": [
    "ID = 4"
   ]
  },
  {
   "cell_type": "code",
   "execution_count": 103,
   "metadata": {},
   "outputs": [],
   "source": [
    "path = '/Users/Eliana/Documents/PDM/Codes/My_codes/Data/'\n",
    "\n",
    "FMI_tomato_4 = []\n",
    "for i in range(30):\n",
    "    data = pd.read_csv(path + 'different_densities/simulated_SMLM_' + str(ID)+ '_'+ str(i) +'.csv')\n",
    "\n",
    "    truelabels = data['labels_1'].to_numpy()\n",
    "    tomato_labels = pd.read_csv(path + 'tomato_results/tomato_result_' + str(ID)+ '_'+ str(i) +'.csv')['x'].values\n",
    "    res_FMI = metrics.fowlkes_mallows_score(truelabels, tomato_labels)\n",
    "    FMI_tomato_4.append(res_FMI)"
   ]
  },
  {
   "cell_type": "code",
   "execution_count": 105,
   "metadata": {},
   "outputs": [],
   "source": [
    "FMI_graphic_4 = []\n",
    "for i in range(30):\n",
    "    data = pd.read_csv(path + 'different_densities/simulated_SMLM_' + str(ID)+ '_'+ str(i) +'.csv')\n",
    "\n",
    "    truelabels = data['labels_1'].to_numpy()\n",
    "    graphic_labels = pd.read_csv(path + 'graphic_results/graphic_result_' + str(ID)+ '_'+ str(i) +'.csv',\n",
    "                                 usecols= ['graphic_labels'])['graphic_labels'].to_numpy()\n",
    "    res_FMI = metrics.fowlkes_mallows_score(truelabels, graphic_labels)\n",
    "    FMI_graphic_4.append(res_FMI)"
   ]
  },
  {
   "cell_type": "code",
   "execution_count": 91,
   "metadata": {
    "scrolled": false
   },
   "outputs": [
    {
     "name": "stdout",
     "output_type": "stream",
     "text": [
      "standard\n"
     ]
    },
    {
     "data": {
      "image/png": "[encoded data removed]",
      "text/plain": [
       "<Figure size 432x288 with 1 Axes>"
      ]
     },
     "metadata": {
      "needs_background": "light"
     },
     "output_type": "display_data"
    }
   ],
   "source": [
    "df1 = pd.DataFrame(FMI_tomato_1, columns = ['FMI tomato'])\n",
    "df1['FMI graphic'] = FMI_graphic_1\n",
    "print('standard')\n",
    "boxplot = df1.boxplot()"
   ]
  },
  {
   "cell_type": "code",
   "execution_count": 95,
   "metadata": {},
   "outputs": [
    {
     "name": "stdout",
     "output_type": "stream",
     "text": [
      "low density\n"
     ]
    },
    {
     "data": {
      "image/png": "[encoded data removed]",
      "text/plain": [
       "<Figure size 432x288 with 1 Axes>"
      ]
     },
     "metadata": {
      "needs_background": "light"
     },
     "output_type": "display_data"
    }
   ],
   "source": [
    "df2 = pd.DataFrame(FMI_tomato_2, columns = ['FMI tomato'])\n",
    "df2['FMI graphic'] = FMI_graphic_2\n",
    "print('low density')\n",
    "boxplot = df2.boxplot()"
   ]
  },
  {
   "cell_type": "code",
   "execution_count": 106,
   "metadata": {},
   "outputs": [
    {
     "name": "stdout",
     "output_type": "stream",
     "text": [
      "different densities\n"
     ]
    },
    {
     "data": {
      "image/png": "[encoded data removed]",
      "text/plain": [
       "<Figure size 432x288 with 1 Axes>"
      ]
     },
     "metadata": {
      "needs_background": "light"
     },
     "output_type": "display_data"
    }
   ],
   "source": [
    "df4 = pd.DataFrame(FMI_tomato_4, columns = ['FMI tomato'])\n",
    "df4['FMI graphic'] = FMI_graphic_4\n",
    "print('different densities')\n",
    "boxplot = df4.boxplot()"
   ]
  },
  {
   "cell_type": "code",
   "execution_count": 99,
   "metadata": {},
   "outputs": [
    {
     "name": "stdout",
     "output_type": "stream",
     "text": [
      "higher nosie level\n"
     ]
    },
    {
     "data": {
      "image/png": "[encoded data removed]",
      "text/plain": [
       "<Figure size 432x288 with 1 Axes>"
      ]
     },
     "metadata": {
      "needs_background": "light"
     },
     "output_type": "display_data"
    }
   ],
   "source": [
    "df3 = pd.DataFrame(FMI_tomato_3, columns = ['FMI tomato'])\n",
    "df3['FMI graphic'] = FMI_graphic_3\n",
    "print('higher nosie level')\n",
    "boxplot = df3.boxplot()"
   ]
  },
  {
   "cell_type": "code",
   "execution_count": 5,
   "metadata": {},
   "outputs": [],
   "source": [
    "ID = 2"
   ]
  },
  {
   "cell_type": "code",
   "execution_count": 6,
   "metadata": {},
   "outputs": [],
   "source": [
    "path = '/Users/Eliana/Documents/PDM/Codes/My_codes/Data/'\n",
    "data = pd.read_csv(path + 'simulated_SMLM_' + str(ID)+ '.csv')\n",
    "\n",
    "truelabels = data['labels_1'].to_numpy()\n",
    "tomato_labels = pd.read_csv(path + 'tomato_result_' + str(ID) + '.csv')['x'].values"
   ]
  },
  {
   "cell_type": "code",
   "execution_count": 7,
   "metadata": {},
   "outputs": [
    {
     "name": "stdout",
     "output_type": "stream",
     "text": [
      "0.9859063734647504\n"
     ]
    }
   ],
   "source": [
    "res_FMI = metrics.fowlkes_mallows_score(truelabels, tomato_labels)\n",
    "print(res_FMI)"
   ]
  },
  {
   "cell_type": "code",
   "execution_count": 9,
   "metadata": {},
   "outputs": [],
   "source": [
    "ID = 3"
   ]
  },
  {
   "cell_type": "code",
   "execution_count": 10,
   "metadata": {},
   "outputs": [],
   "source": [
    "path = '/Users/Eliana/Documents/PDM/Codes/My_codes/Data/'\n",
    "data = pd.read_csv(path + 'simulated_SMLM_' + str(ID)+ '.csv')\n",
    "\n",
    "truelabels = data['labels_1'].to_numpy()\n",
    "tomato_labels = pd.read_csv(path + 'tomato_result_' + str(ID) + '.csv')['x'].values"
   ]
  },
  {
   "cell_type": "code",
   "execution_count": 11,
   "metadata": {},
   "outputs": [
    {
     "name": "stdout",
     "output_type": "stream",
     "text": [
      "0.9808769419924483\n"
     ]
    }
   ],
   "source": [
    "res_FMI = metrics.fowlkes_mallows_score(truelabels, tomato_labels)\n",
    "print(res_FMI)"
   ]
  },
  {
   "cell_type": "code",
   "execution_count": 12,
   "metadata": {},
   "outputs": [],
   "source": [
    "ID = 4"
   ]
  },
  {
   "cell_type": "code",
   "execution_count": 13,
   "metadata": {},
   "outputs": [],
   "source": [
    "path = '/Users/Eliana/Documents/PDM/Codes/My_codes/Data/'\n",
    "data = pd.read_csv(path + 'simulated_SMLM_' + str(ID)+ '.csv')\n",
    "\n",
    "truelabels = data['labels_1'].to_numpy()\n",
    "tomato_labels = pd.read_csv(path + 'tomato_result_' + str(ID) + '.csv')['x'].values"
   ]
  },
  {
   "cell_type": "code",
   "execution_count": 14,
   "metadata": {},
   "outputs": [
    {
     "name": "stdout",
     "output_type": "stream",
     "text": [
      "0.9791596316107485\n"
     ]
    }
   ],
   "source": [
    "res_FMI = metrics.fowlkes_mallows_score(truelabels, tomato_labels)\n",
    "print(res_FMI)"
   ]
  },
  {
   "cell_type": "code",
   "execution_count": null,
   "metadata": {},
   "outputs": [],
   "source": []
  }
 ],
 "metadata": {
  "kernelspec": {
   "display_name": "Python 3",
   "language": "python",
   "name": "python3"
  },
  "language_info": {
   "codemirror_mode": {
    "name": "ipython",
    "version": 3
   },
   "file_extension": ".py",
   "mimetype": "text/x-python",
   "name": "python",
   "nbconvert_exporter": "python",
   "pygments_lexer": "ipython3",
   "version": "3.8.5"
  }
 },
 "nbformat": 4,
 "nbformat_minor": 4
}
