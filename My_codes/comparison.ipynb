{
 "cells": [
  {
   "cell_type": "code",
   "execution_count": 3,
   "metadata": {},
   "outputs": [],
   "source": [
    "import numpy as np \n",
    "import pandas as pd\n",
    "from sklearn import metrics\n",
    "import numpy as np\n",
    "import pandas as pd\n",
    "import matplotlib.pyplot as plt\n",
    "import math"
   ]
  },
  {
   "cell_type": "code",
   "execution_count": 33,
   "metadata": {},
   "outputs": [],
   "source": [
    "%run ./DataGen2.ipynb"
   ]
  },
  {
   "cell_type": "markdown",
   "metadata": {},
   "source": [
    "# Ce notebook compare les méthodes graphic, Voronoi, Tomato, et DB-scan. \n",
    " Il lit les résutlats de Tomato et de Voronoi dans les dossiers SRT_analysis et Tomato_analysis, mais crée lui-même les résutlats de graphic et de DB-scan. Ansi, les résutlats de graphic et de DB-scan ne sont pas enregistrés dans des dossiers, mais leurs analyses de l'images sont immédiatement interpértées et traitées par le notebook (FMI, nombre de clusters, nombre de loc per cluster.)"
   ]
  },
  {
   "cell_type": "code",
   "execution_count": 31,
   "metadata": {},
   "outputs": [
    {
     "data": {
      "text/html": [
       "<div>\n",
       "<style scoped>\n",
       "    .dataframe tbody tr th:only-of-type {\n",
       "        vertical-align: middle;\n",
       "    }\n",
       "\n",
       "    .dataframe tbody tr th {\n",
       "        vertical-align: top;\n",
       "    }\n",
       "\n",
       "    .dataframe thead th {\n",
       "        text-align: right;\n",
       "    }\n",
       "</style>\n",
       "<table border=\"1\" class=\"dataframe\">\n",
       "  <thead>\n",
       "    <tr style=\"text-align: right;\">\n",
       "      <th></th>\n",
       "      <th>x</th>\n",
       "      <th>y</th>\n",
       "      <th>labels_1</th>\n",
       "      <th>sigma</th>\n",
       "      <th>N_photons</th>\n",
       "      <th>cov_matrix</th>\n",
       "    </tr>\n",
       "  </thead>\n",
       "  <tbody>\n",
       "    <tr>\n",
       "      <th>0</th>\n",
       "      <td>774.132777</td>\n",
       "      <td>3698.445655</td>\n",
       "      <td>1</td>\n",
       "      <td>19.073448</td>\n",
       "      <td>150.0</td>\n",
       "      <td>[[363.79643425885024, 0], [0, 363.796434258850...</td>\n",
       "    </tr>\n",
       "    <tr>\n",
       "      <th>1</th>\n",
       "      <td>737.727181</td>\n",
       "      <td>3638.100638</td>\n",
       "      <td>1</td>\n",
       "      <td>24.638480</td>\n",
       "      <td>150.0</td>\n",
       "      <td>[[607.0546739977143, 0], [0, 607.0546739977143]]</td>\n",
       "    </tr>\n",
       "    <tr>\n",
       "      <th>2</th>\n",
       "      <td>801.034153</td>\n",
       "      <td>3656.952111</td>\n",
       "      <td>1</td>\n",
       "      <td>15.635927</td>\n",
       "      <td>150.0</td>\n",
       "      <td>[[244.4822021042119, 0], [0, 244.4822021042119]]</td>\n",
       "    </tr>\n",
       "    <tr>\n",
       "      <th>3</th>\n",
       "      <td>787.398430</td>\n",
       "      <td>3624.356494</td>\n",
       "      <td>1</td>\n",
       "      <td>21.637043</td>\n",
       "      <td>150.0</td>\n",
       "      <td>[[468.1616387080229, 0], [0, 468.1616387080229]]</td>\n",
       "    </tr>\n",
       "    <tr>\n",
       "      <th>4</th>\n",
       "      <td>805.259117</td>\n",
       "      <td>3675.032411</td>\n",
       "      <td>1</td>\n",
       "      <td>15.213736</td>\n",
       "      <td>150.0</td>\n",
       "      <td>[[231.45776309048685, 0], [0, 231.457763090486...</td>\n",
       "    </tr>\n",
       "    <tr>\n",
       "      <th>...</th>\n",
       "      <td>...</td>\n",
       "      <td>...</td>\n",
       "      <td>...</td>\n",
       "      <td>...</td>\n",
       "      <td>...</td>\n",
       "      <td>...</td>\n",
       "    </tr>\n",
       "    <tr>\n",
       "      <th>1915</th>\n",
       "      <td>3603.428700</td>\n",
       "      <td>2097.001260</td>\n",
       "      <td>0</td>\n",
       "      <td>19.785264</td>\n",
       "      <td>150.0</td>\n",
       "      <td>[[391.4566736016968, 0], [0, 391.4566736016968]]</td>\n",
       "    </tr>\n",
       "    <tr>\n",
       "      <th>1916</th>\n",
       "      <td>1144.725875</td>\n",
       "      <td>1992.950875</td>\n",
       "      <td>0</td>\n",
       "      <td>19.012283</td>\n",
       "      <td>150.0</td>\n",
       "      <td>[[361.4669171541754, 0], [0, 361.4669171541754]]</td>\n",
       "    </tr>\n",
       "    <tr>\n",
       "      <th>1917</th>\n",
       "      <td>1638.614843</td>\n",
       "      <td>1406.869673</td>\n",
       "      <td>0</td>\n",
       "      <td>18.704047</td>\n",
       "      <td>150.0</td>\n",
       "      <td>[[349.8413817473289, 0], [0, 349.8413817473289]]</td>\n",
       "    </tr>\n",
       "    <tr>\n",
       "      <th>1918</th>\n",
       "      <td>423.618937</td>\n",
       "      <td>210.980774</td>\n",
       "      <td>0</td>\n",
       "      <td>13.158830</td>\n",
       "      <td>150.0</td>\n",
       "      <td>[[173.15480261697536, 0], [0, 173.154802616975...</td>\n",
       "    </tr>\n",
       "    <tr>\n",
       "      <th>1919</th>\n",
       "      <td>2407.333691</td>\n",
       "      <td>3659.636231</td>\n",
       "      <td>0</td>\n",
       "      <td>13.797906</td>\n",
       "      <td>150.0</td>\n",
       "      <td>[[190.3822218126082, 0], [0, 190.3822218126082]]</td>\n",
       "    </tr>\n",
       "  </tbody>\n",
       "</table>\n",
       "<p>1920 rows × 6 columns</p>\n",
       "</div>"
      ],
      "text/plain": [
       "                x            y  labels_1      sigma  N_photons  \\\n",
       "0      774.132777  3698.445655         1  19.073448      150.0   \n",
       "1      737.727181  3638.100638         1  24.638480      150.0   \n",
       "2      801.034153  3656.952111         1  15.635927      150.0   \n",
       "3      787.398430  3624.356494         1  21.637043      150.0   \n",
       "4      805.259117  3675.032411         1  15.213736      150.0   \n",
       "...           ...          ...       ...        ...        ...   \n",
       "1915  3603.428700  2097.001260         0  19.785264      150.0   \n",
       "1916  1144.725875  1992.950875         0  19.012283      150.0   \n",
       "1917  1638.614843  1406.869673         0  18.704047      150.0   \n",
       "1918   423.618937   210.980774         0  13.158830      150.0   \n",
       "1919  2407.333691  3659.636231         0  13.797906      150.0   \n",
       "\n",
       "                                             cov_matrix  \n",
       "0     [[363.79643425885024, 0], [0, 363.796434258850...  \n",
       "1      [[607.0546739977143, 0], [0, 607.0546739977143]]  \n",
       "2      [[244.4822021042119, 0], [0, 244.4822021042119]]  \n",
       "3      [[468.1616387080229, 0], [0, 468.1616387080229]]  \n",
       "4     [[231.45776309048685, 0], [0, 231.457763090486...  \n",
       "...                                                 ...  \n",
       "1915   [[391.4566736016968, 0], [0, 391.4566736016968]]  \n",
       "1916   [[361.4669171541754, 0], [0, 361.4669171541754]]  \n",
       "1917   [[349.8413817473289, 0], [0, 349.8413817473289]]  \n",
       "1918  [[173.15480261697536, 0], [0, 173.154802616975...  \n",
       "1919   [[190.3822218126082, 0], [0, 190.3822218126082]]  \n",
       "\n",
       "[1920 rows x 6 columns]"
      ]
     },
     "execution_count": 31,
     "metadata": {},
     "output_type": "execute_result"
    }
   ],
   "source": [
    "GT = pd.read_csv(path + 'Data/standard/simulated_SMLM_1_0.csv')"
   ]
  },
  {
   "cell_type": "code",
   "execution_count": 41,
   "metadata": {},
   "outputs": [
    {
     "name": "stdout",
     "output_type": "stream",
     "text": [
      "Help on function calling_graphic in module __main__:\n",
      "\n",
      "calling_graphic(data, sigma_s=30.0, noise_thresh=0.5)\n",
      "\n"
     ]
    }
   ],
   "source": [
    "help(calling_graphic)"
   ]
  },
  {
   "cell_type": "code",
   "execution_count": 32,
   "metadata": {},
   "outputs": [
    {
     "data": {
      "text/html": [
       "<div>\n",
       "<style scoped>\n",
       "    .dataframe tbody tr th:only-of-type {\n",
       "        vertical-align: middle;\n",
       "    }\n",
       "\n",
       "    .dataframe tbody tr th {\n",
       "        vertical-align: top;\n",
       "    }\n",
       "\n",
       "    .dataframe thead th {\n",
       "        text-align: right;\n",
       "    }\n",
       "</style>\n",
       "<table border=\"1\" class=\"dataframe\">\n",
       "  <thead>\n",
       "    <tr style=\"text-align: right;\">\n",
       "      <th></th>\n",
       "      <th>x</th>\n",
       "    </tr>\n",
       "  </thead>\n",
       "  <tbody>\n",
       "    <tr>\n",
       "      <th>1</th>\n",
       "      <td>0</td>\n",
       "    </tr>\n",
       "    <tr>\n",
       "      <th>2</th>\n",
       "      <td>0</td>\n",
       "    </tr>\n",
       "    <tr>\n",
       "      <th>3</th>\n",
       "      <td>1</td>\n",
       "    </tr>\n",
       "    <tr>\n",
       "      <th>4</th>\n",
       "      <td>1</td>\n",
       "    </tr>\n",
       "    <tr>\n",
       "      <th>5</th>\n",
       "      <td>1</td>\n",
       "    </tr>\n",
       "    <tr>\n",
       "      <th>...</th>\n",
       "      <td>...</td>\n",
       "    </tr>\n",
       "    <tr>\n",
       "      <th>1916</th>\n",
       "      <td>0</td>\n",
       "    </tr>\n",
       "    <tr>\n",
       "      <th>1917</th>\n",
       "      <td>0</td>\n",
       "    </tr>\n",
       "    <tr>\n",
       "      <th>1918</th>\n",
       "      <td>0</td>\n",
       "    </tr>\n",
       "    <tr>\n",
       "      <th>1919</th>\n",
       "      <td>0</td>\n",
       "    </tr>\n",
       "    <tr>\n",
       "      <th>1920</th>\n",
       "      <td>0</td>\n",
       "    </tr>\n",
       "  </tbody>\n",
       "</table>\n",
       "<p>1920 rows × 1 columns</p>\n",
       "</div>"
      ],
      "text/plain": [
       "      x\n",
       "1     0\n",
       "2     0\n",
       "3     1\n",
       "4     1\n",
       "5     1\n",
       "...  ..\n",
       "1916  0\n",
       "1917  0\n",
       "1918  0\n",
       "1919  0\n",
       "1920  0\n",
       "\n",
       "[1920 rows x 1 columns]"
      ]
     },
     "execution_count": 32,
     "metadata": {},
     "output_type": "execute_result"
    }
   ],
   "source": [
    "voronoi = pd.read_csv(path + method_folder + 'voronoi_result_' + str(ID)+ '_'+ str(0) +'.csv', index_col = 0)"
   ]
  },
  {
   "cell_type": "code",
   "execution_count": 39,
   "metadata": {},
   "outputs": [
    {
     "data": {
      "text/html": [
       "<div>\n",
       "<style scoped>\n",
       "    .dataframe tbody tr th:only-of-type {\n",
       "        vertical-align: middle;\n",
       "    }\n",
       "\n",
       "    .dataframe tbody tr th {\n",
       "        vertical-align: top;\n",
       "    }\n",
       "\n",
       "    .dataframe thead th {\n",
       "        text-align: right;\n",
       "    }\n",
       "</style>\n",
       "<table border=\"1\" class=\"dataframe\">\n",
       "  <thead>\n",
       "    <tr style=\"text-align: right;\">\n",
       "      <th></th>\n",
       "      <th>x</th>\n",
       "    </tr>\n",
       "  </thead>\n",
       "  <tbody>\n",
       "    <tr>\n",
       "      <th>1</th>\n",
       "      <td>1</td>\n",
       "    </tr>\n",
       "    <tr>\n",
       "      <th>2</th>\n",
       "      <td>1</td>\n",
       "    </tr>\n",
       "    <tr>\n",
       "      <th>3</th>\n",
       "      <td>1</td>\n",
       "    </tr>\n",
       "    <tr>\n",
       "      <th>4</th>\n",
       "      <td>1</td>\n",
       "    </tr>\n",
       "    <tr>\n",
       "      <th>5</th>\n",
       "      <td>1</td>\n",
       "    </tr>\n",
       "    <tr>\n",
       "      <th>...</th>\n",
       "      <td>...</td>\n",
       "    </tr>\n",
       "    <tr>\n",
       "      <th>1916</th>\n",
       "      <td>0</td>\n",
       "    </tr>\n",
       "    <tr>\n",
       "      <th>1917</th>\n",
       "      <td>0</td>\n",
       "    </tr>\n",
       "    <tr>\n",
       "      <th>1918</th>\n",
       "      <td>0</td>\n",
       "    </tr>\n",
       "    <tr>\n",
       "      <th>1919</th>\n",
       "      <td>0</td>\n",
       "    </tr>\n",
       "    <tr>\n",
       "      <th>1920</th>\n",
       "      <td>0</td>\n",
       "    </tr>\n",
       "  </tbody>\n",
       "</table>\n",
       "<p>1920 rows × 1 columns</p>\n",
       "</div>"
      ],
      "text/plain": [
       "      x\n",
       "1     1\n",
       "2     1\n",
       "3     1\n",
       "4     1\n",
       "5     1\n",
       "...  ..\n",
       "1916  0\n",
       "1917  0\n",
       "1918  0\n",
       "1919  0\n",
       "1920  0\n",
       "\n",
       "[1920 rows x 1 columns]"
      ]
     },
     "execution_count": 39,
     "metadata": {},
     "output_type": "execute_result"
    }
   ],
   "source": [
    "tomato = pd.read_csv(path + 'Tomato_analysis/' + 'tomato_result_' + str(ID)+ '_'+ str(0) +'.csv', index_col = 0)"
   ]
  },
  {
   "cell_type": "code",
   "execution_count": 40,
   "metadata": {},
   "outputs": [
    {
     "data": {
      "image/png": "[encoded data removed]",
      "text/plain": [
       "<Figure size 720x720 with 1 Axes>"
      ]
     },
     "metadata": {
      "needs_background": "light"
     },
     "output_type": "display_data"
    }
   ],
   "source": [
    "Ps = GT[['x', 'y']].to_numpy()\n",
    "plot_points(Ps, tomato['x'].to_numpy(), 'titre', s= 1)"
   ]
  },
  {
   "cell_type": "code",
   "execution_count": 35,
   "metadata": {},
   "outputs": [
    {
     "name": "stdout",
     "output_type": "stream",
     "text": [
      "Help on function plot_points in module __main__:\n",
      "\n",
      "plot_points(P, labels, plot_tile, s)\n",
      "\n"
     ]
    }
   ],
   "source": [
    "help(plot_points)"
   ]
  },
  {
   "cell_type": "code",
   "execution_count": 4,
   "metadata": {},
   "outputs": [],
   "source": [
    "path = '/Users/Eliana/Documents/PDM/Codes/My_codes/Deviations_from_standard/'"
   ]
  },
  {
   "cell_type": "code",
   "execution_count": 5,
   "metadata": {},
   "outputs": [],
   "source": [
    "ID = 1\n",
    "method_folder = 'SRT_analysis/'\n",
    "configuration_folder = 'standard/'"
   ]
  },
  {
   "cell_type": "code",
   "execution_count": 28,
   "metadata": {},
   "outputs": [],
   "source": [
    "#data = pd.read_csv(path + method_folder + 'voronoi_result_' + str(ID)+ '_'+ str(i) +'.csv')\n",
    "data = pd.read_csv(path + method_folder + 'voronoi_result_' + str(ID)+ '_'+ str(29) +'.csv', index_col = 0)"
   ]
  },
  {
   "cell_type": "code",
   "execution_count": 89,
   "metadata": {},
   "outputs": [],
   "source": [
    "FMI_tomato_1 = []\n",
    "for i in range(30):\n",
    "    data = pd.read_csv(path + 'standard/simulated_SMLM_' + str(ID)+ '_'+ str(i) +'.csv')\n",
    "\n",
    "    truelabels = data['labels_1'].to_numpy()\n",
    "    tomato_labels = pd.read_csv(path + 'tomato_results/tomato_result_' + str(ID)+ '_'+ str(i) +'.csv')['x'].values\n",
    "    res_FMI = metrics.fowlkes_mallows_score(truelabels, tomato_labels)\n",
    "    FMI_tomato_1.append(res_FMI)"
   ]
  },
  {
   "cell_type": "code",
   "execution_count": 90,
   "metadata": {},
   "outputs": [],
   "source": [
    "FMI_graphic_1 = []\n",
    "for i in range(30):\n",
    "    data = pd.read_csv(path + 'standard/simulated_SMLM_' + str(ID)+ '_'+ str(i) +'.csv')\n",
    "\n",
    "    truelabels = data['labels_1'].to_numpy()\n",
    "    graphic_labels = pd.read_csv(path + 'graphic_results/graphic_result_' + str(ID)+ '_'+ str(i) +'.csv',\n",
    "                                 usecols= ['graphic_labels'])['graphic_labels'].to_numpy()\n",
    "    res_FMI = metrics.fowlkes_mallows_score(truelabels, graphic_labels)\n",
    "    FMI_graphic_1.append(res_FMI)"
   ]
  },
  {
   "cell_type": "code",
   "execution_count": 92,
   "metadata": {},
   "outputs": [],
   "source": [
    "ID = 2"
   ]
  },
  {
   "cell_type": "code",
   "execution_count": 93,
   "metadata": {},
   "outputs": [],
   "source": [
    "path = '/Users/Eliana/Documents/PDM/Codes/My_codes/Data/'\n",
    "\n",
    "FMI_tomato_2 = []\n",
    "for i in range(30):\n",
    "    data = pd.read_csv(path + 'low_density/simulated_SMLM_' + str(ID)+ '_'+ str(i) +'.csv')\n",
    "\n",
    "    truelabels = data['labels_1'].to_numpy()\n",
    "    tomato_labels = pd.read_csv(path + 'tomato_results/tomato_result_' + str(ID)+ '_'+ str(i) +'.csv')['x'].values\n",
    "    res_FMI = metrics.fowlkes_mallows_score(truelabels, tomato_labels)\n",
    "    FMI_tomato_2.append(res_FMI)"
   ]
  },
  {
   "cell_type": "code",
   "execution_count": 94,
   "metadata": {},
   "outputs": [],
   "source": [
    "FMI_graphic_2 = []\n",
    "for i in range(30):\n",
    "    data = pd.read_csv(path + 'low_density/simulated_SMLM_' + str(ID)+ '_'+ str(i) +'.csv')\n",
    "\n",
    "    truelabels = data['labels_1'].to_numpy()\n",
    "    graphic_labels = pd.read_csv(path + 'graphic_results/graphic_result_' + str(ID)+ '_'+ str(i) +'.csv',\n",
    "                                 usecols= ['graphic_labels'])['graphic_labels'].to_numpy()\n",
    "    res_FMI = metrics.fowlkes_mallows_score(truelabels, graphic_labels)\n",
    "    FMI_graphic_2.append(res_FMI)"
   ]
  },
  {
   "cell_type": "code",
   "execution_count": 96,
   "metadata": {},
   "outputs": [],
   "source": [
    "ID = 3"
   ]
  },
  {
   "cell_type": "code",
   "execution_count": 97,
   "metadata": {},
   "outputs": [],
   "source": [
    "path = '/Users/Eliana/Documents/PDM/Codes/My_codes/Data/'\n",
    "\n",
    "FMI_tomato_3 = []\n",
    "for i in range(30):\n",
    "    data = pd.read_csv(path + 'high_noise/simulated_SMLM_' + str(ID)+ '_'+ str(i) +'.csv')\n",
    "\n",
    "    truelabels = data['labels_1'].to_numpy()\n",
    "    tomato_labels = pd.read_csv(path + 'tomato_results/tomato_result_' + str(ID)+ '_'+ str(i) +'.csv')['x'].values\n",
    "    res_FMI = metrics.fowlkes_mallows_score(truelabels, tomato_labels)\n",
    "    FMI_tomato_3.append(res_FMI)"
   ]
  },
  {
   "cell_type": "code",
   "execution_count": 98,
   "metadata": {},
   "outputs": [],
   "source": [
    "FMI_graphic_3 = []\n",
    "for i in range(30):\n",
    "    data = pd.read_csv(path + 'high_noise/simulated_SMLM_' + str(ID)+ '_'+ str(i) +'.csv')\n",
    "\n",
    "    truelabels = data['labels_1'].to_numpy()\n",
    "    graphic_labels = pd.read_csv(path + 'graphic_results/graphic_result_' + str(ID)+ '_'+ str(i) +'.csv',\n",
    "                                 usecols= ['graphic_labels'])['graphic_labels'].to_numpy()\n",
    "    res_FMI = metrics.fowlkes_mallows_score(truelabels, graphic_labels)\n",
    "    FMI_graphic_3.append(res_FMI)"
   ]
  },
  {
   "cell_type": "code",
   "execution_count": 102,
   "metadata": {},
   "outputs": [],
   "source": [
    "ID = 4"
   ]
  },
  {
   "cell_type": "code",
   "execution_count": 103,
   "metadata": {},
   "outputs": [],
   "source": [
    "path = '/Users/Eliana/Documents/PDM/Codes/My_codes/Data/'\n",
    "\n",
    "FMI_tomato_4 = []\n",
    "for i in range(30):\n",
    "    data = pd.read_csv(path + 'different_densities/simulated_SMLM_' + str(ID)+ '_'+ str(i) +'.csv')\n",
    "\n",
    "    truelabels = data['labels_1'].to_numpy()\n",
    "    tomato_labels = pd.read_csv(path + 'tomato_results/tomato_result_' + str(ID)+ '_'+ str(i) +'.csv')['x'].values\n",
    "    res_FMI = metrics.fowlkes_mallows_score(truelabels, tomato_labels)\n",
    "    FMI_tomato_4.append(res_FMI)"
   ]
  },
  {
   "cell_type": "code",
   "execution_count": 105,
   "metadata": {},
   "outputs": [],
   "source": [
    "FMI_graphic_4 = []\n",
    "for i in range(30):\n",
    "    data = pd.read_csv(path + 'different_densities/simulated_SMLM_' + str(ID)+ '_'+ str(i) +'.csv')\n",
    "\n",
    "    truelabels = data['labels_1'].to_numpy()\n",
    "    graphic_labels = pd.read_csv(path + 'graphic_results/graphic_result_' + str(ID)+ '_'+ str(i) +'.csv',\n",
    "                                 usecols= ['graphic_labels'])['graphic_labels'].to_numpy()\n",
    "    res_FMI = metrics.fowlkes_mallows_score(truelabels, graphic_labels)\n",
    "    FMI_graphic_4.append(res_FMI)"
   ]
  },
  {
   "cell_type": "code",
   "execution_count": 91,
   "metadata": {
    "scrolled": false
   },
   "outputs": [
    {
     "name": "stdout",
     "output_type": "stream",
     "text": [
      "standard\n"
     ]
    },
    {
     "data": {
      "image/png": "[encoded data removed]",
      "text/plain": [
       "<Figure size 432x288 with 1 Axes>"
      ]
     },
     "metadata": {
      "needs_background": "light"
     },
     "output_type": "display_data"
    }
   ],
   "source": [
    "df1 = pd.DataFrame(FMI_tomato_1, columns = ['FMI tomato'])\n",
    "df1['FMI graphic'] = FMI_graphic_1\n",
    "print('standard')\n",
    "boxplot = df1.boxplot()"
   ]
  },
  {
   "cell_type": "code",
   "execution_count": 95,
   "metadata": {},
   "outputs": [
    {
     "name": "stdout",
     "output_type": "stream",
     "text": [
      "low density\n"
     ]
    },
    {
     "data": {
      "image/png": "[encoded data removed]",
      "text/plain": [
       "<Figure size 432x288 with 1 Axes>"
      ]
     },
     "metadata": {
      "needs_background": "light"
     },
     "output_type": "display_data"
    }
   ],
   "source": [
    "df2 = pd.DataFrame(FMI_tomato_2, columns = ['FMI tomato'])\n",
    "df2['FMI graphic'] = FMI_graphic_2\n",
    "print('low density')\n",
    "boxplot = df2.boxplot()"
   ]
  },
  {
   "cell_type": "code",
   "execution_count": 106,
   "metadata": {},
   "outputs": [
    {
     "name": "stdout",
     "output_type": "stream",
     "text": [
      "different densities\n"
     ]
    },
    {
     "data": {
      "image/png": "[encoded data removed]",
      "text/plain": [
       "<Figure size 432x288 with 1 Axes>"
      ]
     },
     "metadata": {
      "needs_background": "light"
     },
     "output_type": "display_data"
    }
   ],
   "source": [
    "df4 = pd.DataFrame(FMI_tomato_4, columns = ['FMI tomato'])\n",
    "df4['FMI graphic'] = FMI_graphic_4\n",
    "print('different densities')\n",
    "boxplot = df4.boxplot()"
   ]
  },
  {
   "cell_type": "code",
   "execution_count": 99,
   "metadata": {},
   "outputs": [
    {
     "name": "stdout",
     "output_type": "stream",
     "text": [
      "higher nosie level\n"
     ]
    },
    {
     "data": {
      "image/png": "[encoded data removed]",
      "text/plain": [
       "<Figure size 432x288 with 1 Axes>"
      ]
     },
     "metadata": {
      "needs_background": "light"
     },
     "output_type": "display_data"
    }
   ],
   "source": [
    "df3 = pd.DataFrame(FMI_tomato_3, columns = ['FMI tomato'])\n",
    "df3['FMI graphic'] = FMI_graphic_3\n",
    "print('higher nosie level')\n",
    "boxplot = df3.boxplot()"
   ]
  },
  {
   "cell_type": "code",
   "execution_count": 5,
   "metadata": {},
   "outputs": [],
   "source": [
    "ID = 2"
   ]
  },
  {
   "cell_type": "code",
   "execution_count": 6,
   "metadata": {},
   "outputs": [],
   "source": [
    "path = '/Users/Eliana/Documents/PDM/Codes/My_codes/Data/'\n",
    "data = pd.read_csv(path + 'simulated_SMLM_' + str(ID)+ '.csv')\n",
    "\n",
    "truelabels = data['labels_1'].to_numpy()\n",
    "tomato_labels = pd.read_csv(path + 'tomato_result_' + str(ID) + '.csv')['x'].values"
   ]
  },
  {
   "cell_type": "code",
   "execution_count": 7,
   "metadata": {},
   "outputs": [
    {
     "name": "stdout",
     "output_type": "stream",
     "text": [
      "0.9859063734647504\n"
     ]
    }
   ],
   "source": [
    "res_FMI = metrics.fowlkes_mallows_score(truelabels, tomato_labels)\n",
    "print(res_FMI)"
   ]
  },
  {
   "cell_type": "code",
   "execution_count": 9,
   "metadata": {},
   "outputs": [],
   "source": [
    "ID = 3"
   ]
  },
  {
   "cell_type": "code",
   "execution_count": 10,
   "metadata": {},
   "outputs": [],
   "source": [
    "path = '/Users/Eliana/Documents/PDM/Codes/My_codes/Data/'\n",
    "data = pd.read_csv(path + 'simulated_SMLM_' + str(ID)+ '.csv')\n",
    "\n",
    "truelabels = data['labels_1'].to_numpy()\n",
    "tomato_labels = pd.read_csv(path + 'tomato_result_' + str(ID) + '.csv')['x'].values"
   ]
  },
  {
   "cell_type": "code",
   "execution_count": 11,
   "metadata": {},
   "outputs": [
    {
     "name": "stdout",
     "output_type": "stream",
     "text": [
      "0.9808769419924483\n"
     ]
    }
   ],
   "source": [
    "res_FMI = metrics.fowlkes_mallows_score(truelabels, tomato_labels)\n",
    "print(res_FMI)"
   ]
  },
  {
   "cell_type": "code",
   "execution_count": 12,
   "metadata": {},
   "outputs": [],
   "source": [
    "ID = 4"
   ]
  },
  {
   "cell_type": "code",
   "execution_count": 13,
   "metadata": {},
   "outputs": [],
   "source": [
    "path = '/Users/Eliana/Documents/PDM/Codes/My_codes/Data/'\n",
    "data = pd.read_csv(path + 'simulated_SMLM_' + str(ID)+ '.csv')\n",
    "\n",
    "truelabels = data['labels_1'].to_numpy()\n",
    "tomato_labels = pd.read_csv(path + 'tomato_result_' + str(ID) + '.csv')['x'].values"
   ]
  },
  {
   "cell_type": "code",
   "execution_count": 14,
   "metadata": {},
   "outputs": [
    {
     "name": "stdout",
     "output_type": "stream",
     "text": [
      "0.9791596316107485\n"
     ]
    }
   ],
   "source": [
    "res_FMI = metrics.fowlkes_mallows_score(truelabels, tomato_labels)\n",
    "print(res_FMI)"
   ]
  },
  {
   "cell_type": "code",
   "execution_count": 73,
   "metadata": {},
   "outputs": [
    {
     "data": {
      "text/plain": [
       "\"\\n# low density \\nGT_2 = pd.read_csv('/Users/Eliana/Documents/PDM/tests/low_density/simulated_SMLM_2_0.csv')\\ngraphic_result_2 = pd.read_csv('/Users/Eliana/Documents/PDM/tests/graphic_results/graphic_result_2_0.csv')\\n\\n# high noise \\nGT_3 = pd.read_csv('/Users/Eliana/Documents/PDM/tests/high_noise/simulated_SMLM_3_0.csv')\\ngraphic_result_3 = pd.read_csv('/Users/Eliana/Documents/PDM/tests/graphic_results/graphic_result_3_0.csv')\\n\""
      ]
     },
     "execution_count": 73,
     "metadata": {},
     "output_type": "execute_result"
    }
   ],
   "source": [
    "# standard\n",
    "GT_1 = pd.read_csv('/Users/Eliana/Documents/PDM/tests/standard/simulated_SMLM_1_0.csv')\n",
    "graphic_result_1 = pd.read_csv('/Users/Eliana/Documents/PDM/tests/graphic_results/graphic_result_1_0.csv')\n",
    "tomato_result_1 = pd.read_csv('/Users/Eliana/Documents/PDM/tests/tomato_results/tomato_result_1_0.csv')\n",
    "srtesseler_result_1 = pd.read_csv('/Users/Eliana/Documents/PDM/tests/srtesseler_results/ObjectsStats_standard_0.xls')\n",
    "'''\n",
    "# low density \n",
    "GT_2 = pd.read_csv('/Users/Eliana/Documents/PDM/tests/low_density/simulated_SMLM_2_0.csv')\n",
    "graphic_result_2 = pd.read_csv('/Users/Eliana/Documents/PDM/tests/graphic_results/graphic_result_2_0.csv')\n",
    "\n",
    "# high noise \n",
    "GT_3 = pd.read_csv('/Users/Eliana/Documents/PDM/tests/high_noise/simulated_SMLM_3_0.csv')\n",
    "graphic_result_3 = pd.read_csv('/Users/Eliana/Documents/PDM/tests/graphic_results/graphic_result_3_0.csv')\n",
    "'''\n"
   ]
  },
  {
   "cell_type": "code",
   "execution_count": 78,
   "metadata": {},
   "outputs": [
    {
     "ename": "ParserError",
     "evalue": "Error tokenizing data. C error: Expected 2 fields in line 21, saw 3\n",
     "output_type": "error",
     "traceback": [
      "\u001b[0;31m---------------------------------------------------------------------------\u001b[0m",
      "\u001b[0;31mParserError\u001b[0m                               Traceback (most recent call last)",
      "\u001b[0;32m<ipython-input-78-cde7083620ac>\u001b[0m in \u001b[0;36m<module>\u001b[0;34m\u001b[0m\n\u001b[0;32m----> 1\u001b[0;31m \u001b[0msrtesseler_result_1\u001b[0m \u001b[0;34m=\u001b[0m \u001b[0mpd\u001b[0m\u001b[0;34m.\u001b[0m\u001b[0mread_csv\u001b[0m\u001b[0;34m(\u001b[0m\u001b[0;34m'/Users/Eliana/Documents/PDM/tests/srtesseler_results/SR_result_standard.xlsx'\u001b[0m\u001b[0;34m)\u001b[0m\u001b[0;34m\u001b[0m\u001b[0;34m\u001b[0m\u001b[0m\n\u001b[0m",
      "\u001b[0;32m~/opt/anaconda3/lib/python3.8/site-packages/pandas/io/parsers.py\u001b[0m in \u001b[0;36mread_csv\u001b[0;34m(filepath_or_buffer, sep, delimiter, header, names, index_col, usecols, squeeze, prefix, mangle_dupe_cols, dtype, engine, converters, true_values, false_values, skipinitialspace, skiprows, skipfooter, nrows, na_values, keep_default_na, na_filter, verbose, skip_blank_lines, parse_dates, infer_datetime_format, keep_date_col, date_parser, dayfirst, cache_dates, iterator, chunksize, compression, thousands, decimal, lineterminator, quotechar, quoting, doublequote, escapechar, comment, encoding, dialect, error_bad_lines, warn_bad_lines, delim_whitespace, low_memory, memory_map, float_precision)\u001b[0m\n\u001b[1;32m    684\u001b[0m     )\n\u001b[1;32m    685\u001b[0m \u001b[0;34m\u001b[0m\u001b[0m\n\u001b[0;32m--> 686\u001b[0;31m     \u001b[0;32mreturn\u001b[0m \u001b[0m_read\u001b[0m\u001b[0;34m(\u001b[0m\u001b[0mfilepath_or_buffer\u001b[0m\u001b[0;34m,\u001b[0m \u001b[0mkwds\u001b[0m\u001b[0;34m)\u001b[0m\u001b[0;34m\u001b[0m\u001b[0;34m\u001b[0m\u001b[0m\n\u001b[0m\u001b[1;32m    687\u001b[0m \u001b[0;34m\u001b[0m\u001b[0m\n\u001b[1;32m    688\u001b[0m \u001b[0;34m\u001b[0m\u001b[0m\n",
      "\u001b[0;32m~/opt/anaconda3/lib/python3.8/site-packages/pandas/io/parsers.py\u001b[0m in \u001b[0;36m_read\u001b[0;34m(filepath_or_buffer, kwds)\u001b[0m\n\u001b[1;32m    456\u001b[0m \u001b[0;34m\u001b[0m\u001b[0m\n\u001b[1;32m    457\u001b[0m     \u001b[0;32mtry\u001b[0m\u001b[0;34m:\u001b[0m\u001b[0;34m\u001b[0m\u001b[0;34m\u001b[0m\u001b[0m\n\u001b[0;32m--> 458\u001b[0;31m         \u001b[0mdata\u001b[0m \u001b[0;34m=\u001b[0m \u001b[0mparser\u001b[0m\u001b[0;34m.\u001b[0m\u001b[0mread\u001b[0m\u001b[0;34m(\u001b[0m\u001b[0mnrows\u001b[0m\u001b[0;34m)\u001b[0m\u001b[0;34m\u001b[0m\u001b[0;34m\u001b[0m\u001b[0m\n\u001b[0m\u001b[1;32m    459\u001b[0m     \u001b[0;32mfinally\u001b[0m\u001b[0;34m:\u001b[0m\u001b[0;34m\u001b[0m\u001b[0;34m\u001b[0m\u001b[0m\n\u001b[1;32m    460\u001b[0m         \u001b[0mparser\u001b[0m\u001b[0;34m.\u001b[0m\u001b[0mclose\u001b[0m\u001b[0;34m(\u001b[0m\u001b[0;34m)\u001b[0m\u001b[0;34m\u001b[0m\u001b[0;34m\u001b[0m\u001b[0m\n",
      "\u001b[0;32m~/opt/anaconda3/lib/python3.8/site-packages/pandas/io/parsers.py\u001b[0m in \u001b[0;36mread\u001b[0;34m(self, nrows)\u001b[0m\n\u001b[1;32m   1194\u001b[0m     \u001b[0;32mdef\u001b[0m \u001b[0mread\u001b[0m\u001b[0;34m(\u001b[0m\u001b[0mself\u001b[0m\u001b[0;34m,\u001b[0m \u001b[0mnrows\u001b[0m\u001b[0;34m=\u001b[0m\u001b[0;32mNone\u001b[0m\u001b[0;34m)\u001b[0m\u001b[0;34m:\u001b[0m\u001b[0;34m\u001b[0m\u001b[0;34m\u001b[0m\u001b[0m\n\u001b[1;32m   1195\u001b[0m         \u001b[0mnrows\u001b[0m \u001b[0;34m=\u001b[0m \u001b[0m_validate_integer\u001b[0m\u001b[0;34m(\u001b[0m\u001b[0;34m\"nrows\"\u001b[0m\u001b[0;34m,\u001b[0m \u001b[0mnrows\u001b[0m\u001b[0;34m)\u001b[0m\u001b[0;34m\u001b[0m\u001b[0;34m\u001b[0m\u001b[0m\n\u001b[0;32m-> 1196\u001b[0;31m         \u001b[0mret\u001b[0m \u001b[0;34m=\u001b[0m \u001b[0mself\u001b[0m\u001b[0;34m.\u001b[0m\u001b[0m_engine\u001b[0m\u001b[0;34m.\u001b[0m\u001b[0mread\u001b[0m\u001b[0;34m(\u001b[0m\u001b[0mnrows\u001b[0m\u001b[0;34m)\u001b[0m\u001b[0;34m\u001b[0m\u001b[0;34m\u001b[0m\u001b[0m\n\u001b[0m\u001b[1;32m   1197\u001b[0m \u001b[0;34m\u001b[0m\u001b[0m\n\u001b[1;32m   1198\u001b[0m         \u001b[0;31m# May alter columns / col_dict\u001b[0m\u001b[0;34m\u001b[0m\u001b[0;34m\u001b[0m\u001b[0;34m\u001b[0m\u001b[0m\n",
      "\u001b[0;32m~/opt/anaconda3/lib/python3.8/site-packages/pandas/io/parsers.py\u001b[0m in \u001b[0;36mread\u001b[0;34m(self, nrows)\u001b[0m\n\u001b[1;32m   2153\u001b[0m     \u001b[0;32mdef\u001b[0m \u001b[0mread\u001b[0m\u001b[0;34m(\u001b[0m\u001b[0mself\u001b[0m\u001b[0;34m,\u001b[0m \u001b[0mnrows\u001b[0m\u001b[0;34m=\u001b[0m\u001b[0;32mNone\u001b[0m\u001b[0;34m)\u001b[0m\u001b[0;34m:\u001b[0m\u001b[0;34m\u001b[0m\u001b[0;34m\u001b[0m\u001b[0m\n\u001b[1;32m   2154\u001b[0m         \u001b[0;32mtry\u001b[0m\u001b[0;34m:\u001b[0m\u001b[0;34m\u001b[0m\u001b[0;34m\u001b[0m\u001b[0m\n\u001b[0;32m-> 2155\u001b[0;31m             \u001b[0mdata\u001b[0m \u001b[0;34m=\u001b[0m \u001b[0mself\u001b[0m\u001b[0;34m.\u001b[0m\u001b[0m_reader\u001b[0m\u001b[0;34m.\u001b[0m\u001b[0mread\u001b[0m\u001b[0;34m(\u001b[0m\u001b[0mnrows\u001b[0m\u001b[0;34m)\u001b[0m\u001b[0;34m\u001b[0m\u001b[0;34m\u001b[0m\u001b[0m\n\u001b[0m\u001b[1;32m   2156\u001b[0m         \u001b[0;32mexcept\u001b[0m \u001b[0mStopIteration\u001b[0m\u001b[0;34m:\u001b[0m\u001b[0;34m\u001b[0m\u001b[0;34m\u001b[0m\u001b[0m\n\u001b[1;32m   2157\u001b[0m             \u001b[0;32mif\u001b[0m \u001b[0mself\u001b[0m\u001b[0;34m.\u001b[0m\u001b[0m_first_chunk\u001b[0m\u001b[0;34m:\u001b[0m\u001b[0;34m\u001b[0m\u001b[0;34m\u001b[0m\u001b[0m\n",
      "\u001b[0;32mpandas/_libs/parsers.pyx\u001b[0m in \u001b[0;36mpandas._libs.parsers.TextReader.read\u001b[0;34m()\u001b[0m\n",
      "\u001b[0;32mpandas/_libs/parsers.pyx\u001b[0m in \u001b[0;36mpandas._libs.parsers.TextReader._read_low_memory\u001b[0;34m()\u001b[0m\n",
      "\u001b[0;32mpandas/_libs/parsers.pyx\u001b[0m in \u001b[0;36mpandas._libs.parsers.TextReader._read_rows\u001b[0;34m()\u001b[0m\n",
      "\u001b[0;32mpandas/_libs/parsers.pyx\u001b[0m in \u001b[0;36mpandas._libs.parsers.TextReader._tokenize_rows\u001b[0;34m()\u001b[0m\n",
      "\u001b[0;32mpandas/_libs/parsers.pyx\u001b[0m in \u001b[0;36mpandas._libs.parsers.raise_parser_error\u001b[0;34m()\u001b[0m\n",
      "\u001b[0;31mParserError\u001b[0m: Error tokenizing data. C error: Expected 2 fields in line 21, saw 3\n"
     ]
    }
   ],
   "source": [
    "srtesseler_result_1 = pd.read_csv('/Users/Eliana/Documents/PDM/tests/srtesseler_results/SR_result_standard.xlsx')"
   ]
  },
  {
   "cell_type": "code",
   "execution_count": 58,
   "metadata": {},
   "outputs": [
    {
     "name": "stdout",
     "output_type": "stream",
     "text": [
      "Number Of Clusters found by GrapHiC =  44.0\n",
      "Number Of Clusters found by ToMATo =  40\n"
     ]
    }
   ],
   "source": [
    "# NumberOfClusters_graphic = max(graphic_result_1['graphic_labels']) # ca marche plus depuis que des labels sont discarded par le post-processing step qui remove the small clusters\n",
    "NumberOfClusters_graphic = len(graphic_result_1['graphic_labels'].unique())-1\n",
    "print('Number Of Clusters found by GrapHiC = ', NumberOfClusters_graphic)\n",
    "#NumberOfClusters_tomato = max(tomato_result_1['x'])\n",
    "NumberOfClusters_tomato = len(tomato_result_1['x'].unique())-1\n",
    "print('Number Of Clusters found by ToMATo = ', NumberOfClusters_tomato)"
   ]
  },
  {
   "cell_type": "code",
   "execution_count": 82,
   "metadata": {},
   "outputs": [],
   "source": [
    "path  = '/Users/Eliana/Documents/PDM/tests/'\n",
    "FMI_tomato_1 = []\n",
    "for i in range(1):\n",
    "    data = pd.read_csv(path + 'standard/simulated_SMLM_' + str(ID)+ '_'+ str(i) +'.csv')\n",
    "\n",
    "    truelabels = data['labels_1'].to_numpy()\n",
    "    tomato_labels = pd.read_csv(path + 'tomato_results/tomato_result_' + str(ID)+ '_'+ str(i) +'.csv')['x'].values\n",
    "    res_FMI = metrics.fowlkes_mallows_score(truelabels, tomato_labels)\n",
    "    FMI_tomato_1.append(res_FMI)"
   ]
  },
  {
   "cell_type": "code",
   "execution_count": 86,
   "metadata": {},
   "outputs": [],
   "source": [
    "FMI_graphic_1 = []\n",
    "for i in range(1):\n",
    "    data = pd.read_csv(path + 'standard/simulated_SMLM_' + str(ID)+ '_'+ str(i) +'.csv')\n",
    "\n",
    "    truelabels = data['labels_1'].to_numpy()\n",
    "    graphic_labels = pd.read_csv(path + 'graphic_results/graphic_result_' + str(ID)+ '_'+ str(i) +'.csv',\n",
    "                                 usecols= ['graphic_labels'])['graphic_labels'].to_numpy()\n",
    "    res_FMI = metrics.fowlkes_mallows_score(truelabels, tomato_labels)\n",
    "    FMI_graphic_1.append(res_FMI)"
   ]
  },
  {
   "cell_type": "code",
   "execution_count": 87,
   "metadata": {},
   "outputs": [
    {
     "name": "stdout",
     "output_type": "stream",
     "text": [
      "tomato FMI [0.9422984348910202]\n",
      "[0.9422984348910202]\n"
     ]
    }
   ],
   "source": [
    "print('tomato FMI', FMI_tomato_1)\n",
    "print(FMI_graphic_1)"
   ]
  },
  {
   "cell_type": "code",
   "execution_count": 66,
   "metadata": {},
   "outputs": [],
   "source": [
    "# Graphic:\n",
    "labs = graphic_result_1['graphic_labels']\n",
    "LocPerCluster = []\n",
    "LocInNoise = []\n",
    "for clus in labs.unique():\n",
    "        if clus != 0:\n",
    "            LocPerCluster.append(len(labs[(labs==clus)]))\n",
    "        if clus == 0:\n",
    "            LocInNoise.append(len(labs[(labs==clus)]))"
   ]
  },
  {
   "cell_type": "code",
   "execution_count": 67,
   "metadata": {},
   "outputs": [
    {
     "name": "stdout",
     "output_type": "stream",
     "text": [
      "Graphic\n"
     ]
    },
    {
     "data": {
      "image/png": "[encoded data removed]",
      "text/plain": [
       "<Figure size 432x288 with 1 Axes>"
      ]
     },
     "metadata": {
      "needs_background": "light"
     },
     "output_type": "display_data"
    }
   ],
   "source": [
    "plt.rcParams.update({'font.size': 18})\n",
    "print('Graphic')\n",
    "binwidth = 0.5\n",
    "lim = max(LocPerCluster) + 3\n",
    "plt.hist(LocPerCluster, bins=np.arange(0, lim + binwidth, binwidth))\n",
    "GT_loc = 25\n",
    "plt.axvline(x=GT_loc, label='GT'.format(GT), c='DarkOrange', linewidth=2.5)\n",
    "plt.xlabel('Loc per cluster')\n",
    "plt.xlim([0, lim])\n",
    "plt.legend()\n",
    "plt.show()"
   ]
  },
  {
   "cell_type": "code",
   "execution_count": 68,
   "metadata": {},
   "outputs": [],
   "source": [
    "# Tomato : \n",
    "labs = tomato_result_1['x']\n",
    "LocPerCluster = []\n",
    "LocInNoise = []\n",
    "for clus in labs.unique():\n",
    "        if clus != 0:\n",
    "            LocPerCluster.append(len(labs[(labs==clus)]))\n",
    "        if clus == 0:\n",
    "            LocInNoise.append(len(labs[(labs==clus)]))"
   ]
  },
  {
   "cell_type": "code",
   "execution_count": 69,
   "metadata": {},
   "outputs": [
    {
     "name": "stdout",
     "output_type": "stream",
     "text": [
      "Tomato\n"
     ]
    },
    {
     "data": {
      "image/png": "[encoded data removed]",
      "text/plain": [
       "<Figure size 432x288 with 1 Axes>"
      ]
     },
     "metadata": {
      "needs_background": "light"
     },
     "output_type": "display_data"
    }
   ],
   "source": [
    "plt.rcParams.update({'font.size': 18})\n",
    "print('Tomato')\n",
    "binwidth = 0.5\n",
    "lim = max(LocPerCluster) + 3\n",
    "plt.hist(LocPerCluster, bins=np.arange(0, lim + binwidth, binwidth))\n",
    "GT_loc = 25\n",
    "plt.axvline(x=GT_loc, label='GT'.format(GT), c='DarkOrange', linewidth=2.5)\n",
    "plt.xlabel('Loc per cluster')\n",
    "plt.xlim([0, lim])\n",
    "plt.legend()\n",
    "plt.show()"
   ]
  },
  {
   "cell_type": "code",
   "execution_count": 29,
   "metadata": {},
   "outputs": [
    {
     "name": "stdout",
     "output_type": "stream",
     "text": [
      "528\n"
     ]
    }
   ],
   "source": []
  },
  {
   "cell_type": "code",
   "execution_count": 17,
   "metadata": {},
   "outputs": [
    {
     "data": {
      "text/plain": [
       "0       16.0\n",
       "1       16.0\n",
       "2       16.0\n",
       "3       16.0\n",
       "4       16.0\n",
       "        ... \n",
       "1495     0.0\n",
       "1496     0.0\n",
       "1497     0.0\n",
       "1498     0.0\n",
       "1499     0.0\n",
       "Name: graphic_labels, Length: 1500, dtype: float64"
      ]
     },
     "execution_count": 17,
     "metadata": {},
     "output_type": "execute_result"
    }
   ],
   "source": [
    "labs"
   ]
  },
  {
   "cell_type": "code",
   "execution_count": null,
   "metadata": {},
   "outputs": [],
   "source": []
  }
 ],
 "metadata": {
  "kernelspec": {
   "display_name": "Python 3",
   "language": "python",
   "name": "python3"
  },
  "language_info": {
   "codemirror_mode": {
    "name": "ipython",
    "version": 3
   },
   "file_extension": ".py",
   "mimetype": "text/x-python",
   "name": "python",
   "nbconvert_exporter": "python",
   "pygments_lexer": "ipython3",
   "version": "3.8.5"
  }
 },
 "nbformat": 4,
 "nbformat_minor": 4
}
