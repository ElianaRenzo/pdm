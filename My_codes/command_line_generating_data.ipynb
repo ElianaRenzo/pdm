{
 "cells": [
  {
   "cell_type": "markdown",
   "metadata": {},
   "source": [
    "# Generating SMLM data"
   ]
  },
  {
   "cell_type": "code",
   "execution_count": 1,
   "metadata": {},
   "outputs": [],
   "source": [
    "%run ./DataGen2.ipynb"
   ]
  },
  {
   "cell_type": "markdown",
   "metadata": {},
   "source": [
    "### Create a standard SMLM image described in a csv file"
   ]
  },
  {
   "cell_type": "code",
   "execution_count": 2,
   "metadata": {},
   "outputs": [],
   "source": [
    "'''\n",
    " Standard_Param() is a class.\n",
    " Its attributes are the paramaters, and the function Call_DataGenerator takes a Standard_Param object as input.\n",
    " p is an instance of the class Standard_Param. By default, it contains the standard parameters.\n",
    " \n",
    "The function Call_DataGenerator:\n",
    "    input: Standard_Param object p\n",
    "    Calls the DataGenerator constructor, with all the parameters contained in p\n",
    "    output: DataGenerator object.\n",
    "'''\n",
    "\n",
    "\n",
    "p = Standard_Param()\n",
    "\n",
    "data_generator = Call_DataGenerator(p)\n",
    "#data_generator is now an instance of the class DataGenerator \n",
    "\n",
    "path = '/Users/Eliana/Documents/PDM/'\n",
    "data_generator.save_to_csv(path, 'example_standard')\n"
   ]
  },
  {
   "cell_type": "markdown",
   "metadata": {},
   "source": [
    "### Change a paramater before calling the class constructor"
   ]
  },
  {
   "cell_type": "code",
   "execution_count": 3,
   "metadata": {},
   "outputs": [
    {
     "name": "stdout",
     "output_type": "stream",
     "text": [
      "{'x_lim': [0, 4], 'y_lim': [0, 4], 'NumberOfClusters': 40, 'LocPerCluster': [24, 24, 24, 24, 24, 24, 24, 24, 24, 24, 24, 24, 24, 24, 24, 24, 24, 24, 24, 24, 24, 24, 24, 24, 24, 24, 24, 24, 24, 24, 24, 24, 24, 24, 24, 24, 24, 24, 24, 24], 'r': [30, 30, 30, 30, 30, 30, 30, 30, 30, 30, 30, 30, 30, 30, 30, 30, 30, 30, 30, 30, 30, 30, 30, 30, 30, 30, 30, 30, 30, 30, 30, 30, 30, 30, 30, 30, 30, 30, 30, 30], 'cluster_shape': 'uniform', 'NoisePercentage': 0.5, 'UniformNoise': True, 'mean_uncertainty': 20, 'dev_uncertainty': 3, 'N_photons': 15000, 'NumberOfScales': 1, 'RandomSeed': 0}\n",
      "{'x_lim': [0, 4], 'y_lim': [0, 4], 'NumberOfClusters': 40, 'LocPerCluster': [24, 24, 24, 24, 24, 24, 24, 24, 24, 24, 24, 24, 24, 24, 24, 24, 24, 24, 24, 24, 24, 24, 24, 24, 24, 24, 24, 24, 24, 24, 24, 24, 24, 24, 24, 24, 24, 24, 24, 24], 'r': [30, 30, 30, 30, 30, 30, 30, 30, 30, 30, 30, 30, 30, 30, 30, 30, 30, 30, 30, 30, 30, 30, 30, 30, 30, 30, 30, 30, 30, 30, 30, 30, 30, 30, 30, 30, 30, 30, 30, 30], 'cluster_shape': 'uniform', 'NoisePercentage': 0.75, 'UniformNoise': True, 'mean_uncertainty': 20, 'dev_uncertainty': 3, 'N_photons': 15000, 'NumberOfScales': 1, 'RandomSeed': 0}\n"
     ]
    }
   ],
   "source": [
    "# Create p\n",
    "p = Standard_Param()\n",
    "\n",
    "# See the attributes of p\n",
    "print(p.__dict__)\n",
    "\n",
    "# Change something in p\n",
    "p.NoisePercentage    = 0.75\n",
    "\n",
    "# See the attributes of p\n",
    "print(p.__dict__)\n",
    "data_generator = Call_DataGenerator(p)\n",
    "\n",
    "path = '/Users/Eliana/Documents/PDM/'\n",
    "data_generator.save_to_csv(path, 'example_high_noise')"
   ]
  },
  {
   "cell_type": "markdown",
   "metadata": {},
   "source": [
    "### How to change the number of cluster\n",
    "If you don't want 40 clusters, you have to indicate it while constructing p"
   ]
  },
  {
   "cell_type": "code",
   "execution_count": 4,
   "metadata": {},
   "outputs": [
    {
     "name": "stdout",
     "output_type": "stream",
     "text": [
      "{'x_lim': [0, 4], 'y_lim': [0, 4], 'NumberOfClusters': 10, 'LocPerCluster': [24, 24, 24, 24, 24, 24, 24, 24, 24, 24], 'r': [30, 30, 30, 30, 30, 30, 30, 30, 30, 30], 'cluster_shape': 'uniform', 'NoisePercentage': 0.5, 'UniformNoise': True, 'mean_uncertainty': 20, 'dev_uncertainty': 3, 'N_photons': 15000, 'NumberOfScales': 1, 'RandomSeed': 0}\n"
     ]
    }
   ],
   "source": [
    "# Create p\n",
    "p = Standard_Param(NumberOfClusters = 10)\n",
    "\n",
    "print(p.__dict__)\n",
    "\n",
    "data_generator = Call_DataGenerator(p)\n",
    "#data_generator is now an instance of the class DataGenerator \n",
    "\n",
    "path = '/Users/Eliana/Documents/PDM/'\n",
    "data_generator.save_to_csv(path, 'example_less_clusters')"
   ]
  },
  {
   "cell_type": "code",
   "execution_count": null,
   "metadata": {},
   "outputs": [],
   "source": []
  }
 ],
 "metadata": {
  "kernelspec": {
   "display_name": "Python 3",
   "language": "python",
   "name": "python3"
  },
  "language_info": {
   "codemirror_mode": {
    "name": "ipython",
    "version": 3
   },
   "file_extension": ".py",
   "mimetype": "text/x-python",
   "name": "python",
   "nbconvert_exporter": "python",
   "pygments_lexer": "ipython3",
   "version": "3.8.5"
  }
 },
 "nbformat": 4,
 "nbformat_minor": 4
}
